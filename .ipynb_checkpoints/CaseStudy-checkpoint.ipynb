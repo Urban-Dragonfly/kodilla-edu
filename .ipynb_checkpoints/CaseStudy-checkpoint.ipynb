{
 "cells": [
  {
   "cell_type": "markdown",
   "id": "14831882-63df-40d2-9e7d-b37058aceeb3",
   "metadata": {},
   "source": [
    "# Porównanie odsetek kredytowych\n",
    "\n",
    "Zdążyliśmy już poznać niektóre możliwości biblioteki NumPy. Czas, aby wykorzystać nowo nabyte umiejętności w celu rozwiązania problemu osadzonego w otaczających nas realiach.\n",
    "\n",
    "Kredyt bankowy można spłacać na kilka sposobów. Rata płacona na rzecz banku może składać się z dwóch części:\n",
    "    kapitałowej\n",
    "    odsetkowej\n",
    "Część kapitałowa dotyczy spłaty nominalnej wartości pożyczonego kapitału, z kolei część odsetkowa to koszt pożyczenia tego kapitału – innymi słowy jest to zarobek banku.\n",
    "\n",
    "Dwie najpopularniejsze formy spłaty kredytu to spłata w ratach równych oraz spłata w ratach malejących.\n",
    "\n",
    "Przy ratach malejących część kapitałowa jest zawsze taka sama. Oblicza się ją jako wartość pożyczonego kapitału podzieloną przez liczbę okresów spłaty kredytu. Zatem jeśli bierzemy 12000 zł kredytu na rok, spłacanego w okresach miesięcznych, to część kapitałowa będzie wynosiła 1000 zł.\n",
    "\n",
    "Część odsetkowa w tym przypadku będzie zawsze liczona jako procent od wartości kapitału pozostałego do spłaty. Kontynuując przykład z poprzedniego akapitu – w pierwszej racie płacimy odsetki od kwoty 12 tys. zł, a miesiąc później od kwoty 11 tys. zł i tak dalej.\n",
    "\n",
    "Przy ratach równych, jak sama nazwa wskazuje, płacona rata jest przez cały okres kredytowania taka sama. Część odsetkową liczymy w taki sam sposób, tj. jako procent od kapitału pozostałego do spłaty. Z tego powodu stosunek części kapitałowej w kwocie raty zmienia się z każdym okresem. Przy pierwszych płatnościach część kapitałowa jest niewielka i systematycznie rośnie aż do spłaty 100% kapitału.\n",
    "\n",
    "Używając biblioteki NumPy, postaramy się obliczyć kwotę odsetek, jaką po 30 latach kredytowania zapłacimy w zależności od sposobu jego spłacania.\n",
    "\n",
    "Na początku ustalimy warunki zaciąganego kredytu:\n",
    "\n",
    "kapitalizacja odsetek i płatności z tytułu raty – 12 razy w roku\n",
    "stopa procentowa 6,75% w skali roku\n",
    "okres kredytowania – 30 lat\n",
    "kwota kredytu 200 000 zł"
   ]
  },
  {
   "cell_type": "code",
   "execution_count": 1,
   "id": "d0767e19-942c-428c-9acf-5b6800c3a2f7",
   "metadata": {},
   "outputs": [],
   "source": [
    "import numpy as np\n",
    "\n",
    "freq = 12\n",
    "rate = 0.0675\n",
    "years = 30\n",
    "pv = 200000\n",
    "\n",
    "rate /= freq  # konwersja stopy do okresu miesięcznego\n",
    "nper = years * freq  # liczba wszystkich okresów"
   ]
  },
  {
   "cell_type": "markdown",
   "id": "433efde8-d795-45a0-810a-69d464c9ff65",
   "metadata": {},
   "source": [
    "Od razu korygujemy zmienną rate i wprowadzamy nową - nper (number of periods). Stopę procentową wyrażoną w skali roku musimy najpierw dopasować do okresu kapitalizacji. Z kolei nper oznacza liczbę wszystkich okresów kredytowania (liczbę wszystkich płatności ratalnych)."
   ]
  },
  {
   "cell_type": "code",
   "execution_count": 2,
   "id": "9ab4f460-fead-4ac5-bc7d-5ecd8958b728",
   "metadata": {},
   "outputs": [],
   "source": [
    "periods = np.arange(1,nper+1,dtype=int)"
   ]
  },
  {
   "cell_type": "markdown",
   "id": "7f19c7b3-fd5c-4a64-b9db-fc61b8556285",
   "metadata": {},
   "source": [
    "Następnie, będziemy potrzebowali licznika każdej kolejnej płatności. Tworzymy go, przypisując odpowiednio skonstruowany wektor do zmiennej periods.\n",
    "\n",
    "Na pierwszy ogień weźmiemy równe płatności. Dla każdej z nich obliczymy część odsetkową raty. W tym celu wykorzystamy bibliotekę numpy_financial. Biblioteka ta zawiera zestaw funkcji przydatnych w matematyce finansowej."
   ]
  },
  {
   "cell_type": "code",
   "execution_count": 3,
   "id": "b83a4a6a-3e4b-4bb7-8a70-7ebec517c67a",
   "metadata": {},
   "outputs": [
    {
     "data": {
      "text/plain": [
       "array([1125.  , 1124.03, 1123.06, 1122.08, 1121.09, 1120.1 , 1119.11,\n",
       "       1118.1 , 1117.1 , 1116.08])"
      ]
     },
     "execution_count": 3,
     "metadata": {},
     "output_type": "execute_result"
    }
   ],
   "source": [
    "import numpy_financial as npf\n",
    "interest_equal = - np.around(npf.ipmt(rate,periods,nper,pv),2)\n",
    "interest_equal[:10]"
   ]
  },
  {
   "cell_type": "code",
   "execution_count": null,
   "id": "fb976f0e-5d9d-4109-92ab-a4da5eb848dc",
   "metadata": {},
   "outputs": [],
   "source": []
  }
 ],
 "metadata": {
  "kernelspec": {
   "display_name": "Python 3 (ipykernel)",
   "language": "python",
   "name": "python3"
  },
  "language_info": {
   "codemirror_mode": {
    "name": "ipython",
    "version": 3
   },
   "file_extension": ".py",
   "mimetype": "text/x-python",
   "name": "python",
   "nbconvert_exporter": "python",
   "pygments_lexer": "ipython3",
   "version": "3.9.20"
  }
 },
 "nbformat": 4,
 "nbformat_minor": 5
}
