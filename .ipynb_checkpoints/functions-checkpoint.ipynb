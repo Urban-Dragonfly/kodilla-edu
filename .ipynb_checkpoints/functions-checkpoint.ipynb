{
 "cells": [
  {
   "cell_type": "markdown",
   "id": "25789e13-bc5d-412d-b416-df241f5570dc",
   "metadata": {},
   "source": [
    "# Notatnik: Tworzenie funkcji w Pythonie\n",
    "## Jak stworzyć funkcję w Pythonie:\n",
    "### Aby stworzyć funkcję w Pythonie:\n",
    "1. Używamy słowa kluczowego def, po którym następuje nazwa funkcji.\n",
    "2. Po nazwie funkcji podajemy nawiasy okrągłe (), wewnątrz których możemy zdefiniować argumenty (opcjonalnie).\n",
    "3. Zakończ linię dwukropkiem :.\n",
    "4. W kolejnym wierszu, z wcięciem, piszemy ciało funkcji - instrukcje, które ma wykonywać funkcja.\n",
    "5. Jeśli chcemy, aby funkcja zwracała wartość, używamy słowa kluczowego return."
   ]
  },
  {
   "cell_type": "code",
   "execution_count": 3,
   "id": "6686b54d-bac1-448a-b32e-461a73b3da86",
   "metadata": {},
   "outputs": [],
   "source": [
    "# Definicja funkcji dodającej dwie liczby\n",
    "def add_numbers(a, b):\n",
    "    return a + b"
   ]
  },
  {
   "cell_type": "markdown",
   "id": "b0689dc6-fc44-41dd-9030-e3a60d900ad0",
   "metadata": {},
   "source": [
    "### Aby wywołać funkcję w Pythonie:\n",
    "\n",
    "1. Piszemy jej nazwę.\n",
    "2. Następnie otwieramy nawiasy okrągłe ().\n",
    "3. Wewnątrz nawiasów przekazujemy odpowiednie argumenty (jeśli są wymagane).\n",
    "4. Wynik wywołania funkcji można przypisać do zmiennej lub od razu wyświetlić."
   ]
  },
  {
   "cell_type": "code",
   "execution_count": 4,
   "id": "2a76fade-e9bb-4f24-99b5-e91d6a899758",
   "metadata": {},
   "outputs": [
    {
     "name": "stdout",
     "output_type": "stream",
     "text": [
      "Wynik dodawania: 23\n"
     ]
    }
   ],
   "source": [
    "# Przykład wywołania funkcji\n",
    "result = add_numbers(15, 8)  # Wywołanie funkcji z argumentami 15 i 8\n",
    "print(f\"Wynik dodawania: {result}\")  # Wynik: 23"
   ]
  }
 ],
 "metadata": {
  "kernelspec": {
   "display_name": "Python 3 (ipykernel)",
   "language": "python",
   "name": "python3"
  },
  "language_info": {
   "codemirror_mode": {
    "name": "ipython",
    "version": 3
   },
   "file_extension": ".py",
   "mimetype": "text/x-python",
   "name": "python",
   "nbconvert_exporter": "python",
   "pygments_lexer": "ipython3",
   "version": "3.9.20"
  }
 },
 "nbformat": 4,
 "nbformat_minor": 5
}
