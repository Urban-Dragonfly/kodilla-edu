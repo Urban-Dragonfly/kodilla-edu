{
 "cells": [
  {
   "cell_type": "code",
   "execution_count": 4,
   "metadata": {},
   "outputs": [],
   "source": [
    "import numpy as np\n",
    "import pandas as pd\n",
    "\n",
    "import string\n",
    "import nltk\n",
    "from nltk.corpus import stopwords\n",
    "from nltk.stem import WordNetLemmatizer\n",
    "from nltk.tokenize import word_tokenize\n",
    "\n",
    "from sklearn.model_selection import train_test_split"
   ]
  },
  {
   "cell_type": "code",
   "execution_count": 2,
   "metadata": {},
   "outputs": [],
   "source": [
    "spam_dataset = pd.read_csv('spam.csv', encoding = \"ISO-8859-1\", usecols=[0, 1], names=['Spam', 'Text'],\n",
    "                           skiprows=1)\n",
    "spam_dataset['Spam'] = spam_dataset['Spam'].map({'ham': 0, 'spam': 1})"
   ]
  },
  {
   "cell_type": "code",
   "execution_count": 29,
   "metadata": {},
   "outputs": [],
   "source": [
    "stopwords = set(nltk.corpus.stopwords.words(\"english\"))\n",
    "lemmatizer = WordNetLemmatizer()\n",
    "\n",
    "def lemmatize_text(spam_text):\n",
    "    processed_text = []\n",
    "    for text in spam_text:\n",
    "        text = text.lower()\n",
    "        text = ''.join([char for char in text\n",
    "                if char not in string.punctuation])\n",
    "        text = word_tokenize(text)\n",
    "        text = [t for t in text if t not in stopwords]\n",
    "        text = [lemmatizer.lemmatize(t) for t in text]\n",
    "        processed_text.append(text)\n",
    "    return processed_text"
   ]
  },
  {
   "cell_type": "code",
   "execution_count": 30,
   "metadata": {},
   "outputs": [],
   "source": [
    "spam_dataset['Lemmatized_Text'] = lemmatize_text(spam_dataset['Text'])"
   ]
  },
  {
   "cell_type": "code",
   "execution_count": 31,
   "metadata": {},
   "outputs": [
    {
     "data": {
      "text/plain": [
       "0       [go, jurong, point, crazy, available, bugis, n...\n",
       "1                          [ok, lar, joking, wif, u, oni]\n",
       "2       [free, entry, 2, wkly, comp, win, fa, cup, fin...\n",
       "3           [u, dun, say, early, hor, u, c, already, say]\n",
       "4       [nah, dont, think, go, usf, life, around, though]\n",
       "                              ...                        \n",
       "5567    [2nd, time, tried, 2, contact, u, u, å£750, po...\n",
       "5568                   [ì, b, going, esplanade, fr, home]\n",
       "5569                      [pity, mood, soany, suggestion]\n",
       "5570    [guy, bitching, acted, like, id, interested, b...\n",
       "5571                                   [rofl, true, name]\n",
       "Name: Lemmatized_Text, Length: 5572, dtype: object"
      ]
     },
     "execution_count": 31,
     "metadata": {},
     "output_type": "execute_result"
    }
   ],
   "source": [
    "spam_dataset['Lemmatized_Text']"
   ]
  },
  {
   "cell_type": "code",
   "execution_count": 32,
   "metadata": {},
   "outputs": [],
   "source": [
    "from sklearn.feature_extraction.text import CountVectorizer\n",
    "from sklearn.decomposition import LatentDirichletAllocation\n",
    "\n",
    "count_v2 = CountVectorizer(max_df=0.1, max_features=500)\n",
    "X_count_v2 = count_v2.fit_transform(spam_dataset['Lemmatized_Text'].apply(lambda x: ' '.join(x)))\n",
    "lda = LatentDirichletAllocation(n_components=7, random_state=2022,\n",
    "                                learning_method='batch')\n",
    "X_topics = lda.fit_transform(X_count_v2)"
   ]
  },
  {
   "cell_type": "code",
   "execution_count": 34,
   "metadata": {},
   "outputs": [
    {
     "name": "stdout",
     "output_type": "stream",
     "text": [
      "Temat: 1\n",
      "love good day hi happy\n",
      "\n",
      "Temat: 2\n",
      "time come get yeah give\n",
      "\n",
      "Temat: 3\n",
      "ur ltgt txt send stop\n",
      "\n",
      "Temat: 4\n",
      "go im lor home ok\n",
      "\n",
      "Temat: 5\n",
      "dont know im want like\n",
      "\n",
      "Temat: 6\n",
      "call free ok phone text\n",
      "\n",
      "Temat: 7\n",
      "call na thats please claim\n",
      "\n"
     ]
    }
   ],
   "source": [
    "feature_names = count_v2.get_feature_names_out()\n",
    "for topic_idx, topic in enumerate(lda.components_):\n",
    "    print(f'Temat: {topic_idx+1}')\n",
    "    print(' '.join([feature_names[i] for i in topic.argsort()[:-5-1:-1]]))\n",
    "    print()"
   ]
  }
 ],
 "metadata": {
  "kernelspec": {
   "display_name": "kodilla-edu",
   "language": "python",
   "name": "python3"
  },
  "language_info": {
   "codemirror_mode": {
    "name": "ipython",
    "version": 3
   },
   "file_extension": ".py",
   "mimetype": "text/x-python",
   "name": "python",
   "nbconvert_exporter": "python",
   "pygments_lexer": "ipython3",
   "version": "3.9.18"
  }
 },
 "nbformat": 4,
 "nbformat_minor": 2
}
