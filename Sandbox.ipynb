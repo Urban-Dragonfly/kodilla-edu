{
 "cells": [
  {
   "cell_type": "code",
   "execution_count": 1,
   "id": "69e9bb43",
   "metadata": {},
   "outputs": [
    {
     "name": "stdout",
     "output_type": "stream",
     "text": [
      "msno: 0.4.2\n",
      "pd: 2.2.3\n",
      "np: 1.26.4\n"
     ]
    }
   ],
   "source": [
    "import pandas as pd\n",
    "import numpy as np\n",
    "import missingno as msno\n",
    "print(\"msno:\",msno.__version__)\n",
    "print(\"pd:\",pd.__version__)\n",
    "print(\"np:\",np.__version__)"
   ]
  },
  {
   "cell_type": "code",
   "execution_count": null,
   "id": "e297fe88",
   "metadata": {},
   "outputs": [],
   "source": [
    "exam1 = [89,85,93,83]\n",
    "labels  = ['Student A', 'Student B', 'Student C', 'Student D']\n",
    "\n",
    "pd.Series(exam1,labels)"
   ]
  },
  {
   "cell_type": "code",
   "execution_count": null,
   "id": "c4674f3c",
   "metadata": {},
   "outputs": [],
   "source": [
    "pd.Series(exam1,labels)['Student D']"
   ]
  },
  {
   "cell_type": "code",
   "execution_count": null,
   "id": "8d41116a",
   "metadata": {},
   "outputs": [],
   "source": [
    "d = {s:p for s,p in zip(labels,exam1)}\n",
    "d"
   ]
  },
  {
   "cell_type": "code",
   "execution_count": null,
   "id": "09a80b64",
   "metadata": {},
   "outputs": [],
   "source": [
    "pd.Series(d)"
   ]
  },
  {
   "cell_type": "code",
   "execution_count": null,
   "id": "df5f51e6",
   "metadata": {},
   "outputs": [],
   "source": [
    "exam2 = [74,56,44,92]\n",
    "\n",
    "e1 = pd.Series(exam1,labels)\n",
    "e2 = pd.Series(exam2,labels)"
   ]
  },
  {
   "cell_type": "code",
   "execution_count": null,
   "id": "0ec0f54c",
   "metadata": {},
   "outputs": [],
   "source": [
    "e1 + e2"
   ]
  },
  {
   "cell_type": "code",
   "execution_count": null,
   "id": "a32d2884",
   "metadata": {},
   "outputs": [],
   "source": [
    "e1 * e2"
   ]
  },
  {
   "cell_type": "code",
   "execution_count": null,
   "id": "12950d6b",
   "metadata": {},
   "outputs": [],
   "source": [
    "e1 / 5"
   ]
  },
  {
   "cell_type": "code",
   "execution_count": null,
   "id": "02abf970",
   "metadata": {},
   "outputs": [],
   "source": [
    "df = pd.DataFrame({'e1':exam1, 'e2':exam2},index=labels)\n",
    "df"
   ]
  },
  {
   "cell_type": "code",
   "execution_count": null,
   "id": "de720451",
   "metadata": {},
   "outputs": [],
   "source": [
    "df['e1']"
   ]
  },
  {
   "cell_type": "code",
   "execution_count": null,
   "id": "07bad77f",
   "metadata": {},
   "outputs": [],
   "source": [
    "type(df['e1'])"
   ]
  },
  {
   "cell_type": "code",
   "execution_count": null,
   "id": "09700660",
   "metadata": {},
   "outputs": [],
   "source": [
    "data = np.array([exam1,exam2])\n",
    "data.T"
   ]
  },
  {
   "cell_type": "code",
   "execution_count": null,
   "id": "4b63238d",
   "metadata": {},
   "outputs": [],
   "source": [
    "df = pd.DataFrame(data.T,index=labels,columns=['e1','e2'])\n",
    "df"
   ]
  },
  {
   "cell_type": "code",
   "execution_count": null,
   "id": "bf9185e8",
   "metadata": {},
   "outputs": [],
   "source": [
    "df.to_numpy()"
   ]
  },
  {
   "cell_type": "code",
   "execution_count": null,
   "id": "d725d00e",
   "metadata": {},
   "outputs": [],
   "source": [
    "df.shape"
   ]
  },
  {
   "cell_type": "code",
   "execution_count": null,
   "id": "ef85ce04",
   "metadata": {},
   "outputs": [],
   "source": [
    "df['e1']"
   ]
  },
  {
   "cell_type": "code",
   "execution_count": null,
   "id": "86d6a2ef",
   "metadata": {},
   "outputs": [],
   "source": [
    "df['e3'] = [67,59,79,84]\n",
    "df"
   ]
  },
  {
   "cell_type": "code",
   "execution_count": null,
   "id": "be1f62a7",
   "metadata": {},
   "outputs": [],
   "source": [
    "df['semester1'] = df['e1'] + df['e2'] + df['e3']\n",
    "df"
   ]
  },
  {
   "cell_type": "code",
   "execution_count": null,
   "id": "47f32718",
   "metadata": {},
   "outputs": [],
   "source": [
    "df[['e1','e2']]"
   ]
  },
  {
   "cell_type": "code",
   "execution_count": null,
   "id": "d7fa1ac5",
   "metadata": {},
   "outputs": [],
   "source": [
    "df.loc['Student C']"
   ]
  },
  {
   "cell_type": "code",
   "execution_count": null,
   "id": "29285f3d",
   "metadata": {},
   "outputs": [],
   "source": [
    "df.loc['Student C','e2']"
   ]
  },
  {
   "cell_type": "code",
   "execution_count": null,
   "id": "f2b58eb2",
   "metadata": {},
   "outputs": [],
   "source": [
    "df.iloc[2]"
   ]
  },
  {
   "cell_type": "code",
   "execution_count": null,
   "id": "c3a5cfe6",
   "metadata": {},
   "outputs": [],
   "source": [
    "df.iloc[-2:,0:3]"
   ]
  },
  {
   "cell_type": "code",
   "execution_count": null,
   "id": "075665ee",
   "metadata": {},
   "outputs": [],
   "source": [
    "df['e2'] > 70"
   ]
  },
  {
   "cell_type": "code",
   "execution_count": null,
   "id": "c19e6d2a",
   "metadata": {},
   "outputs": [],
   "source": [
    "df[df['e2'] > 70]"
   ]
  },
  {
   "cell_type": "code",
   "execution_count": null,
   "id": "16712f6a",
   "metadata": {},
   "outputs": [],
   "source": [
    "df[(df['e2']<50)|(df['e2']>90)]"
   ]
  },
  {
   "cell_type": "code",
   "execution_count": null,
   "id": "6d559be8",
   "metadata": {},
   "outputs": [],
   "source": [
    "df.drop('semester1',axis=1)"
   ]
  },
  {
   "cell_type": "code",
   "execution_count": null,
   "id": "c23c073f",
   "metadata": {},
   "outputs": [],
   "source": [
    "df"
   ]
  },
  {
   "cell_type": "code",
   "execution_count": null,
   "id": "54ae33c5",
   "metadata": {},
   "outputs": [],
   "source": [
    "df.drop(['e3','semester1'],axis=1,inplace=False)\n",
    "df"
   ]
  },
  {
   "cell_type": "code",
   "execution_count": null,
   "id": "56f31a1f",
   "metadata": {},
   "outputs": [],
   "source": [
    "df.drop('Student B',inplace=False)\n",
    "df"
   ]
  },
  {
   "cell_type": "code",
   "execution_count": null,
   "id": "b7cd3db2",
   "metadata": {},
   "outputs": [],
   "source": [
    "df.reset_index()"
   ]
  },
  {
   "cell_type": "code",
   "execution_count": null,
   "id": "8c2000ce",
   "metadata": {},
   "outputs": [],
   "source": [
    "df_new_index = df.reset_index()\n",
    "df_new_index"
   ]
  },
  {
   "cell_type": "code",
   "execution_count": null,
   "id": "08e8dd33",
   "metadata": {},
   "outputs": [],
   "source": [
    "df_new_index['student_name'] = ['Adrian','Bartłomiej','Celina','Dagmara']\n",
    "df_new_index"
   ]
  },
  {
   "cell_type": "code",
   "execution_count": null,
   "id": "7d1649ef",
   "metadata": {},
   "outputs": [],
   "source": [
    "df_new_index.set_index('student_name')"
   ]
  },
  {
   "cell_type": "code",
   "execution_count": null,
   "id": "240f5f0e",
   "metadata": {},
   "outputs": [],
   "source": [
    "df_new_index2 = df.reset_index()\n",
    "df_new_index2"
   ]
  },
  {
   "cell_type": "code",
   "execution_count": null,
   "id": "5df351ec",
   "metadata": {},
   "outputs": [],
   "source": [
    "df_new_index2.index = ['Adrian','Bartłomiej','Celina','Dagmara']\n",
    "df_new_index2"
   ]
  },
  {
   "cell_type": "code",
   "execution_count": null,
   "id": "ef4f2729",
   "metadata": {},
   "outputs": [],
   "source": [
    "df"
   ]
  },
  {
   "cell_type": "code",
   "execution_count": null,
   "id": "2ece587f",
   "metadata": {},
   "outputs": [],
   "source": [
    "df.rename(columns={'e1':'exam1','e2':'exam2','e3':'exam3'})"
   ]
  },
  {
   "cell_type": "code",
   "execution_count": null,
   "id": "8dbbf8b0",
   "metadata": {},
   "outputs": [],
   "source": [
    "df.rename(str.upper, axis='columns')"
   ]
  },
  {
   "cell_type": "code",
   "execution_count": null,
   "id": "77947b18",
   "metadata": {},
   "outputs": [],
   "source": [
    "df = pd.DataFrame({'A':[100,44,56,99,85,100],\n",
    "                  'B':['Panda','Snake','Snake','Rat','Dog','Panda']})\n",
    "df"
   ]
  },
  {
   "cell_type": "code",
   "execution_count": null,
   "id": "f1a09d45",
   "metadata": {},
   "outputs": [],
   "source": [
    "df['B'].unique()"
   ]
  },
  {
   "cell_type": "code",
   "execution_count": null,
   "id": "2ace9670",
   "metadata": {},
   "outputs": [],
   "source": [
    "df['B'].nunique()"
   ]
  },
  {
   "cell_type": "code",
   "execution_count": null,
   "id": "e2aebc49",
   "metadata": {},
   "outputs": [],
   "source": [
    "df['B'].value_counts()"
   ]
  },
  {
   "cell_type": "code",
   "execution_count": null,
   "id": "b88e0b42",
   "metadata": {},
   "outputs": [],
   "source": [
    "df['B'].value_counts(normalize=True)"
   ]
  },
  {
   "cell_type": "code",
   "execution_count": null,
   "id": "aaeebcd5",
   "metadata": {},
   "outputs": [],
   "source": [
    "df.sort_values(by='A')"
   ]
  },
  {
   "cell_type": "code",
   "execution_count": null,
   "id": "7d86c449",
   "metadata": {},
   "outputs": [],
   "source": [
    "df.sort_values(by='A',ascending=False)"
   ]
  },
  {
   "cell_type": "code",
   "execution_count": null,
   "id": "af6acf5d",
   "metadata": {},
   "outputs": [],
   "source": [
    "df.drop_duplicates()"
   ]
  },
  {
   "cell_type": "code",
   "execution_count": null,
   "id": "e338814c",
   "metadata": {},
   "outputs": [],
   "source": [
    "df"
   ]
  },
  {
   "cell_type": "code",
   "execution_count": null,
   "id": "abfd9775",
   "metadata": {},
   "outputs": [],
   "source": [
    "exam1 = [89,85,93,83]\n",
    "exam2 = [74,56,44,92]\n",
    "exam3=[67,59,79,84]\n",
    "df = pd.DataFrame({'e1':exam1, 'e2':exam2, 'e3':exam3}, index=labels)\n",
    "df['semester1'] = df['e1']+df['e2']+df['e3']\n",
    "df"
   ]
  },
  {
   "cell_type": "code",
   "execution_count": null,
   "id": "b4a874d7",
   "metadata": {},
   "outputs": [],
   "source": [
    "schools = ['High School X','High School X','High School Y','High School Y']\n",
    "multi_index_list = [(school,student) for school,student in zip(schools,df.index)]\n",
    "multi_index_list"
   ]
  },
  {
   "cell_type": "code",
   "execution_count": null,
   "id": "ece7f11c",
   "metadata": {},
   "outputs": [],
   "source": [
    "df.index = pd.MultiIndex.from_tuples(multi_index_list,names=['School','Student'])\n",
    "df"
   ]
  },
  {
   "cell_type": "code",
   "execution_count": null,
   "id": "18940e28",
   "metadata": {},
   "outputs": [],
   "source": [
    "exam1 = [89,85,93,83]\n",
    "exam2 = [74,56,44,92]\n",
    "exam3=[67,59,79,84]\n",
    "df = pd.DataFrame({'e1':exam1, 'e2':exam2, 'e3':exam3}, index=labels)\n",
    "df['semester1'] = df['e1']+df['e2']+df['e3']\n",
    "df"
   ]
  },
  {
   "cell_type": "code",
   "execution_count": null,
   "id": "90fccb48",
   "metadata": {},
   "outputs": [],
   "source": [
    "df.set_index([pd.Index(['High School X','High School X','High School Y','High School Y']), df.index],inplace=True)\n",
    "df"
   ]
  },
  {
   "cell_type": "code",
   "execution_count": null,
   "id": "6a71cc13",
   "metadata": {},
   "outputs": [],
   "source": [
    "df.index.names = ['School','Student']\n",
    "df"
   ]
  },
  {
   "cell_type": "code",
   "execution_count": null,
   "id": "6ed6be77",
   "metadata": {},
   "outputs": [],
   "source": [
    "df.loc['High School X']"
   ]
  },
  {
   "cell_type": "code",
   "execution_count": null,
   "id": "bce41c08",
   "metadata": {},
   "outputs": [],
   "source": [
    "df.loc['High School X'].iloc[1]"
   ]
  },
  {
   "cell_type": "code",
   "execution_count": null,
   "id": "a0b31cf3",
   "metadata": {},
   "outputs": [],
   "source": [
    "df.xs('High School Y')"
   ]
  },
  {
   "cell_type": "code",
   "execution_count": null,
   "id": "05827c5f",
   "metadata": {},
   "outputs": [],
   "source": [
    "df.xs(('High School Y','Student D'))"
   ]
  },
  {
   "cell_type": "code",
   "execution_count": null,
   "id": "78385ca8",
   "metadata": {},
   "outputs": [],
   "source": [
    "df.xs('Student D',level='Student')"
   ]
  },
  {
   "cell_type": "code",
   "execution_count": null,
   "id": "e6dc3dc9",
   "metadata": {},
   "outputs": [],
   "source": [
    "df"
   ]
  },
  {
   "cell_type": "code",
   "execution_count": null,
   "id": "c7a488ab",
   "metadata": {},
   "outputs": [],
   "source": [
    "semester2 = np.random.randint(1,100,(4,3))\n",
    "semester2"
   ]
  },
  {
   "cell_type": "code",
   "execution_count": null,
   "id": "21486f6b",
   "metadata": {},
   "outputs": [],
   "source": [
    "df[['e4', 'e5', 'e6']] = semester2\n",
    "df"
   ]
  },
  {
   "cell_type": "code",
   "execution_count": null,
   "id": "4b1ffede",
   "metadata": {},
   "outputs": [],
   "source": [
    "df.drop(['semester1'],axis=1,inplace=True)\n",
    "df"
   ]
  },
  {
   "cell_type": "code",
   "execution_count": null,
   "id": "c9b5d6cc",
   "metadata": {},
   "outputs": [],
   "source": [
    "# Create a MultiIndex DataFrame\n",
    "df_multi = pd.DataFrame({\n",
    "    ('Semester 1', 'e1'): df['e1'],\n",
    "    ('Semester 1', 'e2'): df['e2'],\n",
    "    ('Semester 1', 'e3'): df['e3'],\n",
    "    ('Semester 2', 'e4'): df['e4'],\n",
    "    ('Semester 2', 'e5'): df['e5'],\n",
    "    ('Semester 2', 'e6'): df['e6']\n",
    "}, index=df.index)\n",
    "\n",
    "df_multi"
   ]
  },
  {
   "cell_type": "code",
   "execution_count": null,
   "id": "d55c773e",
   "metadata": {},
   "outputs": [],
   "source": [
    "# Define the levels for the MultiIndex\n",
    "semesters = ['Semester 1', 'Semester 1', 'Semester 1', 'Semester 2', 'Semester 2', 'Semester 2']\n",
    "exams = ['Exam 1', 'Exam 2', 'Exam 3', 'Exam 4', 'Exam 5', 'Exam 6']\n",
    "\n",
    "# Set the MultiIndex for columns\n",
    "df.columns = pd.MultiIndex.from_arrays([semesters, exams], names=['Semester', 'Exam'])\n",
    "df"
   ]
  },
  {
   "cell_type": "code",
   "execution_count": null,
   "id": "ebc97e10",
   "metadata": {},
   "outputs": [],
   "source": [
    "df = pd.DataFrame({'Category':['Games','Games','Games',\n",
    "\n",
    "                               'Film&Video','Film&Video','Film&Video'],\n",
    "\n",
    "                  'Project_Title':['The Last Faith','Magic Puzzles','Dinosaur Fossil Hunter',\n",
    "\n",
    "                                   'Beyond Your Eyes','5150','8-Bit Wars'],\n",
    "\n",
    "                  'Pledged':[92774,2873519,7962,\n",
    "\n",
    "                             276,23963,6950],\n",
    "\n",
    "                  'Country':['UK','USA','Poland',\n",
    "\n",
    "                             'Bulgaria','USA','UK'],\n",
    "\n",
    "                  'Date_Start':['2020-03-21','2020-03-11','2020-04-16',\n",
    "\n",
    "                                '2020-02-09','2020-04-10','2020-03-19']})\n",
    "df"
   ]
  },
  {
   "cell_type": "code",
   "execution_count": null,
   "id": "005079d6",
   "metadata": {},
   "outputs": [],
   "source": [
    "df.groupby('Category')"
   ]
  },
  {
   "cell_type": "code",
   "execution_count": null,
   "id": "071e9668",
   "metadata": {},
   "outputs": [],
   "source": [
    "df.groupby('Category').sum()"
   ]
  },
  {
   "cell_type": "code",
   "execution_count": null,
   "id": "2beb5016",
   "metadata": {},
   "outputs": [],
   "source": [
    "numeric_cols = df.select_dtypes(include=['number']).columns\n",
    "df.groupby('Category')[numeric_cols].mean()"
   ]
  },
  {
   "cell_type": "code",
   "execution_count": null,
   "id": "44af08f9",
   "metadata": {},
   "outputs": [],
   "source": [
    "df.groupby('Category').count()"
   ]
  },
  {
   "cell_type": "code",
   "execution_count": null,
   "id": "0f57eecb",
   "metadata": {},
   "outputs": [],
   "source": [
    "df"
   ]
  },
  {
   "cell_type": "code",
   "execution_count": null,
   "id": "4f6ecaee",
   "metadata": {},
   "outputs": [],
   "source": [
    "df['Date_Start'] = pd.to_datetime(df['Date_Start'])"
   ]
  },
  {
   "cell_type": "code",
   "execution_count": null,
   "id": "197c2bc1",
   "metadata": {},
   "outputs": [],
   "source": [
    "df"
   ]
  },
  {
   "cell_type": "code",
   "execution_count": null,
   "id": "e7598341",
   "metadata": {},
   "outputs": [],
   "source": [
    "df.groupby(pd.Grouper(key='Date_Start',freq='ME')).sum()"
   ]
  },
  {
   "cell_type": "code",
   "execution_count": null,
   "id": "f6140d03",
   "metadata": {},
   "outputs": [],
   "source": [
    "df.groupby(pd.Grouper(key='Date_Start',freq='ME')).agg({'Pledged':'sum','Project_Title':'count'})"
   ]
  },
  {
   "cell_type": "code",
   "execution_count": null,
   "id": "da2ca8c6",
   "metadata": {},
   "outputs": [],
   "source": [
    "numeric_cols = df.select_dtypes(include=['number']).columns\n",
    "df.groupby(['Country','Category'])[numeric_cols].sum()"
   ]
  },
  {
   "cell_type": "code",
   "execution_count": 83,
   "id": "13f9db90",
   "metadata": {},
   "outputs": [
    {
     "data": {
      "text/html": [
       "<div>\n",
       "<style scoped>\n",
       "    .dataframe tbody tr th:only-of-type {\n",
       "        vertical-align: middle;\n",
       "    }\n",
       "\n",
       "    .dataframe tbody tr th {\n",
       "        vertical-align: top;\n",
       "    }\n",
       "\n",
       "    .dataframe thead th {\n",
       "        text-align: right;\n",
       "    }\n",
       "</style>\n",
       "<table border=\"1\" class=\"dataframe\">\n",
       "  <thead>\n",
       "    <tr style=\"text-align: right;\">\n",
       "      <th></th>\n",
       "      <th>A</th>\n",
       "      <th>B</th>\n",
       "      <th>C</th>\n",
       "    </tr>\n",
       "  </thead>\n",
       "  <tbody>\n",
       "    <tr>\n",
       "      <th>0</th>\n",
       "      <td>1.0</td>\n",
       "      <td>2.0</td>\n",
       "      <td>40.0</td>\n",
       "    </tr>\n",
       "    <tr>\n",
       "      <th>1</th>\n",
       "      <td>100.0</td>\n",
       "      <td>4.0</td>\n",
       "      <td>NaN</td>\n",
       "    </tr>\n",
       "    <tr>\n",
       "      <th>2</th>\n",
       "      <td>NaN</td>\n",
       "      <td>2.0</td>\n",
       "      <td>20.0</td>\n",
       "    </tr>\n",
       "    <tr>\n",
       "      <th>3</th>\n",
       "      <td>1000.0</td>\n",
       "      <td>4.0</td>\n",
       "      <td>NaN</td>\n",
       "    </tr>\n",
       "    <tr>\n",
       "      <th>4</th>\n",
       "      <td>10000.0</td>\n",
       "      <td>NaN</td>\n",
       "      <td>NaN</td>\n",
       "    </tr>\n",
       "  </tbody>\n",
       "</table>\n",
       "</div>"
      ],
      "text/plain": [
       "         A    B     C\n",
       "0      1.0  2.0  40.0\n",
       "1    100.0  4.0   NaN\n",
       "2      NaN  2.0  20.0\n",
       "3   1000.0  4.0   NaN\n",
       "4  10000.0  NaN   NaN"
      ]
     },
     "execution_count": 83,
     "metadata": {},
     "output_type": "execute_result"
    }
   ],
   "source": [
    "df_with_nulls = pd.DataFrame({'A':[1,100,np.nan,1000,10000],\n",
    "                             'B':[2,4,2,4,np.nan],\n",
    "                             'C':[40,np.nan,20,np.nan,np.nan]})\n",
    "df_with_nulls"
   ]
  },
  {
   "cell_type": "code",
   "execution_count": null,
   "id": "6f40e733",
   "metadata": {},
   "outputs": [],
   "source": [
    "print(df_with_nulls.isnull().mean())\n",
    "print()\n",
    "print(df_with_nulls.isnull().sum())"
   ]
  },
  {
   "cell_type": "code",
   "execution_count": null,
   "id": "7c9dda27",
   "metadata": {},
   "outputs": [],
   "source": [
    "df_with_nulls[df_with_nulls['C'].isnull()]"
   ]
  },
  {
   "cell_type": "code",
   "execution_count": null,
   "id": "dabd78b0",
   "metadata": {},
   "outputs": [],
   "source": [
    "msno.matrix(df_with_nulls)"
   ]
  },
  {
   "cell_type": "code",
   "execution_count": 85,
   "id": "d0d56403",
   "metadata": {},
   "outputs": [
    {
     "data": {
      "text/html": [
       "<div>\n",
       "<style scoped>\n",
       "    .dataframe tbody tr th:only-of-type {\n",
       "        vertical-align: middle;\n",
       "    }\n",
       "\n",
       "    .dataframe tbody tr th {\n",
       "        vertical-align: top;\n",
       "    }\n",
       "\n",
       "    .dataframe thead th {\n",
       "        text-align: right;\n",
       "    }\n",
       "</style>\n",
       "<table border=\"1\" class=\"dataframe\">\n",
       "  <thead>\n",
       "    <tr style=\"text-align: right;\">\n",
       "      <th></th>\n",
       "      <th>A</th>\n",
       "      <th>B</th>\n",
       "      <th>C</th>\n",
       "    </tr>\n",
       "  </thead>\n",
       "  <tbody>\n",
       "    <tr>\n",
       "      <th>0</th>\n",
       "      <td>1.0</td>\n",
       "      <td>2.0</td>\n",
       "      <td>40.0</td>\n",
       "    </tr>\n",
       "  </tbody>\n",
       "</table>\n",
       "</div>"
      ],
      "text/plain": [
       "     A    B     C\n",
       "0  1.0  2.0  40.0"
      ]
     },
     "execution_count": 85,
     "metadata": {},
     "output_type": "execute_result"
    }
   ],
   "source": [
    "df_with_nulls.dropna()"
   ]
  },
  {
   "cell_type": "code",
   "execution_count": 84,
   "id": "9a2b0c23",
   "metadata": {},
   "outputs": [
    {
     "data": {
      "text/html": [
       "<div>\n",
       "<style scoped>\n",
       "    .dataframe tbody tr th:only-of-type {\n",
       "        vertical-align: middle;\n",
       "    }\n",
       "\n",
       "    .dataframe tbody tr th {\n",
       "        vertical-align: top;\n",
       "    }\n",
       "\n",
       "    .dataframe thead th {\n",
       "        text-align: right;\n",
       "    }\n",
       "</style>\n",
       "<table border=\"1\" class=\"dataframe\">\n",
       "  <thead>\n",
       "    <tr style=\"text-align: right;\">\n",
       "      <th></th>\n",
       "      <th>A</th>\n",
       "      <th>B</th>\n",
       "      <th>C</th>\n",
       "    </tr>\n",
       "  </thead>\n",
       "  <tbody>\n",
       "    <tr>\n",
       "      <th>0</th>\n",
       "      <td>1.0</td>\n",
       "      <td>2.0</td>\n",
       "      <td>40.0</td>\n",
       "    </tr>\n",
       "    <tr>\n",
       "      <th>1</th>\n",
       "      <td>100.0</td>\n",
       "      <td>4.0</td>\n",
       "      <td>NaN</td>\n",
       "    </tr>\n",
       "    <tr>\n",
       "      <th>2</th>\n",
       "      <td>NaN</td>\n",
       "      <td>2.0</td>\n",
       "      <td>20.0</td>\n",
       "    </tr>\n",
       "    <tr>\n",
       "      <th>3</th>\n",
       "      <td>1000.0</td>\n",
       "      <td>4.0</td>\n",
       "      <td>NaN</td>\n",
       "    </tr>\n",
       "  </tbody>\n",
       "</table>\n",
       "</div>"
      ],
      "text/plain": [
       "        A    B     C\n",
       "0     1.0  2.0  40.0\n",
       "1   100.0  4.0   NaN\n",
       "2     NaN  2.0  20.0\n",
       "3  1000.0  4.0   NaN"
      ]
     },
     "execution_count": 84,
     "metadata": {},
     "output_type": "execute_result"
    }
   ],
   "source": [
    "df_with_nulls.dropna(thresh=2)"
   ]
  },
  {
   "cell_type": "code",
   "execution_count": 86,
   "id": "5d6e57b2",
   "metadata": {},
   "outputs": [
    {
     "data": {
      "text/html": [
       "<div>\n",
       "<style scoped>\n",
       "    .dataframe tbody tr th:only-of-type {\n",
       "        vertical-align: middle;\n",
       "    }\n",
       "\n",
       "    .dataframe tbody tr th {\n",
       "        vertical-align: top;\n",
       "    }\n",
       "\n",
       "    .dataframe thead th {\n",
       "        text-align: right;\n",
       "    }\n",
       "</style>\n",
       "<table border=\"1\" class=\"dataframe\">\n",
       "  <thead>\n",
       "    <tr style=\"text-align: right;\">\n",
       "      <th></th>\n",
       "      <th>A</th>\n",
       "      <th>B</th>\n",
       "    </tr>\n",
       "  </thead>\n",
       "  <tbody>\n",
       "    <tr>\n",
       "      <th>0</th>\n",
       "      <td>1.0</td>\n",
       "      <td>2.0</td>\n",
       "    </tr>\n",
       "    <tr>\n",
       "      <th>1</th>\n",
       "      <td>100.0</td>\n",
       "      <td>4.0</td>\n",
       "    </tr>\n",
       "    <tr>\n",
       "      <th>2</th>\n",
       "      <td>NaN</td>\n",
       "      <td>2.0</td>\n",
       "    </tr>\n",
       "    <tr>\n",
       "      <th>3</th>\n",
       "      <td>1000.0</td>\n",
       "      <td>4.0</td>\n",
       "    </tr>\n",
       "    <tr>\n",
       "      <th>4</th>\n",
       "      <td>10000.0</td>\n",
       "      <td>NaN</td>\n",
       "    </tr>\n",
       "  </tbody>\n",
       "</table>\n",
       "</div>"
      ],
      "text/plain": [
       "         A    B\n",
       "0      1.0  2.0\n",
       "1    100.0  4.0\n",
       "2      NaN  2.0\n",
       "3   1000.0  4.0\n",
       "4  10000.0  NaN"
      ]
     },
     "execution_count": 86,
     "metadata": {},
     "output_type": "execute_result"
    }
   ],
   "source": [
    "df_with_nulls.dropna(thresh=3,axis=1)"
   ]
  },
  {
   "cell_type": "code",
   "execution_count": 87,
   "id": "bb1039da",
   "metadata": {},
   "outputs": [
    {
     "data": {
      "text/html": [
       "<div>\n",
       "<style scoped>\n",
       "    .dataframe tbody tr th:only-of-type {\n",
       "        vertical-align: middle;\n",
       "    }\n",
       "\n",
       "    .dataframe tbody tr th {\n",
       "        vertical-align: top;\n",
       "    }\n",
       "\n",
       "    .dataframe thead th {\n",
       "        text-align: right;\n",
       "    }\n",
       "</style>\n",
       "<table border=\"1\" class=\"dataframe\">\n",
       "  <thead>\n",
       "    <tr style=\"text-align: right;\">\n",
       "      <th></th>\n",
       "      <th>A</th>\n",
       "      <th>B</th>\n",
       "      <th>C</th>\n",
       "    </tr>\n",
       "  </thead>\n",
       "  <tbody>\n",
       "    <tr>\n",
       "      <th>0</th>\n",
       "      <td>1.0</td>\n",
       "      <td>2.0</td>\n",
       "      <td>40.0</td>\n",
       "    </tr>\n",
       "    <tr>\n",
       "      <th>1</th>\n",
       "      <td>100.0</td>\n",
       "      <td>4.0</td>\n",
       "      <td>NOWA WARTOŚĆ</td>\n",
       "    </tr>\n",
       "    <tr>\n",
       "      <th>2</th>\n",
       "      <td>NOWA WARTOŚĆ</td>\n",
       "      <td>2.0</td>\n",
       "      <td>20.0</td>\n",
       "    </tr>\n",
       "    <tr>\n",
       "      <th>3</th>\n",
       "      <td>1000.0</td>\n",
       "      <td>4.0</td>\n",
       "      <td>NOWA WARTOŚĆ</td>\n",
       "    </tr>\n",
       "    <tr>\n",
       "      <th>4</th>\n",
       "      <td>10000.0</td>\n",
       "      <td>NOWA WARTOŚĆ</td>\n",
       "      <td>NOWA WARTOŚĆ</td>\n",
       "    </tr>\n",
       "  </tbody>\n",
       "</table>\n",
       "</div>"
      ],
      "text/plain": [
       "              A             B             C\n",
       "0           1.0           2.0          40.0\n",
       "1         100.0           4.0  NOWA WARTOŚĆ\n",
       "2  NOWA WARTOŚĆ           2.0          20.0\n",
       "3        1000.0           4.0  NOWA WARTOŚĆ\n",
       "4       10000.0  NOWA WARTOŚĆ  NOWA WARTOŚĆ"
      ]
     },
     "execution_count": 87,
     "metadata": {},
     "output_type": "execute_result"
    }
   ],
   "source": [
    "df_with_nulls.fillna('NOWA WARTOŚĆ')"
   ]
  },
  {
   "cell_type": "code",
   "execution_count": 90,
   "id": "baad8c1a",
   "metadata": {},
   "outputs": [
    {
     "data": {
      "text/html": [
       "<div>\n",
       "<style scoped>\n",
       "    .dataframe tbody tr th:only-of-type {\n",
       "        vertical-align: middle;\n",
       "    }\n",
       "\n",
       "    .dataframe tbody tr th {\n",
       "        vertical-align: top;\n",
       "    }\n",
       "\n",
       "    .dataframe thead th {\n",
       "        text-align: right;\n",
       "    }\n",
       "</style>\n",
       "<table border=\"1\" class=\"dataframe\">\n",
       "  <thead>\n",
       "    <tr style=\"text-align: right;\">\n",
       "      <th></th>\n",
       "      <th>A</th>\n",
       "      <th>B</th>\n",
       "      <th>C</th>\n",
       "    </tr>\n",
       "  </thead>\n",
       "  <tbody>\n",
       "    <tr>\n",
       "      <th>0</th>\n",
       "      <td>1.00</td>\n",
       "      <td>2.0</td>\n",
       "      <td>40.0</td>\n",
       "    </tr>\n",
       "    <tr>\n",
       "      <th>1</th>\n",
       "      <td>100.00</td>\n",
       "      <td>4.0</td>\n",
       "      <td>30.0</td>\n",
       "    </tr>\n",
       "    <tr>\n",
       "      <th>2</th>\n",
       "      <td>2775.25</td>\n",
       "      <td>2.0</td>\n",
       "      <td>20.0</td>\n",
       "    </tr>\n",
       "    <tr>\n",
       "      <th>3</th>\n",
       "      <td>1000.00</td>\n",
       "      <td>4.0</td>\n",
       "      <td>30.0</td>\n",
       "    </tr>\n",
       "    <tr>\n",
       "      <th>4</th>\n",
       "      <td>10000.00</td>\n",
       "      <td>3.0</td>\n",
       "      <td>30.0</td>\n",
       "    </tr>\n",
       "  </tbody>\n",
       "</table>\n",
       "</div>"
      ],
      "text/plain": [
       "          A    B     C\n",
       "0      1.00  2.0  40.0\n",
       "1    100.00  4.0  30.0\n",
       "2   2775.25  2.0  20.0\n",
       "3   1000.00  4.0  30.0\n",
       "4  10000.00  3.0  30.0"
      ]
     },
     "execution_count": 90,
     "metadata": {},
     "output_type": "execute_result"
    }
   ],
   "source": [
    "df_with_nulls.fillna(df_with_nulls.mean())\n"
   ]
  },
  {
   "cell_type": "code",
   "execution_count": 95,
   "id": "d8590cad",
   "metadata": {},
   "outputs": [
    {
     "data": {
      "text/html": [
       "<div>\n",
       "<style scoped>\n",
       "    .dataframe tbody tr th:only-of-type {\n",
       "        vertical-align: middle;\n",
       "    }\n",
       "\n",
       "    .dataframe tbody tr th {\n",
       "        vertical-align: top;\n",
       "    }\n",
       "\n",
       "    .dataframe thead th {\n",
       "        text-align: right;\n",
       "    }\n",
       "</style>\n",
       "<table border=\"1\" class=\"dataframe\">\n",
       "  <thead>\n",
       "    <tr style=\"text-align: right;\">\n",
       "      <th></th>\n",
       "      <th>A</th>\n",
       "      <th>B</th>\n",
       "      <th>C</th>\n",
       "    </tr>\n",
       "  </thead>\n",
       "  <tbody>\n",
       "    <tr>\n",
       "      <th>0</th>\n",
       "      <td>1.0</td>\n",
       "      <td>2.0</td>\n",
       "      <td>40.0</td>\n",
       "    </tr>\n",
       "    <tr>\n",
       "      <th>1</th>\n",
       "      <td>100.0</td>\n",
       "      <td>4.0</td>\n",
       "      <td>40.0</td>\n",
       "    </tr>\n",
       "    <tr>\n",
       "      <th>2</th>\n",
       "      <td>100.0</td>\n",
       "      <td>2.0</td>\n",
       "      <td>20.0</td>\n",
       "    </tr>\n",
       "    <tr>\n",
       "      <th>3</th>\n",
       "      <td>1000.0</td>\n",
       "      <td>4.0</td>\n",
       "      <td>20.0</td>\n",
       "    </tr>\n",
       "    <tr>\n",
       "      <th>4</th>\n",
       "      <td>10000.0</td>\n",
       "      <td>4.0</td>\n",
       "      <td>20.0</td>\n",
       "    </tr>\n",
       "  </tbody>\n",
       "</table>\n",
       "</div>"
      ],
      "text/plain": [
       "         A    B     C\n",
       "0      1.0  2.0  40.0\n",
       "1    100.0  4.0  40.0\n",
       "2    100.0  2.0  20.0\n",
       "3   1000.0  4.0  20.0\n",
       "4  10000.0  4.0  20.0"
      ]
     },
     "execution_count": 95,
     "metadata": {},
     "output_type": "execute_result"
    }
   ],
   "source": [
    "df_with_nulls.ffill()\n"
   ]
  },
  {
   "cell_type": "code",
   "execution_count": 2,
   "id": "d9ec7435",
   "metadata": {},
   "outputs": [],
   "source": [
    "df1 = pd.DataFrame({'A': ['A0', 'A1', 'A2', 'A3'],\n",
    "\n",
    "                    'B': ['B0', 'B1', 'B2', 'B3'],\n",
    "\n",
    "                    'C': ['C0', 'C1', 'C2', 'C3'],\n",
    "\n",
    "                    'D': ['D0', 'D1', 'D2', 'D3']},\n",
    "\n",
    "                    index=[0, 1, 2, 3])\n",
    "\n",
    "df2 = pd.DataFrame({'A': ['A4', 'A5', 'A6', 'A7'],\n",
    "\n",
    "                    'B': ['B4', 'B5', 'B6', 'B7'],\n",
    "\n",
    "                    'C': ['C4', 'C5', 'C6', 'C7'],\n",
    "\n",
    "                    'D': ['D4', 'D5', 'D6', 'D7']},\n",
    "\n",
    "                    index=[4, 5, 6, 7])\n",
    "\n",
    "df3 = pd.DataFrame({'A': ['A8', 'A9', 'A10', 'A11'],\n",
    "\n",
    "                    'B': ['B8', 'B9', 'B10', 'B11'],\n",
    "\n",
    "                    'C': ['C8', 'C9', 'C10', 'C11'],\n",
    "\n",
    "                    'D': ['D8', 'D9', 'D10', 'D11']},\n",
    "\n",
    "                    index=[8, 9, 10, 11])"
   ]
  },
  {
   "cell_type": "code",
   "execution_count": 3,
   "id": "c651050e",
   "metadata": {},
   "outputs": [
    {
     "name": "stdout",
     "output_type": "stream",
     "text": [
      "    A   B   C   D\n",
      "0  A0  B0  C0  D0\n",
      "1  A1  B1  C1  D1\n",
      "2  A2  B2  C2  D2\n",
      "3  A3  B3  C3  D3\n",
      "    A   B   C   D\n",
      "4  A4  B4  C4  D4\n",
      "5  A5  B5  C5  D5\n",
      "6  A6  B6  C6  D6\n",
      "7  A7  B7  C7  D7\n",
      "      A    B    C    D\n",
      "8    A8   B8   C8   D8\n",
      "9    A9   B9   C9   D9\n",
      "10  A10  B10  C10  D10\n",
      "11  A11  B11  C11  D11\n"
     ]
    }
   ],
   "source": [
    "print(df1)\n",
    "print(df2)\n",
    "print(df3)"
   ]
  },
  {
   "cell_type": "code",
   "execution_count": 4,
   "id": "1722252e",
   "metadata": {},
   "outputs": [],
   "source": [
    "def make_keys(n):\n",
    "    return [f'key{n}' for n in range(n)]\n",
    "left = df1.copy()\n",
    "left['key'] = make_keys(4)\n",
    "right = df3.copy()\n",
    "right['key'] = make_keys(4)"
   ]
  },
  {
   "cell_type": "code",
   "execution_count": 5,
   "id": "6bfe4c95",
   "metadata": {},
   "outputs": [
    {
     "data": {
      "text/html": [
       "<div>\n",
       "<style scoped>\n",
       "    .dataframe tbody tr th:only-of-type {\n",
       "        vertical-align: middle;\n",
       "    }\n",
       "\n",
       "    .dataframe tbody tr th {\n",
       "        vertical-align: top;\n",
       "    }\n",
       "\n",
       "    .dataframe thead th {\n",
       "        text-align: right;\n",
       "    }\n",
       "</style>\n",
       "<table border=\"1\" class=\"dataframe\">\n",
       "  <thead>\n",
       "    <tr style=\"text-align: right;\">\n",
       "      <th></th>\n",
       "      <th>A</th>\n",
       "      <th>B</th>\n",
       "      <th>C</th>\n",
       "      <th>D</th>\n",
       "      <th>key</th>\n",
       "    </tr>\n",
       "  </thead>\n",
       "  <tbody>\n",
       "    <tr>\n",
       "      <th>0</th>\n",
       "      <td>A0</td>\n",
       "      <td>B0</td>\n",
       "      <td>C0</td>\n",
       "      <td>D0</td>\n",
       "      <td>key0</td>\n",
       "    </tr>\n",
       "    <tr>\n",
       "      <th>1</th>\n",
       "      <td>A1</td>\n",
       "      <td>B1</td>\n",
       "      <td>C1</td>\n",
       "      <td>D1</td>\n",
       "      <td>key1</td>\n",
       "    </tr>\n",
       "    <tr>\n",
       "      <th>2</th>\n",
       "      <td>A2</td>\n",
       "      <td>B2</td>\n",
       "      <td>C2</td>\n",
       "      <td>D2</td>\n",
       "      <td>key2</td>\n",
       "    </tr>\n",
       "    <tr>\n",
       "      <th>3</th>\n",
       "      <td>A3</td>\n",
       "      <td>B3</td>\n",
       "      <td>C3</td>\n",
       "      <td>D3</td>\n",
       "      <td>key3</td>\n",
       "    </tr>\n",
       "  </tbody>\n",
       "</table>\n",
       "</div>"
      ],
      "text/plain": [
       "    A   B   C   D   key\n",
       "0  A0  B0  C0  D0  key0\n",
       "1  A1  B1  C1  D1  key1\n",
       "2  A2  B2  C2  D2  key2\n",
       "3  A3  B3  C3  D3  key3"
      ]
     },
     "execution_count": 5,
     "metadata": {},
     "output_type": "execute_result"
    }
   ],
   "source": [
    "left"
   ]
  },
  {
   "cell_type": "code",
   "execution_count": 6,
   "id": "a5c2e8b8",
   "metadata": {},
   "outputs": [
    {
     "data": {
      "text/html": [
       "<div>\n",
       "<style scoped>\n",
       "    .dataframe tbody tr th:only-of-type {\n",
       "        vertical-align: middle;\n",
       "    }\n",
       "\n",
       "    .dataframe tbody tr th {\n",
       "        vertical-align: top;\n",
       "    }\n",
       "\n",
       "    .dataframe thead th {\n",
       "        text-align: right;\n",
       "    }\n",
       "</style>\n",
       "<table border=\"1\" class=\"dataframe\">\n",
       "  <thead>\n",
       "    <tr style=\"text-align: right;\">\n",
       "      <th></th>\n",
       "      <th>A</th>\n",
       "      <th>B</th>\n",
       "      <th>C</th>\n",
       "      <th>D</th>\n",
       "      <th>key</th>\n",
       "    </tr>\n",
       "  </thead>\n",
       "  <tbody>\n",
       "    <tr>\n",
       "      <th>8</th>\n",
       "      <td>A8</td>\n",
       "      <td>B8</td>\n",
       "      <td>C8</td>\n",
       "      <td>D8</td>\n",
       "      <td>key0</td>\n",
       "    </tr>\n",
       "    <tr>\n",
       "      <th>9</th>\n",
       "      <td>A9</td>\n",
       "      <td>B9</td>\n",
       "      <td>C9</td>\n",
       "      <td>D9</td>\n",
       "      <td>key1</td>\n",
       "    </tr>\n",
       "    <tr>\n",
       "      <th>10</th>\n",
       "      <td>A10</td>\n",
       "      <td>B10</td>\n",
       "      <td>C10</td>\n",
       "      <td>D10</td>\n",
       "      <td>key2</td>\n",
       "    </tr>\n",
       "    <tr>\n",
       "      <th>11</th>\n",
       "      <td>A11</td>\n",
       "      <td>B11</td>\n",
       "      <td>C11</td>\n",
       "      <td>D11</td>\n",
       "      <td>key3</td>\n",
       "    </tr>\n",
       "  </tbody>\n",
       "</table>\n",
       "</div>"
      ],
      "text/plain": [
       "      A    B    C    D   key\n",
       "8    A8   B8   C8   D8  key0\n",
       "9    A9   B9   C9   D9  key1\n",
       "10  A10  B10  C10  D10  key2\n",
       "11  A11  B11  C11  D11  key3"
      ]
     },
     "execution_count": 6,
     "metadata": {},
     "output_type": "execute_result"
    }
   ],
   "source": [
    "right"
   ]
  },
  {
   "cell_type": "code",
   "execution_count": 7,
   "id": "ad0fe71f",
   "metadata": {},
   "outputs": [
    {
     "data": {
      "text/html": [
       "<div>\n",
       "<style scoped>\n",
       "    .dataframe tbody tr th:only-of-type {\n",
       "        vertical-align: middle;\n",
       "    }\n",
       "\n",
       "    .dataframe tbody tr th {\n",
       "        vertical-align: top;\n",
       "    }\n",
       "\n",
       "    .dataframe thead th {\n",
       "        text-align: right;\n",
       "    }\n",
       "</style>\n",
       "<table border=\"1\" class=\"dataframe\">\n",
       "  <thead>\n",
       "    <tr style=\"text-align: right;\">\n",
       "      <th></th>\n",
       "      <th>A_x</th>\n",
       "      <th>B_x</th>\n",
       "      <th>C_x</th>\n",
       "      <th>D_x</th>\n",
       "      <th>key</th>\n",
       "      <th>A_y</th>\n",
       "      <th>B_y</th>\n",
       "      <th>C_y</th>\n",
       "      <th>D_y</th>\n",
       "    </tr>\n",
       "  </thead>\n",
       "  <tbody>\n",
       "    <tr>\n",
       "      <th>0</th>\n",
       "      <td>A0</td>\n",
       "      <td>B0</td>\n",
       "      <td>C0</td>\n",
       "      <td>D0</td>\n",
       "      <td>key0</td>\n",
       "      <td>A8</td>\n",
       "      <td>B8</td>\n",
       "      <td>C8</td>\n",
       "      <td>D8</td>\n",
       "    </tr>\n",
       "    <tr>\n",
       "      <th>1</th>\n",
       "      <td>A1</td>\n",
       "      <td>B1</td>\n",
       "      <td>C1</td>\n",
       "      <td>D1</td>\n",
       "      <td>key1</td>\n",
       "      <td>A9</td>\n",
       "      <td>B9</td>\n",
       "      <td>C9</td>\n",
       "      <td>D9</td>\n",
       "    </tr>\n",
       "    <tr>\n",
       "      <th>2</th>\n",
       "      <td>A2</td>\n",
       "      <td>B2</td>\n",
       "      <td>C2</td>\n",
       "      <td>D2</td>\n",
       "      <td>key2</td>\n",
       "      <td>A10</td>\n",
       "      <td>B10</td>\n",
       "      <td>C10</td>\n",
       "      <td>D10</td>\n",
       "    </tr>\n",
       "    <tr>\n",
       "      <th>3</th>\n",
       "      <td>A3</td>\n",
       "      <td>B3</td>\n",
       "      <td>C3</td>\n",
       "      <td>D3</td>\n",
       "      <td>key3</td>\n",
       "      <td>A11</td>\n",
       "      <td>B11</td>\n",
       "      <td>C11</td>\n",
       "      <td>D11</td>\n",
       "    </tr>\n",
       "  </tbody>\n",
       "</table>\n",
       "</div>"
      ],
      "text/plain": [
       "  A_x B_x C_x D_x   key  A_y  B_y  C_y  D_y\n",
       "0  A0  B0  C0  D0  key0   A8   B8   C8   D8\n",
       "1  A1  B1  C1  D1  key1   A9   B9   C9   D9\n",
       "2  A2  B2  C2  D2  key2  A10  B10  C10  D10\n",
       "3  A3  B3  C3  D3  key3  A11  B11  C11  D11"
      ]
     },
     "execution_count": 7,
     "metadata": {},
     "output_type": "execute_result"
    }
   ],
   "source": [
    "pd.merge(left,right,how='inner',on='key')"
   ]
  },
  {
   "cell_type": "code",
   "execution_count": 8,
   "id": "5b94a43b",
   "metadata": {},
   "outputs": [
    {
     "data": {
      "text/html": [
       "<div>\n",
       "<style scoped>\n",
       "    .dataframe tbody tr th:only-of-type {\n",
       "        vertical-align: middle;\n",
       "    }\n",
       "\n",
       "    .dataframe tbody tr th {\n",
       "        vertical-align: top;\n",
       "    }\n",
       "\n",
       "    .dataframe thead th {\n",
       "        text-align: right;\n",
       "    }\n",
       "</style>\n",
       "<table border=\"1\" class=\"dataframe\">\n",
       "  <thead>\n",
       "    <tr style=\"text-align: right;\">\n",
       "      <th></th>\n",
       "      <th>E</th>\n",
       "      <th>key</th>\n",
       "    </tr>\n",
       "  </thead>\n",
       "  <tbody>\n",
       "    <tr>\n",
       "      <th>0</th>\n",
       "      <td>E1</td>\n",
       "      <td>key0</td>\n",
       "    </tr>\n",
       "    <tr>\n",
       "      <th>1</th>\n",
       "      <td>E2</td>\n",
       "      <td>key1</td>\n",
       "    </tr>\n",
       "    <tr>\n",
       "      <th>2</th>\n",
       "      <td>E3</td>\n",
       "      <td>key2</td>\n",
       "    </tr>\n",
       "    <tr>\n",
       "      <th>3</th>\n",
       "      <td>E4</td>\n",
       "      <td>key3</td>\n",
       "    </tr>\n",
       "    <tr>\n",
       "      <th>4</th>\n",
       "      <td>E5</td>\n",
       "      <td>key4</td>\n",
       "    </tr>\n",
       "    <tr>\n",
       "      <th>5</th>\n",
       "      <td>E6</td>\n",
       "      <td>key5</td>\n",
       "    </tr>\n",
       "  </tbody>\n",
       "</table>\n",
       "</div>"
      ],
      "text/plain": [
       "    E   key\n",
       "0  E1  key0\n",
       "1  E2  key1\n",
       "2  E3  key2\n",
       "3  E4  key3\n",
       "4  E5  key4\n",
       "5  E6  key5"
      ]
     },
     "execution_count": 8,
     "metadata": {},
     "output_type": "execute_result"
    }
   ],
   "source": [
    "new_right = pd.DataFrame({'E': ['E1','E2','E3','E4','E5','E6'],\n",
    "                          'key': make_keys(6)})\n",
    "new_right"
   ]
  },
  {
   "cell_type": "code",
   "execution_count": 10,
   "id": "647f052b",
   "metadata": {},
   "outputs": [
    {
     "data": {
      "text/html": [
       "<div>\n",
       "<style scoped>\n",
       "    .dataframe tbody tr th:only-of-type {\n",
       "        vertical-align: middle;\n",
       "    }\n",
       "\n",
       "    .dataframe tbody tr th {\n",
       "        vertical-align: top;\n",
       "    }\n",
       "\n",
       "    .dataframe thead th {\n",
       "        text-align: right;\n",
       "    }\n",
       "</style>\n",
       "<table border=\"1\" class=\"dataframe\">\n",
       "  <thead>\n",
       "    <tr style=\"text-align: right;\">\n",
       "      <th></th>\n",
       "      <th>A</th>\n",
       "      <th>B</th>\n",
       "      <th>C</th>\n",
       "      <th>D</th>\n",
       "      <th>key</th>\n",
       "      <th>E</th>\n",
       "    </tr>\n",
       "  </thead>\n",
       "  <tbody>\n",
       "    <tr>\n",
       "      <th>0</th>\n",
       "      <td>A0</td>\n",
       "      <td>B0</td>\n",
       "      <td>C0</td>\n",
       "      <td>D0</td>\n",
       "      <td>key0</td>\n",
       "      <td>E1</td>\n",
       "    </tr>\n",
       "    <tr>\n",
       "      <th>1</th>\n",
       "      <td>A1</td>\n",
       "      <td>B1</td>\n",
       "      <td>C1</td>\n",
       "      <td>D1</td>\n",
       "      <td>key1</td>\n",
       "      <td>E2</td>\n",
       "    </tr>\n",
       "    <tr>\n",
       "      <th>2</th>\n",
       "      <td>A2</td>\n",
       "      <td>B2</td>\n",
       "      <td>C2</td>\n",
       "      <td>D2</td>\n",
       "      <td>key2</td>\n",
       "      <td>E3</td>\n",
       "    </tr>\n",
       "    <tr>\n",
       "      <th>3</th>\n",
       "      <td>A3</td>\n",
       "      <td>B3</td>\n",
       "      <td>C3</td>\n",
       "      <td>D3</td>\n",
       "      <td>key3</td>\n",
       "      <td>E4</td>\n",
       "    </tr>\n",
       "    <tr>\n",
       "      <th>4</th>\n",
       "      <td>NaN</td>\n",
       "      <td>NaN</td>\n",
       "      <td>NaN</td>\n",
       "      <td>NaN</td>\n",
       "      <td>key4</td>\n",
       "      <td>E5</td>\n",
       "    </tr>\n",
       "    <tr>\n",
       "      <th>5</th>\n",
       "      <td>NaN</td>\n",
       "      <td>NaN</td>\n",
       "      <td>NaN</td>\n",
       "      <td>NaN</td>\n",
       "      <td>key5</td>\n",
       "      <td>E6</td>\n",
       "    </tr>\n",
       "  </tbody>\n",
       "</table>\n",
       "</div>"
      ],
      "text/plain": [
       "     A    B    C    D   key   E\n",
       "0   A0   B0   C0   D0  key0  E1\n",
       "1   A1   B1   C1   D1  key1  E2\n",
       "2   A2   B2   C2   D2  key2  E3\n",
       "3   A3   B3   C3   D3  key3  E4\n",
       "4  NaN  NaN  NaN  NaN  key4  E5\n",
       "5  NaN  NaN  NaN  NaN  key5  E6"
      ]
     },
     "execution_count": 10,
     "metadata": {},
     "output_type": "execute_result"
    }
   ],
   "source": [
    "pd.merge(left,new_right,how='outer',on='key')"
   ]
  },
  {
   "cell_type": "code",
   "execution_count": 12,
   "id": "5caa224b",
   "metadata": {},
   "outputs": [
    {
     "data": {
      "text/html": [
       "<div>\n",
       "<style scoped>\n",
       "    .dataframe tbody tr th:only-of-type {\n",
       "        vertical-align: middle;\n",
       "    }\n",
       "\n",
       "    .dataframe tbody tr th {\n",
       "        vertical-align: top;\n",
       "    }\n",
       "\n",
       "    .dataframe thead th {\n",
       "        text-align: right;\n",
       "    }\n",
       "</style>\n",
       "<table border=\"1\" class=\"dataframe\">\n",
       "  <thead>\n",
       "    <tr style=\"text-align: right;\">\n",
       "      <th></th>\n",
       "      <th>E</th>\n",
       "    </tr>\n",
       "  </thead>\n",
       "  <tbody>\n",
       "    <tr>\n",
       "      <th>B1</th>\n",
       "      <td>E1</td>\n",
       "    </tr>\n",
       "    <tr>\n",
       "      <th>B2</th>\n",
       "      <td>E2</td>\n",
       "    </tr>\n",
       "    <tr>\n",
       "      <th>B3</th>\n",
       "      <td>E3</td>\n",
       "    </tr>\n",
       "    <tr>\n",
       "      <th>B4</th>\n",
       "      <td>E4</td>\n",
       "    </tr>\n",
       "    <tr>\n",
       "      <th>B5</th>\n",
       "      <td>E5</td>\n",
       "    </tr>\n",
       "    <tr>\n",
       "      <th>B6</th>\n",
       "      <td>E6</td>\n",
       "    </tr>\n",
       "  </tbody>\n",
       "</table>\n",
       "</div>"
      ],
      "text/plain": [
       "     E\n",
       "B1  E1\n",
       "B2  E2\n",
       "B3  E3\n",
       "B4  E4\n",
       "B5  E5\n",
       "B6  E6"
      ]
     },
     "execution_count": 12,
     "metadata": {},
     "output_type": "execute_result"
    }
   ],
   "source": [
    "other = pd.DataFrame({'E':['E1','E2','E3','E4','E5','E6']},index=['B1','B2','B3','B4','B5','B6'])\n",
    "other"
   ]
  },
  {
   "cell_type": "code",
   "execution_count": 13,
   "id": "72a06ddf",
   "metadata": {},
   "outputs": [
    {
     "data": {
      "text/html": [
       "<div>\n",
       "<style scoped>\n",
       "    .dataframe tbody tr th:only-of-type {\n",
       "        vertical-align: middle;\n",
       "    }\n",
       "\n",
       "    .dataframe tbody tr th {\n",
       "        vertical-align: top;\n",
       "    }\n",
       "\n",
       "    .dataframe thead th {\n",
       "        text-align: right;\n",
       "    }\n",
       "</style>\n",
       "<table border=\"1\" class=\"dataframe\">\n",
       "  <thead>\n",
       "    <tr style=\"text-align: right;\">\n",
       "      <th></th>\n",
       "      <th>A</th>\n",
       "      <th>B</th>\n",
       "      <th>C</th>\n",
       "      <th>D</th>\n",
       "      <th>key</th>\n",
       "      <th>E</th>\n",
       "    </tr>\n",
       "  </thead>\n",
       "  <tbody>\n",
       "    <tr>\n",
       "      <th>0</th>\n",
       "      <td>A0</td>\n",
       "      <td>B0</td>\n",
       "      <td>C0</td>\n",
       "      <td>D0</td>\n",
       "      <td>key0</td>\n",
       "      <td>NaN</td>\n",
       "    </tr>\n",
       "    <tr>\n",
       "      <th>1</th>\n",
       "      <td>A1</td>\n",
       "      <td>B1</td>\n",
       "      <td>C1</td>\n",
       "      <td>D1</td>\n",
       "      <td>key1</td>\n",
       "      <td>E1</td>\n",
       "    </tr>\n",
       "    <tr>\n",
       "      <th>2</th>\n",
       "      <td>A2</td>\n",
       "      <td>B2</td>\n",
       "      <td>C2</td>\n",
       "      <td>D2</td>\n",
       "      <td>key2</td>\n",
       "      <td>E2</td>\n",
       "    </tr>\n",
       "    <tr>\n",
       "      <th>3</th>\n",
       "      <td>A3</td>\n",
       "      <td>B3</td>\n",
       "      <td>C3</td>\n",
       "      <td>D3</td>\n",
       "      <td>key3</td>\n",
       "      <td>E3</td>\n",
       "    </tr>\n",
       "  </tbody>\n",
       "</table>\n",
       "</div>"
      ],
      "text/plain": [
       "    A   B   C   D   key    E\n",
       "0  A0  B0  C0  D0  key0  NaN\n",
       "1  A1  B1  C1  D1  key1   E1\n",
       "2  A2  B2  C2  D2  key2   E2\n",
       "3  A3  B3  C3  D3  key3   E3"
      ]
     },
     "execution_count": 13,
     "metadata": {},
     "output_type": "execute_result"
    }
   ],
   "source": [
    "left.join(other,on='B')"
   ]
  },
  {
   "cell_type": "code",
   "execution_count": 14,
   "id": "8f365613",
   "metadata": {},
   "outputs": [
    {
     "data": {
      "text/html": [
       "<div>\n",
       "<style scoped>\n",
       "    .dataframe tbody tr th:only-of-type {\n",
       "        vertical-align: middle;\n",
       "    }\n",
       "\n",
       "    .dataframe tbody tr th {\n",
       "        vertical-align: top;\n",
       "    }\n",
       "\n",
       "    .dataframe thead th {\n",
       "        text-align: right;\n",
       "    }\n",
       "</style>\n",
       "<table border=\"1\" class=\"dataframe\">\n",
       "  <thead>\n",
       "    <tr style=\"text-align: right;\">\n",
       "      <th></th>\n",
       "      <th>A</th>\n",
       "      <th>B</th>\n",
       "      <th>C</th>\n",
       "      <th>D</th>\n",
       "      <th>key</th>\n",
       "      <th>E</th>\n",
       "    </tr>\n",
       "  </thead>\n",
       "  <tbody>\n",
       "    <tr>\n",
       "      <th>1</th>\n",
       "      <td>A1</td>\n",
       "      <td>B1</td>\n",
       "      <td>C1</td>\n",
       "      <td>D1</td>\n",
       "      <td>key1</td>\n",
       "      <td>E1</td>\n",
       "    </tr>\n",
       "    <tr>\n",
       "      <th>2</th>\n",
       "      <td>A2</td>\n",
       "      <td>B2</td>\n",
       "      <td>C2</td>\n",
       "      <td>D2</td>\n",
       "      <td>key2</td>\n",
       "      <td>E2</td>\n",
       "    </tr>\n",
       "    <tr>\n",
       "      <th>3</th>\n",
       "      <td>A3</td>\n",
       "      <td>B3</td>\n",
       "      <td>C3</td>\n",
       "      <td>D3</td>\n",
       "      <td>key3</td>\n",
       "      <td>E3</td>\n",
       "    </tr>\n",
       "  </tbody>\n",
       "</table>\n",
       "</div>"
      ],
      "text/plain": [
       "    A   B   C   D   key   E\n",
       "1  A1  B1  C1  D1  key1  E1\n",
       "2  A2  B2  C2  D2  key2  E2\n",
       "3  A3  B3  C3  D3  key3  E3"
      ]
     },
     "execution_count": 14,
     "metadata": {},
     "output_type": "execute_result"
    }
   ],
   "source": [
    "left.join(other,on='B',how='inner')"
   ]
  },
  {
   "cell_type": "code",
   "execution_count": 15,
   "id": "2048e504",
   "metadata": {},
   "outputs": [
    {
     "data": {
      "text/html": [
       "<div>\n",
       "<style scoped>\n",
       "    .dataframe tbody tr th:only-of-type {\n",
       "        vertical-align: middle;\n",
       "    }\n",
       "\n",
       "    .dataframe tbody tr th {\n",
       "        vertical-align: top;\n",
       "    }\n",
       "\n",
       "    .dataframe thead th {\n",
       "        text-align: right;\n",
       "    }\n",
       "</style>\n",
       "<table border=\"1\" class=\"dataframe\">\n",
       "  <thead>\n",
       "    <tr style=\"text-align: right;\">\n",
       "      <th></th>\n",
       "      <th>A</th>\n",
       "      <th>B</th>\n",
       "      <th>C</th>\n",
       "      <th>D</th>\n",
       "      <th>key</th>\n",
       "    </tr>\n",
       "  </thead>\n",
       "  <tbody>\n",
       "    <tr>\n",
       "      <th>0</th>\n",
       "      <td>A0</td>\n",
       "      <td>B0</td>\n",
       "      <td>C0</td>\n",
       "      <td>D0</td>\n",
       "      <td>key0</td>\n",
       "    </tr>\n",
       "    <tr>\n",
       "      <th>1</th>\n",
       "      <td>A1</td>\n",
       "      <td>B1</td>\n",
       "      <td>C1</td>\n",
       "      <td>D1</td>\n",
       "      <td>key1</td>\n",
       "    </tr>\n",
       "    <tr>\n",
       "      <th>2</th>\n",
       "      <td>A2</td>\n",
       "      <td>B2</td>\n",
       "      <td>C2</td>\n",
       "      <td>D2</td>\n",
       "      <td>key2</td>\n",
       "    </tr>\n",
       "    <tr>\n",
       "      <th>3</th>\n",
       "      <td>A3</td>\n",
       "      <td>B3</td>\n",
       "      <td>C3</td>\n",
       "      <td>D3</td>\n",
       "      <td>key3</td>\n",
       "    </tr>\n",
       "  </tbody>\n",
       "</table>\n",
       "</div>"
      ],
      "text/plain": [
       "    A   B   C   D   key\n",
       "0  A0  B0  C0  D0  key0\n",
       "1  A1  B1  C1  D1  key1\n",
       "2  A2  B2  C2  D2  key2\n",
       "3  A3  B3  C3  D3  key3"
      ]
     },
     "execution_count": 15,
     "metadata": {},
     "output_type": "execute_result"
    }
   ],
   "source": [
    "left"
   ]
  },
  {
   "cell_type": "code",
   "execution_count": 16,
   "id": "76012ff6",
   "metadata": {},
   "outputs": [
    {
     "data": {
      "text/html": [
       "<div>\n",
       "<style scoped>\n",
       "    .dataframe tbody tr th:only-of-type {\n",
       "        vertical-align: middle;\n",
       "    }\n",
       "\n",
       "    .dataframe tbody tr th {\n",
       "        vertical-align: top;\n",
       "    }\n",
       "\n",
       "    .dataframe thead th {\n",
       "        text-align: right;\n",
       "    }\n",
       "</style>\n",
       "<table border=\"1\" class=\"dataframe\">\n",
       "  <thead>\n",
       "    <tr style=\"text-align: right;\">\n",
       "      <th></th>\n",
       "      <th>A</th>\n",
       "      <th>B</th>\n",
       "      <th>C</th>\n",
       "      <th>D</th>\n",
       "      <th>key</th>\n",
       "    </tr>\n",
       "  </thead>\n",
       "  <tbody>\n",
       "    <tr>\n",
       "      <th>8</th>\n",
       "      <td>A8</td>\n",
       "      <td>B8</td>\n",
       "      <td>C8</td>\n",
       "      <td>D8</td>\n",
       "      <td>key0</td>\n",
       "    </tr>\n",
       "    <tr>\n",
       "      <th>9</th>\n",
       "      <td>A9</td>\n",
       "      <td>B9</td>\n",
       "      <td>C9</td>\n",
       "      <td>D9</td>\n",
       "      <td>key1</td>\n",
       "    </tr>\n",
       "    <tr>\n",
       "      <th>10</th>\n",
       "      <td>A10</td>\n",
       "      <td>B10</td>\n",
       "      <td>C10</td>\n",
       "      <td>D10</td>\n",
       "      <td>key2</td>\n",
       "    </tr>\n",
       "    <tr>\n",
       "      <th>11</th>\n",
       "      <td>A11</td>\n",
       "      <td>B11</td>\n",
       "      <td>C11</td>\n",
       "      <td>D11</td>\n",
       "      <td>key3</td>\n",
       "    </tr>\n",
       "  </tbody>\n",
       "</table>\n",
       "</div>"
      ],
      "text/plain": [
       "      A    B    C    D   key\n",
       "8    A8   B8   C8   D8  key0\n",
       "9    A9   B9   C9   D9  key1\n",
       "10  A10  B10  C10  D10  key2\n",
       "11  A11  B11  C11  D11  key3"
      ]
     },
     "execution_count": 16,
     "metadata": {},
     "output_type": "execute_result"
    }
   ],
   "source": [
    "right"
   ]
  },
  {
   "cell_type": "code",
   "execution_count": 8,
   "id": "76a7282d",
   "metadata": {},
   "outputs": [
    {
     "data": {
      "text/plain": [
       "A      object\n",
       "B      object\n",
       "C      object\n",
       "D      object\n",
       "key    object\n",
       "dtype: object"
      ]
     },
     "execution_count": 8,
     "metadata": {},
     "output_type": "execute_result"
    }
   ],
   "source": [
    "left.dtypes"
   ]
  },
  {
   "cell_type": "code",
   "execution_count": 9,
   "id": "282f2bd9",
   "metadata": {},
   "outputs": [
    {
     "data": {
      "text/plain": [
       "A      object\n",
       "B      object\n",
       "C      object\n",
       "D      object\n",
       "key    object\n",
       "dtype: object"
      ]
     },
     "execution_count": 9,
     "metadata": {},
     "output_type": "execute_result"
    }
   ],
   "source": [
    "right.dtypes"
   ]
  },
  {
   "cell_type": "code",
   "execution_count": 13,
   "id": "88e7be0c",
   "metadata": {},
   "outputs": [],
   "source": [
    "left['key'] = left['key'].astype(str)\n",
    "right['key'] = right['key'].astype(str)"
   ]
  },
  {
   "cell_type": "code",
   "execution_count": 28,
   "id": "0e48a88a",
   "metadata": {},
   "outputs": [
    {
     "name": "stdout",
     "output_type": "stream",
     "text": [
      "  A_left B_left C_left D_left   key A_right B_right C_right D_right\n",
      "0     A0     B0     C0     D0  key0      A8      B8      C8      D8\n",
      "1     A1     B1     C1     D1  key1      A9      B9      C9      D9\n",
      "2     A2     B2     C2     D2  key2     A10     B10     C10     D10\n",
      "3     A3     B3     C3     D3  key3     A11     B11     C11     D11\n"
     ]
    }
   ],
   "source": [
    "result = left.join(right.set_index('key'), on='key', lsuffix='_left', rsuffix='_right')\n",
    "print(result)"
   ]
  },
  {
   "cell_type": "code",
   "execution_count": 3,
   "id": "213db14e",
   "metadata": {},
   "outputs": [],
   "source": [
    "df = pd.read_excel('myExcelFile.xlsx', sheet_name='my_data')"
   ]
  }
 ],
 "metadata": {
  "kernelspec": {
   "display_name": "kodilla-edu",
   "language": "python",
   "name": "python3"
  },
  "language_info": {
   "codemirror_mode": {
    "name": "ipython",
    "version": 3
   },
   "file_extension": ".py",
   "mimetype": "text/x-python",
   "name": "python",
   "nbconvert_exporter": "python",
   "pygments_lexer": "ipython3",
   "version": "3.9.20"
  }
 },
 "nbformat": 4,
 "nbformat_minor": 5
}
