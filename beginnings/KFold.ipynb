{
 "cells": [
  {
   "cell_type": "code",
   "execution_count": 17,
   "metadata": {},
   "outputs": [],
   "source": [
    "from sklearn.datasets import load_iris\n",
    "\n",
    "iris = load_iris()\n",
    "\n",
    "X, y, iris_classes = iris.data, iris.target, iris.target_names"
   ]
  },
  {
   "cell_type": "markdown",
   "metadata": {},
   "source": [
    "Na początku stworzymy obiekt typu KFold. Co powinien zawierać?\n",
    "\n",
    "- import odpowiedniej biblioteki,\n",
    "- podział na 5 części,\n",
    "- pomieszanie danych wejściowych\n",
    "- random_state=10\n",
    "- klasyfikator: SGDClassifier."
   ]
  },
  {
   "cell_type": "code",
   "execution_count": 9,
   "metadata": {},
   "outputs": [
    {
     "name": "stdout",
     "output_type": "stream",
     "text": [
      "wyniki poszczególnych foldów:  [0.8666666666666667, 0.9333333333333333, 0.9666666666666667, 0.9, 0.9333333333333333]\n",
      "średni wynik wszystkich foldów:  0.9199999999999999\n"
     ]
    }
   ],
   "source": [
    "import numpy as np\n",
    "\n",
    "from sklearn.model_selection import KFold\n",
    "from sklearn.preprocessing import StandardScaler\n",
    "from sklearn.linear_model import SGDClassifier\n",
    "\n",
    "scaler = StandardScaler()\n",
    "\n",
    "kf = KFold(n_splits=5, shuffle=True, random_state=1)\n",
    "\n",
    "models = []\n",
    "scores = []\n",
    "\n",
    "for fold_nr, (train_idx, test_idx) in enumerate(kf.split(X)):\n",
    "  X_train = X[train_idx]\n",
    "  X_test =X[test_idx]\n",
    "\n",
    "  y_train = y[train_idx]\n",
    "  y_test = y[test_idx]\n",
    "\n",
    "  # skalowanie danych wejściowych, aby model lepiej działał\n",
    "  X_train = scaler.fit_transform(X_train)\n",
    "  X_test = scaler.transform(X_test)\n",
    "\n",
    "  clf = SGDClassifier(random_state=1).fit(X_train, y_train)\n",
    "\n",
    "  models.append(clf)\n",
    "  scores.append(clf.score(X_test, y_test))\n",
    "\n",
    "\n",
    "print(\"wyniki poszczególnych foldów: \", scores)\n",
    "print(\"średni wynik wszystkich foldów: \", np.array(scores).mean())"
   ]
  },
  {
   "cell_type": "code",
   "execution_count": 3,
   "metadata": {},
   "outputs": [
    {
     "name": "stdout",
     "output_type": "stream",
     "text": [
      "wynik kroswalidacji:  [0.83333333 0.93333333 0.8        0.7        0.9       ]\n",
      "średni wynik wszystkich foldów:  0.8333333333333334\n"
     ]
    }
   ],
   "source": [
    "\n",
    "from sklearn.model_selection import cross_val_score\n",
    "from sklearn.linear_model import SGDClassifier\n",
    "# stworzenie klasyfikatora\n",
    "clf = SGDClassifier(random_state=1)\n",
    "\n",
    "\n",
    "# użycie metody cross_val_score do sprawdzenia\n",
    "# działania naszego modelu na różnych podziałach\n",
    "cv_score = cross_val_score(clf, X, y, cv=5)\n",
    "print(\"wynik kroswalidacji: \", cv_score)\n",
    "print(\"średni wynik wszystkich foldów: \", cv_score.mean())"
   ]
  },
  {
   "cell_type": "code",
   "execution_count": 4,
   "metadata": {},
   "outputs": [
    {
     "name": "stdout",
     "output_type": "stream",
     "text": [
      "predykcje:  [0 0 0 0 0 0 0 0 0 0 0 0 0 0 0 0 0 0 0 0 0 0 0 0 0 0 0 0 0 0 0 0 0 0 0 0 0\n",
      " 0 0 0 0 0 0 0 0 0 0 0 0 0 1 2 1 1 2 2 2 1 1 2 1 1 1 1 1 1 1 1 1 1 0 1 1 1\n",
      " 1 1 1 1 1 1 1 1 1 1 1 1 1 1 1 1 1 1 1 1 1 1 1 1 1 1 2 2 2 2 2 2 2 2 2 2 1\n",
      " 2 2 2 2 2 2 2 2 1 2 2 2 1 2 1 1 0 2 1 1 1 1 1 1 1 2 1 1 1 2 1 2 2 2 2 1 1\n",
      " 2 2]\n",
      "średni wynik predykcji:  0.8333333333333334\n"
     ]
    }
   ],
   "source": [
    "from sklearn.model_selection import cross_val_predict\n",
    "\n",
    "# użycie metody cross_val_predict do sprawdzenia\n",
    "# działania naszego modelu na różnych podziałach\n",
    "\n",
    "cv_pred = cross_val_predict(clf, X, y, cv=5)\n",
    "print(\"predykcje: \", cv_pred)\n",
    "print(\"średni wynik predykcji: \", np.mean(cv_pred == y))\n",
    "\n"
   ]
  },
  {
   "cell_type": "code",
   "execution_count": 13,
   "metadata": {},
   "outputs": [
    {
     "name": "stdout",
     "output_type": "stream",
     "text": [
      ">Train: 0=790, 1=10, Test: 0=200, 1=0\n"
     ]
    }
   ],
   "source": [
    "from sklearn.model_selection import train_test_split\n",
    "from sklearn.datasets import make_classification\n",
    "\n",
    "X, y = make_classification(\n",
    "    n_samples=1000,\n",
    "    n_classes=2,\n",
    "    weights=[0.99, 0.01],\n",
    "    flip_y=0,\n",
    "    random_state=1\n",
    ")\n",
    "\n",
    "X_train, X_test, y_train, y_test = \\\n",
    "    train_test_split(X, y, test_size = 0.2, random_state=3)\n",
    "\n",
    "train_0, train_1 = len(y_train[y_train==0]), len(y_train[y_train==1])\n",
    "test_0, test_1 = len(y_test[y_test==0]), len(y_test[y_test==1])\n",
    "\n",
    "print('>Train: 0=%d, 1=%d, Test: 0=%d, 1=%d' % (train_0, train_1, test_0, test_1))"
   ]
  },
  {
   "cell_type": "code",
   "execution_count": 15,
   "metadata": {},
   "outputs": [
    {
     "name": "stdout",
     "output_type": "stream",
     "text": [
      ">Train: 0=792, 1=8, Test: 0=198, 1=2\n"
     ]
    }
   ],
   "source": [
    "from sklearn.model_selection import train_test_split\n",
    "from sklearn.datasets import make_classification\n",
    "\n",
    "X, y = make_classification(\n",
    "    n_samples=1000,\n",
    "    n_classes=2,\n",
    "    weights=[0.99, 0.01],\n",
    "    flip_y=0,\n",
    "    random_state=1\n",
    ")\n",
    "\n",
    "X_train, X_test, y_train, y_test = \\\n",
    "    train_test_split(X, y, test_size = 0.2, random_state=3, stratify=y)\n",
    "\n",
    "train_0, train_1 = len(y_train[y_train==0]), len(y_train[y_train==1])\n",
    "test_0, test_1 = len(y_test[y_test==0]), len(y_test[y_test==1])\n",
    "\n",
    "print('>Train: 0=%d, 1=%d, Test: 0=%d, 1=%d' % (train_0, train_1, test_0, test_1))"
   ]
  },
  {
   "cell_type": "code",
   "execution_count": 18,
   "metadata": {},
   "outputs": [
    {
     "name": "stdout",
     "output_type": "stream",
     "text": [
      "wyniki poszczególnych foldów:  [0.9, 1.0, 0.9666666666666667, 0.9666666666666667, 0.8333333333333334]\n",
      "średni wynik wszystkich foldów:  0.9333333333333333\n"
     ]
    }
   ],
   "source": [
    "import numpy as np\n",
    "\n",
    "from sklearn.model_selection import StratifiedKFold\n",
    "from sklearn.preprocessing import StandardScaler\n",
    "from sklearn.linear_model import SGDClassifier\n",
    "\n",
    "scaler = StandardScaler()\n",
    "\n",
    "kf = StratifiedKFold(n_splits=5, shuffle=True, random_state=1)\n",
    "\n",
    "models = []\n",
    "scores = []\n",
    "\n",
    "for fold_nr, (train_idx, test_idx) in enumerate(kf.split(X, y)):\n",
    "  X_train = X[train_idx]\n",
    "  X_test =X[test_idx]\n",
    "\n",
    "  y_train = y[train_idx]\n",
    "  y_test = y[test_idx]\n",
    "\n",
    "  # skalowanie danych wejściowych, aby model lepiej działał\n",
    "  X_train = scaler.fit_transform(X_train)\n",
    "  X_test = scaler.transform(X_test)\n",
    "\n",
    "  clf = SGDClassifier(random_state=1).fit(X_train, y_train)\n",
    "\n",
    "  models.append(clf)\n",
    "  scores.append(clf.score(X_test, y_test))\n",
    "\n",
    "\n",
    "print(\"wyniki poszczególnych foldów: \", scores)\n",
    "print(\"średni wynik wszystkich foldów: \", np.array(scores).mean())"
   ]
  }
 ],
 "metadata": {
  "kernelspec": {
   "display_name": "kodilla-edu",
   "language": "python",
   "name": "python3"
  },
  "language_info": {
   "codemirror_mode": {
    "name": "ipython",
    "version": 3
   },
   "file_extension": ".py",
   "mimetype": "text/x-python",
   "name": "python",
   "nbconvert_exporter": "python",
   "pygments_lexer": "ipython3",
   "version": "3.9.20"
  }
 },
 "nbformat": 4,
 "nbformat_minor": 2
}
