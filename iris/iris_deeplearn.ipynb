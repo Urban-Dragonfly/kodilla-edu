{
 "cells": [
  {
   "cell_type": "markdown",
   "metadata": {},
   "source": [
    "# Zadanie 18.3: model klasyfikacji\n",
    "Stwórz model klasyfikacji, w oparciu o architekturę sieci neuronowych. Naucz model klasyfikować gatunki kwiatów, wykorzystując zbiór Iris."
   ]
  },
  {
   "cell_type": "code",
   "execution_count": 1,
   "metadata": {},
   "outputs": [],
   "source": [
    "# Załadowanie bibliotek\n",
    "\n",
    "import numpy as np\n",
    "from sklearn.datasets import load_iris\n",
    "from sklearn.model_selection import train_test_split\n",
    "\n",
    "from tensorflow.keras.models import Sequential\n",
    "from tensorflow.keras.layers import Dense\n",
    "from tensorflow.keras.optimizers import Adam\n",
    "from tensorflow.keras.callbacks import LearningRateScheduler\n",
    "\n",
    "from sklearn.metrics import confusion_matrix\n",
    "import matplotlib.pyplot as plt\n",
    "import seaborn as sns"
   ]
  },
  {
   "cell_type": "code",
   "execution_count": 2,
   "metadata": {},
   "outputs": [],
   "source": [
    "# Załadowanie danych Iris\n",
    "\n",
    "data = load_iris()\n",
    "X = data.data\n",
    "y = data.target.reshape(-1, 1)"
   ]
  },
  {
   "cell_type": "code",
   "execution_count": 3,
   "metadata": {},
   "outputs": [],
   "source": [
    "# Podział danych na treningowe i testowe\n",
    "X_train, X_test, y_train, y_test = train_test_split(X, y, test_size=0.2, random_state=42)"
   ]
  },
  {
   "cell_type": "code",
   "execution_count": 4,
   "metadata": {},
   "outputs": [],
   "source": [
    "# Budowa modelu\n",
    "model = Sequential([\n",
    "    Dense(10, activation='relu', input_shape=(X.shape[1],)),\n",
    "    Dense(10, activation='relu'),\n",
    "    Dense(3, activation='softmax')  # 3 klasy\n",
    "])"
   ]
  },
  {
   "cell_type": "code",
   "execution_count": 5,
   "metadata": {},
   "outputs": [],
   "source": [
    "# Wybór optymalizatora\n",
    "optimizer = Adam(learning_rate=0.01)"
   ]
  },
  {
   "cell_type": "code",
   "execution_count": 6,
   "metadata": {},
   "outputs": [],
   "source": [
    "# Kompilacja modelu\n",
    "model.compile(optimizer=optimizer, loss='sparse_categorical_crossentropy', metrics=['accuracy'])"
   ]
  },
  {
   "cell_type": "code",
   "execution_count": 7,
   "metadata": {},
   "outputs": [],
   "source": [
    "# Scheduler zmiany learning rate\n",
    "def scheduler(epoch, lr):\n",
    "    if epoch % 10 == 0 and epoch != 0:\n",
    "        return lr * 0.9\n",
    "    return lr\n",
    "\n",
    "lr_scheduler = LearningRateScheduler(scheduler)"
   ]
  },
  {
   "cell_type": "code",
   "execution_count": 8,
   "metadata": {},
   "outputs": [
    {
     "name": "stdout",
     "output_type": "stream",
     "text": [
      "Epoch 1/100\n",
      "8/8 [==============================] - 1s 42ms/step - loss: 1.0395 - accuracy: 0.5417 - val_loss: 0.8810 - val_accuracy: 0.3667 - lr: 0.0100\n",
      "Epoch 2/100\n",
      "8/8 [==============================] - 0s 4ms/step - loss: 0.8420 - accuracy: 0.6000 - val_loss: 0.7538 - val_accuracy: 0.8000 - lr: 0.0100\n",
      "Epoch 3/100\n",
      "8/8 [==============================] - 0s 4ms/step - loss: 0.7142 - accuracy: 0.8333 - val_loss: 0.6351 - val_accuracy: 0.8000 - lr: 0.0100\n",
      "Epoch 4/100\n",
      "8/8 [==============================] - 0s 4ms/step - loss: 0.6015 - accuracy: 0.7750 - val_loss: 0.5434 - val_accuracy: 0.8000 - lr: 0.0100\n",
      "Epoch 5/100\n",
      "8/8 [==============================] - 0s 4ms/step - loss: 0.5110 - accuracy: 0.8833 - val_loss: 0.4709 - val_accuracy: 0.8667 - lr: 0.0100\n",
      "Epoch 6/100\n",
      "8/8 [==============================] - 0s 4ms/step - loss: 0.4503 - accuracy: 0.9167 - val_loss: 0.4214 - val_accuracy: 0.8333 - lr: 0.0100\n",
      "Epoch 7/100\n",
      "8/8 [==============================] - 0s 4ms/step - loss: 0.4033 - accuracy: 0.9000 - val_loss: 0.3855 - val_accuracy: 0.9333 - lr: 0.0100\n",
      "Epoch 8/100\n",
      "8/8 [==============================] - 0s 4ms/step - loss: 0.3641 - accuracy: 0.9750 - val_loss: 0.3505 - val_accuracy: 0.9333 - lr: 0.0100\n",
      "Epoch 9/100\n",
      "8/8 [==============================] - 0s 4ms/step - loss: 0.3347 - accuracy: 0.9417 - val_loss: 0.3165 - val_accuracy: 0.9333 - lr: 0.0100\n",
      "Epoch 10/100\n",
      "8/8 [==============================] - 0s 4ms/step - loss: 0.2893 - accuracy: 0.9667 - val_loss: 0.2843 - val_accuracy: 0.9667 - lr: 0.0100\n",
      "Epoch 11/100\n",
      "8/8 [==============================] - 0s 6ms/step - loss: 0.2573 - accuracy: 0.9667 - val_loss: 0.2677 - val_accuracy: 0.8667 - lr: 0.0090\n",
      "Epoch 12/100\n",
      "8/8 [==============================] - 0s 4ms/step - loss: 0.2371 - accuracy: 0.9750 - val_loss: 0.2512 - val_accuracy: 0.9667 - lr: 0.0090\n",
      "Epoch 13/100\n",
      "8/8 [==============================] - 0s 4ms/step - loss: 0.2130 - accuracy: 0.9583 - val_loss: 0.2494 - val_accuracy: 0.8333 - lr: 0.0090\n",
      "Epoch 14/100\n",
      "8/8 [==============================] - 0s 5ms/step - loss: 0.1891 - accuracy: 0.9750 - val_loss: 0.2048 - val_accuracy: 0.9667 - lr: 0.0090\n",
      "Epoch 15/100\n",
      "8/8 [==============================] - 0s 5ms/step - loss: 0.1872 - accuracy: 0.9667 - val_loss: 0.2012 - val_accuracy: 0.8667 - lr: 0.0090\n",
      "Epoch 16/100\n",
      "8/8 [==============================] - 0s 5ms/step - loss: 0.1534 - accuracy: 0.9833 - val_loss: 0.1795 - val_accuracy: 0.9667 - lr: 0.0090\n",
      "Epoch 17/100\n",
      "8/8 [==============================] - 0s 4ms/step - loss: 0.1435 - accuracy: 0.9667 - val_loss: 0.1821 - val_accuracy: 0.8667 - lr: 0.0090\n",
      "Epoch 18/100\n",
      "8/8 [==============================] - 0s 4ms/step - loss: 0.1270 - accuracy: 0.9750 - val_loss: 0.1605 - val_accuracy: 0.9667 - lr: 0.0090\n",
      "Epoch 19/100\n",
      "8/8 [==============================] - 0s 5ms/step - loss: 0.1287 - accuracy: 0.9750 - val_loss: 0.1598 - val_accuracy: 0.9000 - lr: 0.0090\n",
      "Epoch 20/100\n",
      "8/8 [==============================] - 0s 5ms/step - loss: 0.1156 - accuracy: 0.9750 - val_loss: 0.1517 - val_accuracy: 0.9333 - lr: 0.0090\n",
      "Epoch 21/100\n",
      "8/8 [==============================] - 0s 4ms/step - loss: 0.1178 - accuracy: 0.9750 - val_loss: 0.2001 - val_accuracy: 0.8667 - lr: 0.0081\n",
      "Epoch 22/100\n",
      "8/8 [==============================] - 0s 4ms/step - loss: 0.1111 - accuracy: 0.9833 - val_loss: 0.1711 - val_accuracy: 0.9667 - lr: 0.0081\n",
      "Epoch 23/100\n",
      "8/8 [==============================] - 0s 4ms/step - loss: 0.1288 - accuracy: 0.9583 - val_loss: 0.1936 - val_accuracy: 0.8667 - lr: 0.0081\n",
      "Epoch 24/100\n",
      "8/8 [==============================] - 0s 4ms/step - loss: 0.1177 - accuracy: 0.9833 - val_loss: 0.1269 - val_accuracy: 0.9667 - lr: 0.0081\n",
      "Epoch 25/100\n",
      "8/8 [==============================] - 0s 4ms/step - loss: 0.1192 - accuracy: 0.9583 - val_loss: 0.1260 - val_accuracy: 0.9667 - lr: 0.0081\n",
      "Epoch 26/100\n",
      "8/8 [==============================] - 0s 4ms/step - loss: 0.0977 - accuracy: 0.9750 - val_loss: 0.1327 - val_accuracy: 0.9000 - lr: 0.0081\n",
      "Epoch 27/100\n",
      "8/8 [==============================] - 0s 4ms/step - loss: 0.0894 - accuracy: 0.9750 - val_loss: 0.1225 - val_accuracy: 0.9667 - lr: 0.0081\n",
      "Epoch 28/100\n",
      "8/8 [==============================] - 0s 4ms/step - loss: 0.0857 - accuracy: 0.9833 - val_loss: 0.1208 - val_accuracy: 0.9667 - lr: 0.0081\n",
      "Epoch 29/100\n",
      "8/8 [==============================] - 0s 4ms/step - loss: 0.0882 - accuracy: 0.9667 - val_loss: 0.1204 - val_accuracy: 0.9667 - lr: 0.0081\n",
      "Epoch 30/100\n",
      "8/8 [==============================] - 0s 4ms/step - loss: 0.0831 - accuracy: 0.9833 - val_loss: 0.1114 - val_accuracy: 0.9667 - lr: 0.0081\n",
      "Epoch 31/100\n",
      "8/8 [==============================] - 0s 4ms/step - loss: 0.0869 - accuracy: 0.9667 - val_loss: 0.1238 - val_accuracy: 0.9000 - lr: 0.0073\n",
      "Epoch 32/100\n",
      "8/8 [==============================] - 0s 4ms/step - loss: 0.1069 - accuracy: 0.9667 - val_loss: 0.1129 - val_accuracy: 0.9667 - lr: 0.0073\n",
      "Epoch 33/100\n",
      "8/8 [==============================] - 0s 4ms/step - loss: 0.1124 - accuracy: 0.9417 - val_loss: 0.1063 - val_accuracy: 0.9667 - lr: 0.0073\n",
      "Epoch 34/100\n",
      "8/8 [==============================] - 0s 5ms/step - loss: 0.1081 - accuracy: 0.9667 - val_loss: 0.1203 - val_accuracy: 0.9000 - lr: 0.0073\n",
      "Epoch 35/100\n",
      "8/8 [==============================] - 0s 4ms/step - loss: 0.0842 - accuracy: 0.9750 - val_loss: 0.1049 - val_accuracy: 0.9667 - lr: 0.0073\n",
      "Epoch 36/100\n",
      "8/8 [==============================] - 0s 5ms/step - loss: 0.1081 - accuracy: 0.9583 - val_loss: 0.1140 - val_accuracy: 0.9667 - lr: 0.0073\n",
      "Epoch 37/100\n",
      "8/8 [==============================] - 0s 5ms/step - loss: 0.1277 - accuracy: 0.9333 - val_loss: 0.1011 - val_accuracy: 0.9667 - lr: 0.0073\n",
      "Epoch 38/100\n",
      "8/8 [==============================] - 0s 5ms/step - loss: 0.2102 - accuracy: 0.9167 - val_loss: 0.1007 - val_accuracy: 0.9667 - lr: 0.0073\n",
      "Epoch 39/100\n",
      "8/8 [==============================] - 0s 4ms/step - loss: 0.1464 - accuracy: 0.9333 - val_loss: 0.1109 - val_accuracy: 0.9667 - lr: 0.0073\n",
      "Epoch 40/100\n",
      "8/8 [==============================] - 0s 4ms/step - loss: 0.0888 - accuracy: 0.9667 - val_loss: 0.1029 - val_accuracy: 0.9667 - lr: 0.0073\n",
      "Epoch 41/100\n",
      "8/8 [==============================] - 0s 4ms/step - loss: 0.0915 - accuracy: 0.9583 - val_loss: 0.1218 - val_accuracy: 0.8667 - lr: 0.0066\n",
      "Epoch 42/100\n",
      "8/8 [==============================] - 0s 4ms/step - loss: 0.0732 - accuracy: 0.9833 - val_loss: 0.0970 - val_accuracy: 0.9667 - lr: 0.0066\n",
      "Epoch 43/100\n",
      "8/8 [==============================] - 0s 4ms/step - loss: 0.0801 - accuracy: 0.9833 - val_loss: 0.1046 - val_accuracy: 0.9667 - lr: 0.0066\n",
      "Epoch 44/100\n",
      "8/8 [==============================] - 0s 4ms/step - loss: 0.0748 - accuracy: 0.9750 - val_loss: 0.1295 - val_accuracy: 0.9000 - lr: 0.0066\n",
      "Epoch 45/100\n",
      "8/8 [==============================] - 0s 4ms/step - loss: 0.0771 - accuracy: 0.9667 - val_loss: 0.0948 - val_accuracy: 0.9667 - lr: 0.0066\n",
      "Epoch 46/100\n",
      "8/8 [==============================] - 0s 4ms/step - loss: 0.0736 - accuracy: 0.9833 - val_loss: 0.1330 - val_accuracy: 0.9000 - lr: 0.0066\n",
      "Epoch 47/100\n",
      "8/8 [==============================] - 0s 4ms/step - loss: 0.0789 - accuracy: 0.9667 - val_loss: 0.1006 - val_accuracy: 0.9667 - lr: 0.0066\n",
      "Epoch 48/100\n",
      "8/8 [==============================] - 0s 4ms/step - loss: 0.1050 - accuracy: 0.9667 - val_loss: 0.0926 - val_accuracy: 0.9667 - lr: 0.0066\n",
      "Epoch 49/100\n",
      "8/8 [==============================] - 0s 4ms/step - loss: 0.0832 - accuracy: 0.9500 - val_loss: 0.1699 - val_accuracy: 0.9000 - lr: 0.0066\n",
      "Epoch 50/100\n",
      "8/8 [==============================] - 0s 4ms/step - loss: 0.0913 - accuracy: 0.9750 - val_loss: 0.1033 - val_accuracy: 0.9667 - lr: 0.0066\n",
      "Epoch 51/100\n",
      "8/8 [==============================] - 0s 4ms/step - loss: 0.0732 - accuracy: 0.9750 - val_loss: 0.1389 - val_accuracy: 0.9000 - lr: 0.0059\n",
      "Epoch 52/100\n",
      "8/8 [==============================] - 0s 4ms/step - loss: 0.0904 - accuracy: 0.9500 - val_loss: 0.1033 - val_accuracy: 0.9667 - lr: 0.0059\n",
      "Epoch 53/100\n",
      "8/8 [==============================] - 0s 5ms/step - loss: 0.0707 - accuracy: 0.9833 - val_loss: 0.0895 - val_accuracy: 0.9667 - lr: 0.0059\n",
      "Epoch 54/100\n",
      "8/8 [==============================] - 0s 4ms/step - loss: 0.0779 - accuracy: 0.9750 - val_loss: 0.1139 - val_accuracy: 0.8667 - lr: 0.0059\n",
      "Epoch 55/100\n",
      "8/8 [==============================] - 0s 4ms/step - loss: 0.0701 - accuracy: 0.9667 - val_loss: 0.0901 - val_accuracy: 0.9667 - lr: 0.0059\n",
      "Epoch 56/100\n",
      "8/8 [==============================] - 0s 4ms/step - loss: 0.0762 - accuracy: 0.9833 - val_loss: 0.0983 - val_accuracy: 0.9667 - lr: 0.0059\n",
      "Epoch 57/100\n",
      "8/8 [==============================] - 0s 4ms/step - loss: 0.0678 - accuracy: 0.9750 - val_loss: 0.1092 - val_accuracy: 0.9000 - lr: 0.0059\n",
      "Epoch 58/100\n",
      "8/8 [==============================] - 0s 4ms/step - loss: 0.0700 - accuracy: 0.9750 - val_loss: 0.0881 - val_accuracy: 0.9667 - lr: 0.0059\n",
      "Epoch 59/100\n",
      "8/8 [==============================] - 0s 4ms/step - loss: 0.0745 - accuracy: 0.9833 - val_loss: 0.0871 - val_accuracy: 0.9667 - lr: 0.0059\n",
      "Epoch 60/100\n",
      "8/8 [==============================] - 0s 4ms/step - loss: 0.0676 - accuracy: 0.9833 - val_loss: 0.0982 - val_accuracy: 0.9667 - lr: 0.0059\n",
      "Epoch 61/100\n",
      "8/8 [==============================] - 0s 4ms/step - loss: 0.0763 - accuracy: 0.9667 - val_loss: 0.0919 - val_accuracy: 0.9667 - lr: 0.0053\n",
      "Epoch 62/100\n",
      "8/8 [==============================] - 0s 4ms/step - loss: 0.0745 - accuracy: 0.9833 - val_loss: 0.0853 - val_accuracy: 0.9667 - lr: 0.0053\n",
      "Epoch 63/100\n",
      "8/8 [==============================] - 0s 4ms/step - loss: 0.0639 - accuracy: 0.9833 - val_loss: 0.1097 - val_accuracy: 0.9000 - lr: 0.0053\n",
      "Epoch 64/100\n",
      "8/8 [==============================] - 0s 4ms/step - loss: 0.0734 - accuracy: 0.9583 - val_loss: 0.0968 - val_accuracy: 0.9667 - lr: 0.0053\n",
      "Epoch 65/100\n",
      "8/8 [==============================] - 0s 4ms/step - loss: 0.0640 - accuracy: 0.9833 - val_loss: 0.0844 - val_accuracy: 0.9667 - lr: 0.0053\n",
      "Epoch 66/100\n",
      "8/8 [==============================] - 0s 4ms/step - loss: 0.0694 - accuracy: 0.9833 - val_loss: 0.0920 - val_accuracy: 0.9667 - lr: 0.0053\n",
      "Epoch 67/100\n",
      "8/8 [==============================] - 0s 4ms/step - loss: 0.0666 - accuracy: 0.9750 - val_loss: 0.0974 - val_accuracy: 0.9667 - lr: 0.0053\n",
      "Epoch 68/100\n",
      "8/8 [==============================] - 0s 4ms/step - loss: 0.0766 - accuracy: 0.9667 - val_loss: 0.0939 - val_accuracy: 0.9667 - lr: 0.0053\n",
      "Epoch 69/100\n",
      "8/8 [==============================] - 0s 4ms/step - loss: 0.0658 - accuracy: 0.9667 - val_loss: 0.0912 - val_accuracy: 0.9667 - lr: 0.0053\n",
      "Epoch 70/100\n",
      "8/8 [==============================] - 0s 4ms/step - loss: 0.0690 - accuracy: 0.9750 - val_loss: 0.0907 - val_accuracy: 0.9667 - lr: 0.0053\n",
      "Epoch 71/100\n",
      "8/8 [==============================] - 0s 4ms/step - loss: 0.0811 - accuracy: 0.9833 - val_loss: 0.0849 - val_accuracy: 0.9667 - lr: 0.0048\n",
      "Epoch 72/100\n",
      "8/8 [==============================] - 0s 4ms/step - loss: 0.0769 - accuracy: 0.9833 - val_loss: 0.1312 - val_accuracy: 0.9000 - lr: 0.0048\n",
      "Epoch 73/100\n",
      "8/8 [==============================] - 0s 4ms/step - loss: 0.0780 - accuracy: 0.9583 - val_loss: 0.0834 - val_accuracy: 0.9667 - lr: 0.0048\n",
      "Epoch 74/100\n",
      "8/8 [==============================] - 0s 4ms/step - loss: 0.0736 - accuracy: 0.9667 - val_loss: 0.0967 - val_accuracy: 0.9667 - lr: 0.0048\n",
      "Epoch 75/100\n",
      "8/8 [==============================] - 0s 4ms/step - loss: 0.0647 - accuracy: 0.9750 - val_loss: 0.0815 - val_accuracy: 0.9667 - lr: 0.0048\n",
      "Epoch 76/100\n",
      "8/8 [==============================] - 0s 4ms/step - loss: 0.0711 - accuracy: 0.9833 - val_loss: 0.0866 - val_accuracy: 0.9667 - lr: 0.0048\n",
      "Epoch 77/100\n",
      "8/8 [==============================] - 0s 4ms/step - loss: 0.0739 - accuracy: 0.9583 - val_loss: 0.1096 - val_accuracy: 0.9000 - lr: 0.0048\n",
      "Epoch 78/100\n",
      "8/8 [==============================] - 0s 4ms/step - loss: 0.0604 - accuracy: 0.9750 - val_loss: 0.0812 - val_accuracy: 0.9667 - lr: 0.0048\n",
      "Epoch 79/100\n",
      "8/8 [==============================] - 0s 4ms/step - loss: 0.0741 - accuracy: 0.9750 - val_loss: 0.0907 - val_accuracy: 0.9667 - lr: 0.0048\n",
      "Epoch 80/100\n",
      "8/8 [==============================] - 0s 4ms/step - loss: 0.0650 - accuracy: 0.9667 - val_loss: 0.1042 - val_accuracy: 0.9667 - lr: 0.0048\n",
      "Epoch 81/100\n",
      "8/8 [==============================] - 0s 4ms/step - loss: 0.0762 - accuracy: 0.9583 - val_loss: 0.0845 - val_accuracy: 0.9667 - lr: 0.0043\n",
      "Epoch 82/100\n",
      "8/8 [==============================] - 0s 4ms/step - loss: 0.0675 - accuracy: 0.9833 - val_loss: 0.0790 - val_accuracy: 0.9667 - lr: 0.0043\n",
      "Epoch 83/100\n",
      "8/8 [==============================] - 0s 4ms/step - loss: 0.0686 - accuracy: 0.9667 - val_loss: 0.0956 - val_accuracy: 0.9667 - lr: 0.0043\n",
      "Epoch 84/100\n",
      "8/8 [==============================] - 0s 4ms/step - loss: 0.0647 - accuracy: 0.9667 - val_loss: 0.0876 - val_accuracy: 0.9667 - lr: 0.0043\n",
      "Epoch 85/100\n",
      "8/8 [==============================] - 0s 4ms/step - loss: 0.0627 - accuracy: 0.9833 - val_loss: 0.0785 - val_accuracy: 0.9667 - lr: 0.0043\n",
      "Epoch 86/100\n",
      "8/8 [==============================] - 0s 4ms/step - loss: 0.0643 - accuracy: 0.9833 - val_loss: 0.0862 - val_accuracy: 0.9667 - lr: 0.0043\n",
      "Epoch 87/100\n",
      "8/8 [==============================] - 0s 4ms/step - loss: 0.0694 - accuracy: 0.9750 - val_loss: 0.1020 - val_accuracy: 0.9667 - lr: 0.0043\n",
      "Epoch 88/100\n",
      "8/8 [==============================] - 0s 4ms/step - loss: 0.0576 - accuracy: 0.9750 - val_loss: 0.0786 - val_accuracy: 0.9667 - lr: 0.0043\n",
      "Epoch 89/100\n",
      "8/8 [==============================] - 0s 4ms/step - loss: 0.0822 - accuracy: 0.9667 - val_loss: 0.0766 - val_accuracy: 0.9667 - lr: 0.0043\n",
      "Epoch 90/100\n",
      "8/8 [==============================] - 0s 4ms/step - loss: 0.0683 - accuracy: 0.9750 - val_loss: 0.1562 - val_accuracy: 0.9000 - lr: 0.0043\n",
      "Epoch 91/100\n",
      "8/8 [==============================] - 0s 5ms/step - loss: 0.0723 - accuracy: 0.9667 - val_loss: 0.0796 - val_accuracy: 0.9667 - lr: 0.0039\n",
      "Epoch 92/100\n",
      "8/8 [==============================] - 0s 4ms/step - loss: 0.0656 - accuracy: 0.9833 - val_loss: 0.0778 - val_accuracy: 0.9667 - lr: 0.0039\n",
      "Epoch 93/100\n",
      "8/8 [==============================] - 0s 4ms/step - loss: 0.0632 - accuracy: 0.9833 - val_loss: 0.0774 - val_accuracy: 0.9667 - lr: 0.0039\n",
      "Epoch 94/100\n",
      "8/8 [==============================] - 0s 4ms/step - loss: 0.0646 - accuracy: 0.9833 - val_loss: 0.0841 - val_accuracy: 0.9667 - lr: 0.0039\n",
      "Epoch 95/100\n",
      "8/8 [==============================] - 0s 4ms/step - loss: 0.0637 - accuracy: 0.9667 - val_loss: 0.0863 - val_accuracy: 0.9667 - lr: 0.0039\n",
      "Epoch 96/100\n",
      "8/8 [==============================] - 0s 4ms/step - loss: 0.0630 - accuracy: 0.9667 - val_loss: 0.0878 - val_accuracy: 0.9667 - lr: 0.0039\n",
      "Epoch 97/100\n",
      "8/8 [==============================] - 0s 4ms/step - loss: 0.0777 - accuracy: 0.9750 - val_loss: 0.0766 - val_accuracy: 0.9667 - lr: 0.0039\n",
      "Epoch 98/100\n",
      "8/8 [==============================] - 0s 4ms/step - loss: 0.0626 - accuracy: 0.9750 - val_loss: 0.0952 - val_accuracy: 0.9667 - lr: 0.0039\n",
      "Epoch 99/100\n",
      "8/8 [==============================] - 0s 4ms/step - loss: 0.0643 - accuracy: 0.9667 - val_loss: 0.0848 - val_accuracy: 0.9667 - lr: 0.0039\n",
      "Epoch 100/100\n",
      "8/8 [==============================] - 0s 4ms/step - loss: 0.0646 - accuracy: 0.9667 - val_loss: 0.0768 - val_accuracy: 0.9667 - lr: 0.0039\n"
     ]
    },
    {
     "data": {
      "text/plain": [
       "<keras.callbacks.History at 0x16671027700>"
      ]
     },
     "execution_count": 8,
     "metadata": {},
     "output_type": "execute_result"
    }
   ],
   "source": [
    "# Trening modelu\n",
    "model.fit(X_train, y_train,\n",
    "          epochs=100,\n",
    "          batch_size=16,\n",
    "          validation_data=(X_test, y_test),\n",
    "          callbacks=[lr_scheduler])"
   ]
  },
  {
   "cell_type": "code",
   "execution_count": 9,
   "metadata": {},
   "outputs": [
    {
     "name": "stdout",
     "output_type": "stream",
     "text": [
      "1/1 [==============================] - 0s 17ms/step - loss: 0.0768 - accuracy: 0.9667\n",
      "Loss: 0.07677360624074936, Accuracy: 0.9666666388511658\n"
     ]
    }
   ],
   "source": [
    "# Sprawdzanie dokładności modelu\n",
    "loss, accuracy = model.evaluate(X_test, y_test)\n",
    "print(f'Loss: {loss}, Accuracy: {accuracy}')"
   ]
  },
  {
   "cell_type": "code",
   "execution_count": 10,
   "metadata": {},
   "outputs": [
    {
     "name": "stdout",
     "output_type": "stream",
     "text": [
      "1/1 [==============================] - 0s 78ms/step\n",
      "[1 0 2 1 1 0 1 2 2 1 2 0 0 0 0 1 2 1 1 2 0 2 0 2 2 2 2 2 0 0]\n",
      "[1 0 2 1 1 0 1 2 1 1 2 0 0 0 0 1 2 1 1 2 0 2 0 2 2 2 2 2 0 0]\n"
     ]
    }
   ],
   "source": [
    "# Predykcja na danych testowych\n",
    "y_pred = model.predict(X_test)\n",
    "y_pred = np.argmax(y_pred, axis=-1)\n",
    "\n",
    "# Wyświetlenie wyników\n",
    "print(y_pred)\n",
    "print(y_test.flatten())"
   ]
  },
  {
   "cell_type": "code",
   "execution_count": 11,
   "metadata": {},
   "outputs": [
    {
     "data": {
      "image/png": "[encoded data removed]",
      "text/plain": [
       "<Figure size 400x300 with 2 Axes>"
      ]
     },
     "metadata": {},
     "output_type": "display_data"
    }
   ],
   "source": [
    "# Confusion matrix\n",
    "cm = confusion_matrix(y_test, y_pred)\n",
    "plt.figure(figsize=(4, 3))\n",
    "sns.heatmap(cm, cmap='Purples', annot=True, fmt='d')\n",
    "plt.xlabel('Predicted')\n",
    "plt.ylabel('Truth')\n",
    "plt.show()"
   ]
  },
  {
   "cell_type": "code",
   "execution_count": 12,
   "metadata": {},
   "outputs": [
    {
     "name": "stdout",
     "output_type": "stream",
     "text": [
      "              precision    recall  f1-score   support\n",
      "\n",
      "      setosa       1.00      1.00      1.00        10\n",
      "  versicolor       1.00      0.89      0.94         9\n",
      "   virginica       0.92      1.00      0.96        11\n",
      "\n",
      "    accuracy                           0.97        30\n",
      "   macro avg       0.97      0.96      0.97        30\n",
      "weighted avg       0.97      0.97      0.97        30\n",
      "\n"
     ]
    }
   ],
   "source": [
    "# Classification report\n",
    "from sklearn.metrics import classification_report\n",
    "print(classification_report(y_test, y_pred, target_names=data.target_names))"
   ]
  }
 ],
 "metadata": {
  "kernelspec": {
   "display_name": "kodilla-edu",
   "language": "python",
   "name": "python3"
  },
  "language_info": {
   "codemirror_mode": {
    "name": "ipython",
    "version": 3
   },
   "file_extension": ".py",
   "mimetype": "text/x-python",
   "name": "python",
   "nbconvert_exporter": "python",
   "pygments_lexer": "ipython3",
   "version": "3.9.18"
  }
 },
 "nbformat": 4,
 "nbformat_minor": 2
}
