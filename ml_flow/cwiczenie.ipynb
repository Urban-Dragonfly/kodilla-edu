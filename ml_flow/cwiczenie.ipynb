{
 "cells": [
  {
   "cell_type": "code",
   "execution_count": 3,
   "metadata": {},
   "outputs": [
    {
     "name": "stderr",
     "output_type": "stream",
     "text": [
      "2025/02/22 20:50:33 INFO mlflow.tracking.fluent: Autologging successfully enabled for keras.\n",
      "2025/02/22 20:50:33 INFO mlflow.tracking.fluent: Autologging successfully enabled for sklearn.\n",
      "2025/02/22 20:50:33 INFO mlflow.tracking.fluent: Autologging successfully enabled for tensorflow.\n",
      "2025/02/22 20:50:33 WARNING mlflow.spark: With Pyspark >= 3.2, PYSPARK_PIN_THREAD environment variable must be set to false for Spark datasource autologging to work.\n",
      "2025/02/22 20:50:33 INFO mlflow.tracking.fluent: Autologging successfully enabled for pyspark.\n",
      "2025/02/22 20:50:36 INFO mlflow.utils.autologging_utils: Created MLflow autologging run with ID '65e7c96f28ee46178065d66b0df083b2', which will track hyperparameters, performance metrics, model artifacts, and lineage information for the current tensorflow workflow\n"
     ]
    },
    {
     "name": "stdout",
     "output_type": "stream",
     "text": [
      "Epoch 1/10\n",
      "196/196 [==============================] - 6s 13ms/step - loss: 0.7408 - accuracy: 0.5216 - val_loss: 0.6928 - val_accuracy: 0.5523\n",
      "Epoch 2/10\n",
      "196/196 [==============================] - 2s 12ms/step - loss: 0.6928 - accuracy: 0.5400 - val_loss: 0.6927 - val_accuracy: 0.5313\n",
      "Epoch 3/10\n",
      "196/196 [==============================] - 3s 13ms/step - loss: 0.6926 - accuracy: 0.5373 - val_loss: 0.6926 - val_accuracy: 0.5564\n",
      "Epoch 4/10\n",
      "196/196 [==============================] - 2s 12ms/step - loss: 0.6925 - accuracy: 0.5490 - val_loss: 0.6924 - val_accuracy: 0.5362\n",
      "Epoch 5/10\n",
      "196/196 [==============================] - 2s 11ms/step - loss: 0.6922 - accuracy: 0.5547 - val_loss: 0.6923 - val_accuracy: 0.5319\n",
      "Epoch 6/10\n",
      "196/196 [==============================] - 1s 7ms/step - loss: 0.6920 - accuracy: 0.5544 - val_loss: 0.6919 - val_accuracy: 0.5662\n",
      "Epoch 7/10\n",
      "196/196 [==============================] - 1s 4ms/step - loss: 0.6917 - accuracy: 0.5644 - val_loss: 0.6915 - val_accuracy: 0.5826\n",
      "Epoch 8/10\n",
      "196/196 [==============================] - 1s 4ms/step - loss: 0.6912 - accuracy: 0.5735 - val_loss: 0.6911 - val_accuracy: 0.5688\n",
      "Epoch 9/10\n",
      "196/196 [==============================] - 2s 11ms/step - loss: 0.6908 - accuracy: 0.5750 - val_loss: 0.6906 - val_accuracy: 0.5855\n",
      "Epoch 10/10\n",
      "196/196 [==============================] - 1s 4ms/step - loss: 0.6903 - accuracy: 0.5769 - val_loss: 0.6902 - val_accuracy: 0.5826\n",
      "1/1 [==============================] - 0s 57ms/step\n",
      "INFO:tensorflow:Assets written to: C:\\Users\\Urban\\AppData\\Local\\Temp\\tmp786bck7x\\model\\data\\model\\assets\n",
      "🏃 View run clumsy-fox-844 at: http://localhost:8001/#/experiments/984236064121418142/runs/65e7c96f28ee46178065d66b0df083b2\n",
      "🧪 View experiment at: http://localhost:8001/#/experiments/984236064121418142\n",
      "782/782 [==============================] - 1s 672us/step\n",
      "              precision    recall  f1-score   support\n",
      "\n",
      "    Negative       0.59      0.56      0.57     12500\n",
      "    Positive       0.58      0.60      0.59     12500\n",
      "\n",
      "    accuracy                           0.58     25000\n",
      "   macro avg       0.58      0.58      0.58     25000\n",
      "weighted avg       0.58      0.58      0.58     25000\n",
      "\n"
     ]
    }
   ],
   "source": [
    "import tensorflow as tf\n",
    "from keras.datasets import imdb\n",
    "from tensorflow.keras.preprocessing.sequence import pad_sequences\n",
    "from keras.models import Sequential\n",
    "from keras.layers import Embedding, GlobalAveragePooling1D, Dense\n",
    "from keras.regularizers import l2\n",
    "from sklearn.metrics import classification_report\n",
    "import mlflow\n",
    "import numpy as np\n",
    "\n",
    "mlflow.set_tracking_uri(\"http://localhost:8001\")\n",
    "mlflow.autolog()\n",
    "\n",
    "# Definicja hiperparametrów\n",
    "num_words = 5000  # Liczba słów w naszym słowniku\n",
    "maxlen = 200  # Maksymalna długość tekstu\n",
    "embedding_dim = 16 # Wielkość wektora embeddingu (hiperparametr modelu)\n",
    "\n",
    "dataset = imdb.load_data(num_words = num_words) # Pobieramy dane z datasetu IMDB\n",
    "(x_train, y_train), (x_test, y_test) = dataset\n",
    "\n",
    "# Robimy padding komentarzy tak, aby wszystekie miały tę sama długość\n",
    "x_train = pad_sequences(x_train, maxlen=maxlen)\n",
    "x_test = pad_sequences(x_test, maxlen=maxlen)\n",
    "\n",
    "# Rozpoczęcie eksperymentu MLFlow\n",
    "mlflow.set_experiment(\"IMDB Sentiment Analysis\")\n",
    "\n",
    "## Tworzymy model sieci neuronowej z jedn warstwa ukryta z 16 wezlami (taki mamy rozmiar embeddingu)\n",
    "def build_keras_model(input_dim, output_dim):\n",
    "    model = Sequential()\n",
    "    # Używamy tutaj regularyzacji L2, aby model nam nie overfitował\n",
    "    model.add(Embedding(input_dim = input_dim, output_dim = output_dim, embeddings_regularizer=l2(0.01)))\n",
    "    model.add(GlobalAveragePooling1D())\n",
    "    model.add(Dense(1, activation='sigmoid'))\n",
    "    model.compile(optimizer='adam', loss='binary_crossentropy', metrics=['accuracy'])\n",
    "    return model\n",
    "\n",
    "model = build_keras_model(num_words, embedding_dim)\n",
    "history = model.fit(x_train, y_train, epochs=10, batch_size=128, validation_data=(x_test, y_test))\n",
    "\n",
    "# Predict the sentiment on the test dataset\n",
    "y_pred = (model.predict(x_test) > 0.5).astype(\"int32\")\n",
    "\n",
    "# Print classification report\n",
    "print(classification_report(y_test, y_pred, target_names=['Negative', 'Positive']))\n",
    "\n",
    "mlflow.end_run()"
   ]
  }
 ],
 "metadata": {
  "kernelspec": {
   "display_name": "kodilla-edu",
   "language": "python",
   "name": "python3"
  },
  "language_info": {
   "codemirror_mode": {
    "name": "ipython",
    "version": 3
   },
   "file_extension": ".py",
   "mimetype": "text/x-python",
   "name": "python",
   "nbconvert_exporter": "python",
   "pygments_lexer": "ipython3",
   "version": "3.9.18"
  }
 },
 "nbformat": 4,
 "nbformat_minor": 2
}
