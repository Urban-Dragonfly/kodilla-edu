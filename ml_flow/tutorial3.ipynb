{
 "cells": [
  {
   "cell_type": "code",
   "execution_count": 1,
   "metadata": {},
   "outputs": [
    {
     "name": "stderr",
     "output_type": "stream",
     "text": [
      "2025/02/22 20:23:10 INFO mlflow.tracking.fluent: Autologging successfully enabled for sklearn.\n",
      "2025/02/22 20:23:10 WARNING mlflow.spark: With Pyspark >= 3.2, PYSPARK_PIN_THREAD environment variable must be set to false for Spark datasource autologging to work.\n",
      "2025/02/22 20:23:10 INFO mlflow.tracking.fluent: Autologging successfully enabled for pyspark.\n",
      "2025/02/22 20:23:12 INFO mlflow.utils.autologging_utils: Created MLflow autologging run with ID '66aa594604fc4866a802ddaab5287027', which will track hyperparameters, performance metrics, model artifacts, and lineage information for the current sklearn workflow\n"
     ]
    },
    {
     "name": "stdout",
     "output_type": "stream",
     "text": [
      "Fitting 5 folds for each of 108 candidates, totalling 540 fits\n"
     ]
    },
    {
     "name": "stderr",
     "output_type": "stream",
     "text": [
      "2025/02/22 20:23:26 INFO mlflow.sklearn.utils: Logging the 5 best runs, 103 runs will be omitted.\n"
     ]
    },
    {
     "name": "stdout",
     "output_type": "stream",
     "text": [
      "🏃 View run efficient-conch-478 at: http://localhost:8001/#/experiments/425328548753294341/runs/4e18bd2a05484a3c9fdf5cba7cbea920\n",
      "🧪 View experiment at: http://localhost:8001/#/experiments/425328548753294341\n",
      "🏃 View run polite-shrike-815 at: http://localhost:8001/#/experiments/425328548753294341/runs/ea39d0c047894847bb4768b010ae7f5c\n",
      "🧪 View experiment at: http://localhost:8001/#/experiments/425328548753294341\n",
      "🏃 View run capable-fawn-661 at: http://localhost:8001/#/experiments/425328548753294341/runs/506b34a8b3db47caa41be8298f47c261\n",
      "🧪 View experiment at: http://localhost:8001/#/experiments/425328548753294341\n",
      "🏃 View run casual-elk-440 at: http://localhost:8001/#/experiments/425328548753294341/runs/5bde6859bbaa4a12bae8756bdf397305\n",
      "🧪 View experiment at: http://localhost:8001/#/experiments/425328548753294341\n",
      "🏃 View run thoughtful-turtle-98 at: http://localhost:8001/#/experiments/425328548753294341/runs/f8a69949e6494917a24fc30a01dcbf96\n",
      "🧪 View experiment at: http://localhost:8001/#/experiments/425328548753294341\n",
      "🏃 View run puzzled-bird-557 at: http://localhost:8001/#/experiments/425328548753294341/runs/66aa594604fc4866a802ddaab5287027\n",
      "🧪 View experiment at: http://localhost:8001/#/experiments/425328548753294341\n",
      "0.8156424581005587\n"
     ]
    }
   ],
   "source": [
    "import mlflow\n",
    "import pandas as pd\n",
    "from sklearn.model_selection import train_test_split, GridSearchCV\n",
    "from sklearn.ensemble import RandomForestClassifier\n",
    "from sklearn.metrics import accuracy_score\n",
    "from sklearn.preprocessing import StandardScaler\n",
    "\n",
    "mlflow.set_tracking_uri(\"http://localhost:8001\")\n",
    "mlflow.autolog()\n",
    "\n",
    "# Ładowanie danych\n",
    "titanic = pd.read_csv('https://raw.githubusercontent.com/datasciencedojo/datasets/master/titanic.csv')\n",
    "\n",
    "# Przetwarzanie danych\n",
    "titanic = titanic.drop(['PassengerId','Name', 'Ticket', 'Cabin'], axis=1)\n",
    "titanic['Age'] = titanic['Age'].fillna(titanic['Age'].median())\n",
    "titanic['Embarked'] = titanic['Embarked'].fillna(titanic['Embarked'].mode()[0])\n",
    "titanic = pd.get_dummies(titanic, drop_first=True)\n",
    "int_columns = titanic.select_dtypes(include='int').columns\n",
    "titanic[int_columns] = titanic[int_columns].astype(float)\n",
    "\n",
    "X = titanic.drop('Survived', axis=1)\n",
    "y = titanic['Survived'].to_numpy()\n",
    "\n",
    "\n",
    "# Podział na zestawy treningowy i testowy\n",
    "X_train, X_test, y_train, y_test = train_test_split(X, y, test_size=0.2, random_state=42)\n",
    "# Rozpoczęcie nowego eksperymentu\n",
    "mlflow.set_experiment(\"Analiza danych Titanic\")\n",
    "\n",
    "# Definicja modelu Random Forest\n",
    "rf_model = RandomForestClassifier(random_state=42)\n",
    "\n",
    "# Definicja siatki hiperparametrów do przeszukiwania\n",
    "param_grid = {\n",
    "    'n_estimators': [50, 100, 200],\n",
    "    'max_depth': [5, 10, 20, 30],\n",
    "    'min_samples_split': [2, 5, 10],\n",
    "    'min_samples_leaf': [1, 2, 4]\n",
    "}\n",
    "\n",
    "# Konfiguracja GridSearchCV\n",
    "grid_search = GridSearchCV(estimator=rf_model, param_grid=param_grid, cv=5, n_jobs=-1, verbose=2)\n",
    "\n",
    "grid_search.fit(X_train, y_train)\n",
    "\n",
    "# Najlepszy mode\n",
    "best_model = grid_search.best_estimator_\n",
    "\n",
    "# Przewidywanie i ewaluacja\n",
    "y_pred = best_model.predict(X_test)\n",
    "accuracy = accuracy_score(y_test, y_pred)\n",
    "print(accuracy)\n",
    "\n",
    "mlflow.end_run()"
   ]
  }
 ],
 "metadata": {
  "kernelspec": {
   "display_name": "kodilla-edu",
   "language": "python",
   "name": "python3"
  },
  "language_info": {
   "codemirror_mode": {
    "name": "ipython",
    "version": 3
   },
   "file_extension": ".py",
   "mimetype": "text/x-python",
   "name": "python",
   "nbconvert_exporter": "python",
   "pygments_lexer": "ipython3",
   "version": "3.9.18"
  }
 },
 "nbformat": 4,
 "nbformat_minor": 2
}
