{
 "cells": [
  {
   "cell_type": "markdown",
   "metadata": {},
   "source": [
    "# **Zadanie 18.4**"
   ]
  },
  {
   "cell_type": "markdown",
   "metadata": {},
   "source": [
    "### **Zaimplementowanie sieci neuronowej na używanym wcześniej zestawie Fashion-Mnist tak, aby uzyskać wynik na danych testowych rzędu accuracy > 0.94 (albo jak najbardziej zbliżony), używając poniższego podziału:**\n",
    "\n",
    "`X_train, X_test, y_train, y_test = train_test_split(images, labels, test_size=0.1, random_state=10, stratify=labels)`"
   ]
  },
  {
   "cell_type": "markdown",
   "metadata": {},
   "source": [
    "### Importowanie bibliotek"
   ]
  },
  {
   "cell_type": "code",
   "execution_count": 1,
   "metadata": {},
   "outputs": [],
   "source": [
    "import numpy as np\n",
    "import tensorflow as tf\n",
    "from tensorflow.keras import layers, models, callbacks\n",
    "from tensorflow.keras.preprocessing.image import ImageDataGenerator\n",
    "from sklearn.model_selection import train_test_split\n",
    "import matplotlib.pyplot as plt"
   ]
  },
  {
   "cell_type": "markdown",
   "metadata": {},
   "source": [
    "### Wczytywanie i przygotowanie danych"
   ]
  },
  {
   "cell_type": "code",
   "execution_count": 2,
   "metadata": {},
   "outputs": [],
   "source": [
    "# Pobranie zestawu Fashion-MNIST\n",
    "(train_images, train_labels), (test_images, test_labels) = tf.keras.datasets.fashion_mnist.load_data()\n",
    "\n",
    "# Normalizacja wartości pikseli (0-255 -> 0-1)\n",
    "train_images, test_images = train_images / 255.0, test_images / 255.0\n",
    "\n",
    "# Konwersja typów\n",
    "train_labels = train_labels.astype(np.int32)\n",
    "test_labels = test_labels.astype(np.int32)\n",
    "\n",
    "# Podział danych na zbiór treningowy i testowy\n",
    "X_train, X_test, y_train, y_test = train_test_split(\n",
    "    train_images,\n",
    "    train_labels,\n",
    "    test_size=0.1,\n",
    "    random_state=10,\n",
    "    stratify=train_labels\n",
    ")\n",
    "\n",
    "# Dodanie wymiaru kanału (28,28) -> (28,28,1) dla warstw konwolucyjnych\n",
    "X_train = np.expand_dims(X_train, axis=-1)\n",
    "X_test = np.expand_dims(X_test, axis=-1)\n",
    "\n",
    "# Tworzenie zbioru tensorflow Dataset\n",
    "train_ds = tf.data.Dataset.from_tensor_slices((X_train, y_train)).shuffle(1000).batch(64)"
   ]
  },
  {
   "cell_type": "markdown",
   "metadata": {},
   "source": [
    "### Definiowanie modelu CNN"
   ]
  },
  {
   "cell_type": "code",
   "execution_count": 3,
   "metadata": {},
   "outputs": [
    {
     "name": "stdout",
     "output_type": "stream",
     "text": [
      "Model: \"model\"\n",
      "__________________________________________________________________________________________________\n",
      " Layer (type)                   Output Shape         Param #     Connected to                     \n",
      "==================================================================================================\n",
      " input_1 (InputLayer)           [(None, 28, 28, 1)]  0           []                               \n",
      "                                                                                                  \n",
      " conv2d (Conv2D)                (None, 28, 28, 32)   320         ['input_1[0][0]']                \n",
      "                                                                                                  \n",
      " batch_normalization (BatchNorm  (None, 28, 28, 32)  128         ['conv2d[0][0]']                 \n",
      " alization)                                                                                       \n",
      "                                                                                                  \n",
      " re_lu (ReLU)                   (None, 28, 28, 32)   0           ['batch_normalization[0][0]']    \n",
      "                                                                                                  \n",
      " conv2d_1 (Conv2D)              (None, 28, 28, 32)   9248        ['re_lu[0][0]']                  \n",
      "                                                                                                  \n",
      " batch_normalization_1 (BatchNo  (None, 28, 28, 32)  128         ['conv2d_1[0][0]']               \n",
      " rmalization)                                                                                     \n",
      "                                                                                                  \n",
      " re_lu_1 (ReLU)                 (None, 28, 28, 32)   0           ['batch_normalization_1[0][0]']  \n",
      "                                                                                                  \n",
      " max_pooling2d (MaxPooling2D)   (None, 14, 14, 32)   0           ['re_lu_1[0][0]']                \n",
      "                                                                                                  \n",
      " dropout (Dropout)              (None, 14, 14, 32)   0           ['max_pooling2d[0][0]']          \n",
      "                                                                                                  \n",
      " conv2d_2 (Conv2D)              (None, 14, 14, 64)   18496       ['dropout[0][0]']                \n",
      "                                                                                                  \n",
      " batch_normalization_2 (BatchNo  (None, 14, 14, 64)  256         ['conv2d_2[0][0]']               \n",
      " rmalization)                                                                                     \n",
      "                                                                                                  \n",
      " re_lu_2 (ReLU)                 (None, 14, 14, 64)   0           ['batch_normalization_2[0][0]']  \n",
      "                                                                                                  \n",
      " conv2d_3 (Conv2D)              (None, 14, 14, 64)   36928       ['re_lu_2[0][0]']                \n",
      "                                                                                                  \n",
      " batch_normalization_3 (BatchNo  (None, 14, 14, 64)  256         ['conv2d_3[0][0]']               \n",
      " rmalization)                                                                                     \n",
      "                                                                                                  \n",
      " re_lu_3 (ReLU)                 (None, 14, 14, 64)   0           ['batch_normalization_3[0][0]']  \n",
      "                                                                                                  \n",
      " max_pooling2d_1 (MaxPooling2D)  (None, 7, 7, 64)    0           ['re_lu_3[0][0]']                \n",
      "                                                                                                  \n",
      " dropout_1 (Dropout)            (None, 7, 7, 64)     0           ['max_pooling2d_1[0][0]']        \n",
      "                                                                                                  \n",
      " flatten (Flatten)              (None, 3136)         0           ['dropout_1[0][0]']              \n",
      "                                                                                                  \n",
      " dense (Dense)                  (None, 128)          401536      ['flatten[0][0]']                \n",
      "                                                                                                  \n",
      " concatenate (Concatenate)      (None, 3264)         0           ['flatten[0][0]',                \n",
      "                                                                  'dense[0][0]']                  \n",
      "                                                                                                  \n",
      " dense_1 (Dense)                (None, 10)           32650       ['concatenate[0][0]']            \n",
      "                                                                                                  \n",
      "==================================================================================================\n",
      "Total params: 499,946\n",
      "Trainable params: 499,562\n",
      "Non-trainable params: 384\n",
      "__________________________________________________________________________________________________\n"
     ]
    }
   ],
   "source": [
    "# Wejście do modelu\n",
    "input_layer = tf.keras.Input(shape=X_train.shape[1:])\n",
    "\n",
    "# Blok konwolucyjny 1\n",
    "conv1 = layers.Conv2D(32, (3, 3), padding=\"same\")(input_layer)\n",
    "conv1 = layers.BatchNormalization()(conv1)\n",
    "conv1 = layers.ReLU()(conv1)\n",
    "conv1 = layers.Conv2D(32, (3, 3), padding=\"same\")(conv1)\n",
    "conv1 = layers.BatchNormalization()(conv1)\n",
    "conv1 = layers.ReLU()(conv1)\n",
    "pool1 = layers.MaxPooling2D((2, 2))(conv1)\n",
    "drop1 = layers.Dropout(0.25)(pool1)\n",
    "\n",
    "# Blok konwolucyjny 2\n",
    "conv2 = layers.Conv2D(64, (3, 3), padding=\"same\")(drop1)\n",
    "conv2 = layers.BatchNormalization()(conv2)\n",
    "conv2 = layers.ReLU()(conv2)\n",
    "conv2 = layers.Conv2D(64, (3, 3), padding=\"same\")(conv2)\n",
    "conv2 = layers.BatchNormalization()(conv2)\n",
    "conv2 = layers.ReLU()(conv2)\n",
    "pool2 = layers.MaxPooling2D((2, 2))(conv2)\n",
    "drop2 = layers.Dropout(0.25)(pool2)\n",
    "\n",
    "# Spłaszczenie\n",
    "flatten = layers.Flatten()(drop2)\n",
    "\n",
    "# Warstwa gęsta (Dense)\n",
    "hidden_1 = layers.Dense(128, activation=\"relu\")(flatten)\n",
    "\n",
    "# **Residual connection - Concatenate Flatten + Hidden Layer**\n",
    "concat_layer = layers.Concatenate()([flatten, hidden_1])\n",
    "\n",
    "# Warstwa wyjściowa\n",
    "output_layer = layers.Dense(10, activation=\"softmax\")(concat_layer)\n",
    "\n",
    "# Stworzenie modelu\n",
    "model = tf.keras.Model(inputs=[input_layer], outputs=[output_layer])\n",
    "\n",
    "# Kompilacja modelu\n",
    "model.compile(\n",
    "    optimizer=tf.keras.optimizers.RMSprop(learning_rate=0.0005),\n",
    "    loss=\"sparse_categorical_crossentropy\",\n",
    "    metrics=[\"accuracy\"]\n",
    ")\n",
    "\n",
    "# Podsumowanie architektury\n",
    "model.summary()"
   ]
  },
  {
   "cell_type": "markdown",
   "metadata": {},
   "source": [
    "### Callbacki: Dynamiczny Learning Rate + Early Stopping"
   ]
  },
  {
   "cell_type": "code",
   "execution_count": 4,
   "metadata": {},
   "outputs": [],
   "source": [
    "callbacks_list = [\n",
    "    callbacks.ReduceLROnPlateau(monitor=\"val_loss\", factor=0.5, patience=2, min_lr=0.0001, verbose=1),\n",
    "    callbacks.EarlyStopping(monitor=\"val_loss\", patience=5, restore_best_weights=True, verbose=1)\n",
    "]"
   ]
  },
  {
   "cell_type": "markdown",
   "metadata": {},
   "source": [
    "### Trenowanie modelu"
   ]
  },
  {
   "cell_type": "code",
   "execution_count": 5,
   "metadata": {},
   "outputs": [
    {
     "name": "stdout",
     "output_type": "stream",
     "text": [
      "Epoch 1/30\n",
      "844/844 [==============================] - 49s 55ms/step - loss: 0.5456 - accuracy: 0.8125 - val_loss: 0.3545 - val_accuracy: 0.8770 - lr: 5.0000e-04\n",
      "Epoch 2/30\n",
      "844/844 [==============================] - 56s 66ms/step - loss: 0.3348 - accuracy: 0.8815 - val_loss: 0.2762 - val_accuracy: 0.9042 - lr: 5.0000e-04\n",
      "Epoch 3/30\n",
      "844/844 [==============================] - 70s 83ms/step - loss: 0.2800 - accuracy: 0.9006 - val_loss: 0.2255 - val_accuracy: 0.9187 - lr: 5.0000e-04\n",
      "Epoch 4/30\n",
      "844/844 [==============================] - 47s 56ms/step - loss: 0.2501 - accuracy: 0.9097 - val_loss: 0.2240 - val_accuracy: 0.9182 - lr: 5.0000e-04\n",
      "Epoch 5/30\n",
      "844/844 [==============================] - 47s 56ms/step - loss: 0.2259 - accuracy: 0.9181 - val_loss: 0.2081 - val_accuracy: 0.9222 - lr: 5.0000e-04\n",
      "Epoch 6/30\n",
      "844/844 [==============================] - 48s 57ms/step - loss: 0.2096 - accuracy: 0.9238 - val_loss: 0.2044 - val_accuracy: 0.9250 - lr: 5.0000e-04\n",
      "Epoch 7/30\n",
      "844/844 [==============================] - 50s 59ms/step - loss: 0.1931 - accuracy: 0.9285 - val_loss: 0.2036 - val_accuracy: 0.9263 - lr: 5.0000e-04\n",
      "Epoch 8/30\n",
      "844/844 [==============================] - 48s 57ms/step - loss: 0.1818 - accuracy: 0.9348 - val_loss: 0.1956 - val_accuracy: 0.9240 - lr: 5.0000e-04\n",
      "Epoch 9/30\n",
      "844/844 [==============================] - 47s 56ms/step - loss: 0.1712 - accuracy: 0.9380 - val_loss: 0.1916 - val_accuracy: 0.9297 - lr: 5.0000e-04\n",
      "Epoch 10/30\n",
      "844/844 [==============================] - 48s 57ms/step - loss: 0.1618 - accuracy: 0.9412 - val_loss: 0.1891 - val_accuracy: 0.9293 - lr: 5.0000e-04\n",
      "Epoch 11/30\n",
      "844/844 [==============================] - 47s 56ms/step - loss: 0.1548 - accuracy: 0.9437 - val_loss: 0.1841 - val_accuracy: 0.9330 - lr: 5.0000e-04\n",
      "Epoch 12/30\n",
      "844/844 [==============================] - 47s 56ms/step - loss: 0.1466 - accuracy: 0.9466 - val_loss: 0.1722 - val_accuracy: 0.9360 - lr: 5.0000e-04\n",
      "Epoch 13/30\n",
      "844/844 [==============================] - 48s 57ms/step - loss: 0.1405 - accuracy: 0.9488 - val_loss: 0.1909 - val_accuracy: 0.9337 - lr: 5.0000e-04\n",
      "Epoch 14/30\n",
      "843/844 [============================>.] - ETA: 0s - loss: 0.1355 - accuracy: 0.9498\n",
      "Epoch 14: ReduceLROnPlateau reducing learning rate to 0.0002500000118743628.\n",
      "844/844 [==============================] - 50s 60ms/step - loss: 0.1355 - accuracy: 0.9499 - val_loss: 0.1763 - val_accuracy: 0.9352 - lr: 5.0000e-04\n",
      "Epoch 15/30\n",
      "844/844 [==============================] - 52s 61ms/step - loss: 0.1141 - accuracy: 0.9593 - val_loss: 0.1696 - val_accuracy: 0.9410 - lr: 2.5000e-04\n",
      "Epoch 16/30\n",
      "844/844 [==============================] - 47s 55ms/step - loss: 0.1061 - accuracy: 0.9612 - val_loss: 0.1734 - val_accuracy: 0.9427 - lr: 2.5000e-04\n",
      "Epoch 17/30\n",
      "843/844 [============================>.] - ETA: 0s - loss: 0.1041 - accuracy: 0.9617\n",
      "Epoch 17: ReduceLROnPlateau reducing learning rate to 0.0001250000059371814.\n",
      "844/844 [==============================] - 47s 56ms/step - loss: 0.1041 - accuracy: 0.9617 - val_loss: 0.1737 - val_accuracy: 0.9397 - lr: 2.5000e-04\n",
      "Epoch 18/30\n",
      "844/844 [==============================] - 47s 55ms/step - loss: 0.0936 - accuracy: 0.9662 - val_loss: 0.1727 - val_accuracy: 0.9422 - lr: 1.2500e-04\n",
      "Epoch 19/30\n",
      "844/844 [==============================] - ETA: 0s - loss: 0.0896 - accuracy: 0.9683\n",
      "Epoch 19: ReduceLROnPlateau reducing learning rate to 0.0001.\n",
      "844/844 [==============================] - 48s 56ms/step - loss: 0.0896 - accuracy: 0.9683 - val_loss: 0.1713 - val_accuracy: 0.9452 - lr: 1.2500e-04\n",
      "Epoch 20/30\n",
      "844/844 [==============================] - 47s 55ms/step - loss: 0.0865 - accuracy: 0.9686 - val_loss: 0.1681 - val_accuracy: 0.9447 - lr: 1.0000e-04\n",
      "Epoch 21/30\n",
      "844/844 [==============================] - 48s 57ms/step - loss: 0.0837 - accuracy: 0.9702 - val_loss: 0.1663 - val_accuracy: 0.9452 - lr: 1.0000e-04\n",
      "Epoch 22/30\n",
      "844/844 [==============================] - 47s 56ms/step - loss: 0.0838 - accuracy: 0.9696 - val_loss: 0.1735 - val_accuracy: 0.9430 - lr: 1.0000e-04\n",
      "Epoch 23/30\n",
      "844/844 [==============================] - 48s 56ms/step - loss: 0.0807 - accuracy: 0.9710 - val_loss: 0.1755 - val_accuracy: 0.9445 - lr: 1.0000e-04\n",
      "Epoch 24/30\n",
      "844/844 [==============================] - 47s 56ms/step - loss: 0.0798 - accuracy: 0.9708 - val_loss: 0.1707 - val_accuracy: 0.9427 - lr: 1.0000e-04\n",
      "Epoch 25/30\n",
      "844/844 [==============================] - 47s 56ms/step - loss: 0.0787 - accuracy: 0.9716 - val_loss: 0.1731 - val_accuracy: 0.9452 - lr: 1.0000e-04\n",
      "Epoch 26/30\n",
      "843/844 [============================>.] - ETA: 0s - loss: 0.0785 - accuracy: 0.9703Restoring model weights from the end of the best epoch: 21.\n",
      "844/844 [==============================] - 47s 56ms/step - loss: 0.0785 - accuracy: 0.9703 - val_loss: 0.1748 - val_accuracy: 0.9457 - lr: 1.0000e-04\n",
      "Epoch 26: early stopping\n"
     ]
    }
   ],
   "source": [
    "history = model.fit(\n",
    "    train_ds, \n",
    "    epochs=30, \n",
    "    validation_data=(X_test, y_test), \n",
    "    callbacks=callbacks_list,\n",
    "    verbose=1\n",
    ")"
   ]
  },
  {
   "cell_type": "markdown",
   "metadata": {},
   "source": [
    "### Ewaluacja modelu"
   ]
  },
  {
   "cell_type": "code",
   "execution_count": 6,
   "metadata": {},
   "outputs": [
    {
     "name": "stdout",
     "output_type": "stream",
     "text": [
      "188/188 [==============================] - 2s 13ms/step - loss: 0.1663 - accuracy: 0.9452\n",
      "\n",
      "🔍 Test Accuracy: 0.9452\n",
      "📉 Test Loss: 0.1663\n"
     ]
    }
   ],
   "source": [
    "test_loss, test_accuracy = model.evaluate(X_test, y_test, verbose=1)\n",
    "print(f\"\\n🔍 Test Accuracy: {test_accuracy:.4f}\")\n",
    "print(f\"📉 Test Loss: {test_loss:.4f}\")"
   ]
  },
  {
   "cell_type": "markdown",
   "metadata": {},
   "source": [
    "### Wizualizacja Accuracy i Loss"
   ]
  },
  {
   "cell_type": "code",
   "execution_count": 7,
   "metadata": {},
   "outputs": [
    {
     "data": {
      "image/png": "[encoded data removed]",
      "text/plain": [
       "<Figure size 800x500 with 1 Axes>"
      ]
     },
     "metadata": {},
     "output_type": "display_data"
    }
   ],
   "source": [
    "# Wykres dokładności i straty\n",
    "plt.figure(figsize=(8, 5))\n",
    "plt.plot(history.history[\"accuracy\"], label=\"Train Accuracy\")\n",
    "plt.plot(history.history[\"val_accuracy\"], label=\"Val Accuracy\")\n",
    "plt.plot(history.history[\"loss\"], label=\"Train Loss\")\n",
    "plt.plot(history.history[\"val_loss\"], label=\"Val Loss\")\n",
    "plt.title(\"Dokładność i Strata Modelu\")\n",
    "plt.xlabel(\"Epoki\")\n",
    "plt.ylabel(\"Wartość\")\n",
    "plt.legend()\n",
    "plt.grid()\n",
    "plt.ylim(0, 1)\n",
    "plt.show()"
   ]
  },
  {
   "cell_type": "markdown",
   "metadata": {},
   "source": [
    "### Przykładowa predykcja i wizualizacja wyniku"
   ]
  },
  {
   "cell_type": "code",
   "execution_count": 8,
   "metadata": {},
   "outputs": [
    {
     "name": "stdout",
     "output_type": "stream",
     "text": [
      "1/1 [==============================] - 0s 250ms/step\n"
     ]
    },
    {
     "data": {
      "image/png": "[encoded data removed]",
      "text/plain": [
       "<Figure size 640x480 with 1 Axes>"
      ]
     },
     "metadata": {},
     "output_type": "display_data"
    }
   ],
   "source": [
    "import random\n",
    "\n",
    "# Losowy indeks obrazu testowego\n",
    "idx = random.randint(0, len(X_test) - 1)\n",
    "\n",
    "# Predykcja modelu\n",
    "y_pred = model.predict(np.expand_dims(X_test[idx], axis=0))\n",
    "predicted_label = np.argmax(y_pred)\n",
    "\n",
    "# Rzeczywista etykieta\n",
    "actual_label = y_test[idx]\n",
    "\n",
    "# Wizualizacja obrazu\n",
    "plt.imshow(X_test[idx].reshape(28, 28), cmap=\"Purples_r\")\n",
    "plt.title(f\"Predykcja: {predicted_label}, Rzeczywista: {actual_label}\")\n",
    "plt.axis(\"off\")\n",
    "plt.show()"
   ]
  },
  {
   "cell_type": "markdown",
   "metadata": {},
   "source": [
    "### **Zapisanie i dostarczenie modelu oraz napisanie interfejsu, który przyjmuje wartość wejściową oraz zwraca wartość przewidzianą przez nasz model wraz z wyrysowanym obrazem wejściowym (aby można było zweryfikować wizualnie, czy działa).**\n"
   ]
  },
  {
   "cell_type": "markdown",
   "metadata": {},
   "source": [
    "### Zapis"
   ]
  },
  {
   "cell_type": "code",
   "execution_count": 9,
   "metadata": {},
   "outputs": [],
   "source": [
    "# Zapisanie modelu w formacie .h5\n",
    "model.save(\"fashion_mnist_model.h5\")"
   ]
  },
  {
   "cell_type": "markdown",
   "metadata": {},
   "source": [
    "### Odczyt"
   ]
  },
  {
   "cell_type": "code",
   "execution_count": 10,
   "metadata": {},
   "outputs": [
    {
     "name": "stdout",
     "output_type": "stream",
     "text": [
      "Model: \"model\"\n",
      "__________________________________________________________________________________________________\n",
      " Layer (type)                   Output Shape         Param #     Connected to                     \n",
      "==================================================================================================\n",
      " input_1 (InputLayer)           [(None, 28, 28, 1)]  0           []                               \n",
      "                                                                                                  \n",
      " conv2d (Conv2D)                (None, 28, 28, 32)   320         ['input_1[0][0]']                \n",
      "                                                                                                  \n",
      " batch_normalization (BatchNorm  (None, 28, 28, 32)  128         ['conv2d[0][0]']                 \n",
      " alization)                                                                                       \n",
      "                                                                                                  \n",
      " re_lu (ReLU)                   (None, 28, 28, 32)   0           ['batch_normalization[0][0]']    \n",
      "                                                                                                  \n",
      " conv2d_1 (Conv2D)              (None, 28, 28, 32)   9248        ['re_lu[0][0]']                  \n",
      "                                                                                                  \n",
      " batch_normalization_1 (BatchNo  (None, 28, 28, 32)  128         ['conv2d_1[0][0]']               \n",
      " rmalization)                                                                                     \n",
      "                                                                                                  \n",
      " re_lu_1 (ReLU)                 (None, 28, 28, 32)   0           ['batch_normalization_1[0][0]']  \n",
      "                                                                                                  \n",
      " max_pooling2d (MaxPooling2D)   (None, 14, 14, 32)   0           ['re_lu_1[0][0]']                \n",
      "                                                                                                  \n",
      " dropout (Dropout)              (None, 14, 14, 32)   0           ['max_pooling2d[0][0]']          \n",
      "                                                                                                  \n",
      " conv2d_2 (Conv2D)              (None, 14, 14, 64)   18496       ['dropout[0][0]']                \n",
      "                                                                                                  \n",
      " batch_normalization_2 (BatchNo  (None, 14, 14, 64)  256         ['conv2d_2[0][0]']               \n",
      " rmalization)                                                                                     \n",
      "                                                                                                  \n",
      " re_lu_2 (ReLU)                 (None, 14, 14, 64)   0           ['batch_normalization_2[0][0]']  \n",
      "                                                                                                  \n",
      " conv2d_3 (Conv2D)              (None, 14, 14, 64)   36928       ['re_lu_2[0][0]']                \n",
      "                                                                                                  \n",
      " batch_normalization_3 (BatchNo  (None, 14, 14, 64)  256         ['conv2d_3[0][0]']               \n",
      " rmalization)                                                                                     \n",
      "                                                                                                  \n",
      " re_lu_3 (ReLU)                 (None, 14, 14, 64)   0           ['batch_normalization_3[0][0]']  \n",
      "                                                                                                  \n",
      " max_pooling2d_1 (MaxPooling2D)  (None, 7, 7, 64)    0           ['re_lu_3[0][0]']                \n",
      "                                                                                                  \n",
      " dropout_1 (Dropout)            (None, 7, 7, 64)     0           ['max_pooling2d_1[0][0]']        \n",
      "                                                                                                  \n",
      " flatten (Flatten)              (None, 3136)         0           ['dropout_1[0][0]']              \n",
      "                                                                                                  \n",
      " dense (Dense)                  (None, 128)          401536      ['flatten[0][0]']                \n",
      "                                                                                                  \n",
      " concatenate (Concatenate)      (None, 3264)         0           ['flatten[0][0]',                \n",
      "                                                                  'dense[0][0]']                  \n",
      "                                                                                                  \n",
      " dense_1 (Dense)                (None, 10)           32650       ['concatenate[0][0]']            \n",
      "                                                                                                  \n",
      "==================================================================================================\n",
      "Total params: 499,946\n",
      "Trainable params: 499,562\n",
      "Non-trainable params: 384\n",
      "__________________________________________________________________________________________________\n"
     ]
    }
   ],
   "source": [
    "# Wczytanie modelu\n",
    "from tensorflow.keras.models import load_model\n",
    "\n",
    "model = load_model(\"fashion_mnist_model.h5\")\n",
    "\n",
    "# Sprawdzenie struktury modelu\n",
    "model.summary()"
   ]
  },
  {
   "cell_type": "markdown",
   "metadata": {},
   "source": [
    "### Interfejs do testów"
   ]
  },
  {
   "cell_type": "code",
   "execution_count": 11,
   "metadata": {},
   "outputs": [
    {
     "name": "stdout",
     "output_type": "stream",
     "text": [
      "1/1 [==============================] - 0s 171ms/step\n"
     ]
    },
    {
     "data": {
      "image/png": "[encoded data removed]",
      "text/plain": [
       "<Figure size 640x480 with 1 Axes>"
      ]
     },
     "metadata": {},
     "output_type": "display_data"
    }
   ],
   "source": [
    "# Wybór konkretnego indeksu przez użytkownika\n",
    "idx = int(input(f\"Wpisz indeks obrazka (0 - {len(X_test)-1}): \"))\n",
    "img = X_test[idx]\n",
    "\n",
    "# Predykcja klasy\n",
    "img_reshaped = np.expand_dims(img, axis=0)  # Dodaj wymiar batcha\n",
    "predictions = model.predict(img_reshaped)\n",
    "predicted_class = np.argmax(predictions)\n",
    "\n",
    "# Rzeczywista etykieta\n",
    "actual_class = y_test[idx]\n",
    "\n",
    "# Mapowanie etykiet na nazwy ubrań (dla lepszej czytelności)\n",
    "class_labels = [\n",
    "    \"T-shirt/top\", \"Trouser\", \"Pullover\", \"Dress\", \"Coat\",\n",
    "    \"Sandal\", \"Shirt\", \"Sneaker\", \"Bag\", \"Ankle boot\"\n",
    "]\n",
    "\n",
    "# Wyświetlenie obrazka z predykcją\n",
    "plt.imshow(img.reshape(28, 28), cmap=\"plasma\")\n",
    "plt.title(f\"Predykcja: {class_labels[predicted_class]} | Prawdziwa klasa: {class_labels[actual_class]}\")\n",
    "plt.axis(\"off\")\n",
    "plt.show()"
   ]
  },
  {
   "cell_type": "markdown",
   "metadata": {},
   "source": [
    "### **Podbiciewyniku do około 0.97 poprzez użycie technik augumentacji**"
   ]
  },
  {
   "cell_type": "code",
   "execution_count": 12,
   "metadata": {},
   "outputs": [],
   "source": [
    "import albumentations as A"
   ]
  },
  {
   "cell_type": "code",
   "execution_count": 13,
   "metadata": {},
   "outputs": [],
   "source": [
    "# Zdefiniowanie augmentacji\n",
    "augmenter = A.Compose([\n",
    "    A.ShiftScaleRotate(shift_limit=0.05, scale_limit=0.05, rotate_limit=10, border_mode=0, p=0.8),\n",
    "    A.HorizontalFlip(p=0.3),\n",
    "    A.RandomBrightnessContrast(brightness_limit=0.1, contrast_limit=0.1, p=0.5),\n",
    "    A.CoarseDropout(max_holes=1, max_height=4, max_width=4, fill_value=0, p=0.3),\n",
    "])"
   ]
  },
  {
   "cell_type": "code",
   "execution_count": 14,
   "metadata": {},
   "outputs": [],
   "source": [
    "def augment_image(image):\n",
    "    image = (image * 255).astype(np.uint8)\n",
    "    \n",
    "    augmented = augmenter(image=image)\n",
    "    aug_image = augmented['image']\n",
    "   \n",
    "    aug_image = aug_image.astype(np.float32) / 255.0\n",
    "    \n",
    "    return aug_image"
   ]
  },
  {
   "cell_type": "code",
   "execution_count": 15,
   "metadata": {},
   "outputs": [],
   "source": [
    "def augment_in_dataset(image, label):\n",
    "    aug_img = tf.numpy_function(\n",
    "        func=augment_image,\n",
    "        inp=[image],\n",
    "        Tout=tf.float32\n",
    "    )\n",
    "\n",
    "    aug_img.set_shape((28, 28, 1))  \n",
    "\n",
    "    return aug_img, tf.cast(label, tf.int32)"
   ]
  },
  {
   "cell_type": "code",
   "execution_count": 16,
   "metadata": {},
   "outputs": [],
   "source": [
    "train_ds_aug = tf.data.Dataset.from_tensor_slices((X_train, y_train))\n",
    "train_ds_aug = train_ds_aug.shuffle(1000) \\\n",
    "                           .map(augment_in_dataset, num_parallel_calls=tf.data.AUTOTUNE) \\\n",
    "                           .batch(64) \\\n",
    "                           .prefetch(tf.data.AUTOTUNE)"
   ]
  },
  {
   "cell_type": "code",
   "execution_count": 17,
   "metadata": {},
   "outputs": [
    {
     "data": {
      "image/png": "[encoded data removed]",
      "text/plain": [
       "<Figure size 640x480 with 1 Axes>"
      ]
     },
     "metadata": {},
     "output_type": "display_data"
    },
    {
     "name": "stdout",
     "output_type": "stream",
     "text": [
      "Przykładowy obrazek shape: (28, 28, 1), dtype: <dtype: 'float32'>, min: 0.0, max: 0.9058823585510254\n",
      "Przykładowa etykieta: 8, dtype: <dtype: 'int32'>\n"
     ]
    }
   ],
   "source": [
    "import matplotlib.pyplot as plt\n",
    "\n",
    "sample_batch = next(iter(train_ds_aug))\n",
    "sample_image, sample_label = sample_batch[0][0], sample_batch[1][0]\n",
    "\n",
    "plt.imshow(sample_image.numpy().squeeze(), cmap=\"gray\")\n",
    "plt.title(f\"Etykieta: {sample_label.numpy()}\")\n",
    "plt.axis(\"off\")\n",
    "plt.show()\n",
    "\n",
    "print(f\"Przykładowy obrazek shape: {sample_image.shape}, dtype: {sample_image.dtype}, min: {sample_image.numpy().min()}, max: {sample_image.numpy().max()}\")\n",
    "print(f\"Przykładowa etykieta: {sample_label.numpy()}, dtype: {sample_label.dtype}\")\n"
   ]
  },
  {
   "cell_type": "code",
   "execution_count": 21,
   "metadata": {},
   "outputs": [
    {
     "name": "stdout",
     "output_type": "stream",
     "text": [
      "Epoch 1/100\n",
      "844/844 [==============================] - 65s 74ms/step - loss: 0.3247 - accuracy: 0.8865 - val_loss: 0.2017 - val_accuracy: 0.9247 - lr: 5.0000e-04\n",
      "Epoch 2/100\n",
      "844/844 [==============================] - 76s 90ms/step - loss: 0.2688 - accuracy: 0.9040 - val_loss: 0.2192 - val_accuracy: 0.9225 - lr: 5.0000e-04\n",
      "Epoch 3/100\n",
      "844/844 [==============================] - 72s 85ms/step - loss: 0.2606 - accuracy: 0.9048 - val_loss: 0.1899 - val_accuracy: 0.9315 - lr: 5.0000e-04\n",
      "Epoch 4/100\n",
      "844/844 [==============================] - 70s 83ms/step - loss: 0.2523 - accuracy: 0.9095 - val_loss: 0.1886 - val_accuracy: 0.9317 - lr: 5.0000e-04\n",
      "Epoch 5/100\n",
      "844/844 [==============================] - 74s 87ms/step - loss: 0.2433 - accuracy: 0.9121 - val_loss: 0.1842 - val_accuracy: 0.9295 - lr: 5.0000e-04\n",
      "Epoch 6/100\n",
      "844/844 [==============================] - 72s 86ms/step - loss: 0.2404 - accuracy: 0.9137 - val_loss: 0.1924 - val_accuracy: 0.9335 - lr: 5.0000e-04\n",
      "Epoch 7/100\n",
      "844/844 [==============================] - 69s 81ms/step - loss: 0.2393 - accuracy: 0.9137 - val_loss: 0.1828 - val_accuracy: 0.9318 - lr: 5.0000e-04\n",
      "Epoch 8/100\n",
      "844/844 [==============================] - 86s 101ms/step - loss: 0.2340 - accuracy: 0.9159 - val_loss: 0.1933 - val_accuracy: 0.9292 - lr: 5.0000e-04\n",
      "Epoch 9/100\n",
      "844/844 [==============================] - 86s 101ms/step - loss: 0.2335 - accuracy: 0.9146 - val_loss: 0.1766 - val_accuracy: 0.9362 - lr: 5.0000e-04\n",
      "Epoch 10/100\n",
      "844/844 [==============================] - 73s 87ms/step - loss: 0.2318 - accuracy: 0.9173 - val_loss: 0.1883 - val_accuracy: 0.9280 - lr: 5.0000e-04\n",
      "Epoch 11/100\n",
      "844/844 [==============================] - ETA: 0s - loss: 0.2324 - accuracy: 0.9169\n",
      "Epoch 11: ReduceLROnPlateau reducing learning rate to 0.0002500000118743628.\n",
      "844/844 [==============================] - 71s 85ms/step - loss: 0.2324 - accuracy: 0.9169 - val_loss: 0.1892 - val_accuracy: 0.9322 - lr: 5.0000e-04\n",
      "Epoch 12/100\n",
      "844/844 [==============================] - 71s 84ms/step - loss: 0.2140 - accuracy: 0.9227 - val_loss: 0.1810 - val_accuracy: 0.9373 - lr: 2.5000e-04\n",
      "Epoch 13/100\n",
      "844/844 [==============================] - 70s 83ms/step - loss: 0.2113 - accuracy: 0.9243 - val_loss: 0.1701 - val_accuracy: 0.9413 - lr: 2.5000e-04\n",
      "Epoch 14/100\n",
      "844/844 [==============================] - 71s 84ms/step - loss: 0.2112 - accuracy: 0.9245 - val_loss: 0.1741 - val_accuracy: 0.9405 - lr: 2.5000e-04\n",
      "Epoch 15/100\n",
      "844/844 [==============================] - ETA: 0s - loss: 0.2084 - accuracy: 0.9254\n",
      "Epoch 15: ReduceLROnPlateau reducing learning rate to 0.0001250000059371814.\n",
      "844/844 [==============================] - 71s 84ms/step - loss: 0.2084 - accuracy: 0.9254 - val_loss: 0.1703 - val_accuracy: 0.9412 - lr: 2.5000e-04\n",
      "Epoch 16/100\n",
      "844/844 [==============================] - 70s 83ms/step - loss: 0.2021 - accuracy: 0.9281 - val_loss: 0.1638 - val_accuracy: 0.9420 - lr: 1.2500e-04\n",
      "Epoch 17/100\n",
      "844/844 [==============================] - 71s 84ms/step - loss: 0.1975 - accuracy: 0.9288 - val_loss: 0.1658 - val_accuracy: 0.9413 - lr: 1.2500e-04\n",
      "Epoch 18/100\n",
      "844/844 [==============================] - ETA: 0s - loss: 0.1970 - accuracy: 0.9294\n",
      "Epoch 18: ReduceLROnPlateau reducing learning rate to 0.0001.\n",
      "844/844 [==============================] - 70s 83ms/step - loss: 0.1970 - accuracy: 0.9294 - val_loss: 0.1692 - val_accuracy: 0.9403 - lr: 1.2500e-04\n",
      "Epoch 19/100\n",
      "844/844 [==============================] - 71s 84ms/step - loss: 0.1941 - accuracy: 0.9301 - val_loss: 0.1674 - val_accuracy: 0.9412 - lr: 1.0000e-04\n",
      "Epoch 20/100\n",
      "844/844 [==============================] - 71s 84ms/step - loss: 0.1945 - accuracy: 0.9305 - val_loss: 0.1671 - val_accuracy: 0.9430 - lr: 1.0000e-04\n",
      "Epoch 21/100\n",
      "844/844 [==============================] - ETA: 0s - loss: 0.1956 - accuracy: 0.9294Restoring model weights from the end of the best epoch: 16.\n",
      "844/844 [==============================] - 73s 86ms/step - loss: 0.1956 - accuracy: 0.9294 - val_loss: 0.1673 - val_accuracy: 0.9403 - lr: 1.0000e-04\n",
      "Epoch 21: early stopping\n"
     ]
    },
    {
     "data": {
      "text/plain": [
       "<keras.callbacks.History at 0x2aa91b7ee80>"
      ]
     },
     "execution_count": 21,
     "metadata": {},
     "output_type": "execute_result"
    }
   ],
   "source": [
    "aug_model = load_model(\"fashion_mnist_model.h5\")\n",
    "\n",
    "aug_model.compile(\n",
    "    optimizer=tf.keras.optimizers.RMSprop(learning_rate=0.0005),\n",
    "    loss=\"sparse_categorical_crossentropy\",\n",
    "    metrics=[\"accuracy\"]\n",
    ")\n",
    "\n",
    "aug_callbacks_list = [\n",
    "    callbacks.ReduceLROnPlateau(monitor=\"val_loss\", factor=0.5, patience=5, min_lr=0.00001, verbose=1),\n",
    "    callbacks.EarlyStopping(monitor=\"val_loss\", patience=30, restore_best_weights=True, verbose=1)\n",
    "]\n",
    "\n",
    "aug_model.fit(\n",
    "    train_ds_aug,\n",
    "    epochs=100,\n",
    "    validation_data=(X_test, y_test),\n",
    "    callbacks=callbacks_list,\n",
    "    verbose=1\n",
    ")\n"
   ]
  },
  {
   "cell_type": "code",
   "execution_count": 19,
   "metadata": {},
   "outputs": [
    {
     "name": "stdout",
     "output_type": "stream",
     "text": [
      "188/188 [==============================] - 5s 23ms/step - loss: 0.1663 - accuracy: 0.9452\n",
      "\n",
      "🔍 Test Accuracy: 0.9452\n",
      "📉 Test Loss: 0.1663\n"
     ]
    }
   ],
   "source": [
    "test_loss, test_accuracy = model.evaluate(X_test, y_test, verbose=1)\n",
    "print(f\"\\n🔍 Test Accuracy: {test_accuracy:.4f}\")\n",
    "print(f\"📉 Test Loss: {test_loss:.4f}\")"
   ]
  },
  {
   "cell_type": "code",
   "execution_count": 20,
   "metadata": {},
   "outputs": [
    {
     "name": "stdout",
     "output_type": "stream",
     "text": [
      "188/188 [==============================] - 3s 15ms/step - loss: 0.1642 - accuracy: 0.9413\n",
      "\n",
      "🔍 Aug Test Accuracy: 0.9413\n",
      "📉 Aug Test Loss: 0.1642\n"
     ]
    }
   ],
   "source": [
    "test_loss, test_accuracy = aug_model.evaluate(X_test, y_test, verbose=1)\n",
    "print(f\"\\n🔍 Aug Test Accuracy: {test_accuracy:.4f}\")\n",
    "print(f\"📉 Aug Test Loss: {test_loss:.4f}\")"
   ]
  }
 ],
 "metadata": {
  "kernelspec": {
   "display_name": "kodilla-edu",
   "language": "python",
   "name": "python3"
  },
  "language_info": {
   "codemirror_mode": {
    "name": "ipython",
    "version": 3
   },
   "file_extension": ".py",
   "mimetype": "text/x-python",
   "name": "python",
   "nbconvert_exporter": "python",
   "pygments_lexer": "ipython3",
   "version": "3.9.18"
  }
 },
 "nbformat": 4,
 "nbformat_minor": 2
}
