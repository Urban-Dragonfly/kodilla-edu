{
 "cells": [
  {
   "cell_type": "code",
   "execution_count": 1,
   "metadata": {},
   "outputs": [],
   "source": [
    "import numpy as np\n",
    "import tensorflow as tf\n",
    "\n",
    "train, test = tf.keras.datasets.fashion_mnist.load_data()\n",
    "\n",
    "# wydobycie obrazów oraz labelek\n",
    "images, labels = train\n",
    "\n",
    "# normalizacja wartości pikseli (maks. wartość\n",
    "# wynosi 255.0, czyli aby znormalizować nasze dane,\n",
    "# musimy podzielić każdy piksel przez maks. wartość)\n",
    "images = images/255.0\n",
    "\n",
    "# zapisujemy dane jako int\n",
    "labels = labels.astype(np.int32)"
   ]
  },
  {
   "cell_type": "code",
   "execution_count": 2,
   "metadata": {},
   "outputs": [],
   "source": [
    "import tensorflow as tf\n",
    "from sklearn.model_selection import train_test_split\n",
    "\n",
    "X_train, X_test, y_train, y_test = \\\n",
    "    train_test_split(images, labels, test_size=0.1)\n",
    "\n",
    "# stworzenie zbioru typu Dataset z naszej listy\n",
    "train_ds = tf.data.Dataset.from_tensor_slices((X_train, y_train))\n",
    "\n",
    "# ustawienie batch_size na 32 oraz przetasowanie na bazie 1000 próbek\n",
    "train_ds = train_ds.shuffle(1000).batch(32)\n"
   ]
  },
  {
   "cell_type": "code",
   "execution_count": 5,
   "metadata": {},
   "outputs": [],
   "source": [
    "f_mnist_model = tf.keras.Sequential([\n",
    "    # spłaszczanie obrazka do wektora jednowymiarowego\n",
    "    tf.keras.layers.Flatten(input_shape=[28, 28]),\n",
    "\n",
    "    tf.keras.layers.Dense(300, activation='relu'),\n",
    "    tf.keras.layers.Dense(150, activation='relu'),\n",
    "\n",
    "    # ostatnia warstwa posiada tyle neuronów ile mamy klas\n",
    "    tf.keras.layers.Dense(10, activation='softmax')\n",
    "])"
   ]
  },
  {
   "cell_type": "code",
   "execution_count": 6,
   "metadata": {},
   "outputs": [],
   "source": [
    "f_mnist_model.compile(\n",
    "    loss='sparse_categorical_crossentropy',\n",
    "    optimizer='adam',\n",
    "    metrics=['accuracy']\n",
    ")"
   ]
  },
  {
   "cell_type": "code",
   "execution_count": 7,
   "metadata": {},
   "outputs": [
    {
     "name": "stdout",
     "output_type": "stream",
     "text": [
      "Epoch 1/10\n",
      "1688/1688 [==============================] - 8s 4ms/step - loss: 0.4854 - accuracy: 0.8250\n",
      "Epoch 2/10\n",
      "1688/1688 [==============================] - 7s 4ms/step - loss: 0.3659 - accuracy: 0.8666\n",
      "Epoch 3/10\n",
      "1688/1688 [==============================] - 7s 4ms/step - loss: 0.3275 - accuracy: 0.8796\n",
      "Epoch 4/10\n",
      "1688/1688 [==============================] - 7s 4ms/step - loss: 0.3039 - accuracy: 0.8875\n",
      "Epoch 5/10\n",
      "1688/1688 [==============================] - 7s 4ms/step - loss: 0.2850 - accuracy: 0.8950\n",
      "Epoch 6/10\n",
      "1688/1688 [==============================] - 7s 4ms/step - loss: 0.2670 - accuracy: 0.8991\n",
      "Epoch 7/10\n",
      "1688/1688 [==============================] - 10s 6ms/step - loss: 0.2542 - accuracy: 0.9047\n",
      "Epoch 8/10\n",
      "1688/1688 [==============================] - 10s 6ms/step - loss: 0.2433 - accuracy: 0.9083\n",
      "Epoch 9/10\n",
      "1688/1688 [==============================] - 9s 6ms/step - loss: 0.2302 - accuracy: 0.9133\n",
      "Epoch 10/10\n",
      "1688/1688 [==============================] - 10s 6ms/step - loss: 0.2222 - accuracy: 0.9159\n"
     ]
    }
   ],
   "source": [
    "train_stats = f_mnist_model.fit(train_ds, epochs=10, verbose=1)"
   ]
  },
  {
   "cell_type": "code",
   "execution_count": 8,
   "metadata": {},
   "outputs": [
    {
     "data": {
      "image/png": "[encoded data removed]",
      "text/plain": [
       "<Figure size 800x500 with 1 Axes>"
      ]
     },
     "metadata": {},
     "output_type": "display_data"
    }
   ],
   "source": [
    "import pandas as pd\n",
    "import matplotlib.pyplot as plt\n",
    "\n",
    "pd.DataFrame(train_stats.history).plot(figsize=(8, 5))\n",
    "plt.grid(True)\n",
    "plt.gca().set_ylim(0, 1)\n",
    "plt.show()"
   ]
  },
  {
   "cell_type": "code",
   "execution_count": null,
   "metadata": {},
   "outputs": [
    {
     "name": "stdout",
     "output_type": "stream",
     "text": [
      "188/188 [==============================] - 1s 5ms/step\n",
      "probs :  [1.1582582e-04 2.9792652e-06 1.4925958e-01 4.0836530e-06 7.7235192e-01\n",
      " 8.2509851e-13 7.8265414e-02 4.9852149e-12 1.4566315e-07 3.5447661e-10]\n",
      "klasa : 4\n",
      "rzeczywista klasa:  2\n"
     ]
    },
    {
     "data": {
      "text/plain": [
       "'\\nprobs :  [4.0548810e-15 1.0000000e+00 9.3477974e-17 5.3090128e-13 7.5702587e-15\\n 5.9295928e-25 2.1536054e-11 3.4459677e-24 2.8725664e-16 2.4974258e-22]\\nklasa : 1\\nrzeczywista klasa:  1\\n'"
      ]
     },
     "execution_count": 9,
     "metadata": {},
     "output_type": "execute_result"
    }
   ],
   "source": [
    "y_pred = f_mnist_model.predict(X_test)\n",
    "print(\"probs : \", y_pred[2])\n",
    "print(\"klasa :\", np.argmax(y_pred[2]))\n",
    "print(\"rzeczywista klasa: \", y_test[2])"
   ]
  },
  {
   "cell_type": "code",
   "execution_count": 13,
   "metadata": {},
   "outputs": [
    {
     "name": "stdout",
     "output_type": "stream",
     "text": [
      "KerasTensor(type_spec=TensorSpec(shape=(None, 28, 28), dtype=tf.float32, name='input_3'), name='input_3', description=\"created by layer 'input_3'\")\n",
      "Model: \"model_2\"\n",
      "__________________________________________________________________________________________________\n",
      " Layer (type)                   Output Shape         Param #     Connected to                     \n",
      "==================================================================================================\n",
      " input_3 (InputLayer)           [(None, 28, 28)]     0           []                               \n",
      "                                                                                                  \n",
      " flatten_3 (Flatten)            (None, 784)          0           ['input_3[0][0]']                \n",
      "                                                                                                  \n",
      " hidden_1 (Dense)               (None, 320)          251200      ['flatten_3[0][0]']              \n",
      "                                                                                                  \n",
      " hidden_2 (Dense)               (None, 150)          48150       ['hidden_1[0][0]']               \n",
      "                                                                                                  \n",
      " concatenate_2 (Concatenate)    (None, 934)          0           ['flatten_3[0][0]',              \n",
      "                                                                  'hidden_2[0][0]']               \n",
      "                                                                                                  \n",
      " dense_5 (Dense)                (None, 10)           9350        ['concatenate_2[0][0]']          \n",
      "                                                                                                  \n",
      "==================================================================================================\n",
      "Total params: 308,700\n",
      "Trainable params: 308,700\n",
      "Non-trainable params: 0\n",
      "__________________________________________________________________________________________________\n"
     ]
    }
   ],
   "source": [
    "# stworzenie wejścia\n",
    "\n",
    "input = tf.keras.Input(shape=X_train.shape[1:])\n",
    "\n",
    "# możemy wypisać, co ta warstwa przyjmuje - jest to rozmiar\n",
    "# naszego obrazka bez batch_size (który ma wartość None)\n",
    "print(input)\n",
    "\n",
    "# spłaszczenie wejścia\n",
    "input_flat = tf.keras.layers.Flatten(input_shape=[28,28])(input)\n",
    "\n",
    "# nasza kolejna warstwa jest typu Dense, jak poprzednio, ale od razu\n",
    "# i bezpośrednio przekazujemy jej wejście, tak jak funkcji w Pythonie:\n",
    "hidden_1 =tf.keras.layers.Dense(320, activation='relu', name=\"hidden_1\")(input_flat)\n",
    "hidden_2 =tf.keras.layers.Dense(150, activation='relu', name=\"hidden_2\")(hidden_1)\n",
    "\n",
    "# złączamy wyniki z obu warstw za pomocą warstwy typu Concatenate\n",
    "concat_layer = tf.keras.layers.Concatenate()([input_flat, hidden_2])\n",
    "output = tf.keras.layers.Dense(10, activation='softmax')(concat_layer)\n",
    "\n",
    "# tworzymy model, przekazując mu co ma być naszymi wyjściami, a co wejściami\n",
    "model_res = tf.keras.Model(inputs=[input], outputs=[output])\n",
    "\n",
    "# podsumowanie naszego modelu\n",
    "model_res.summary()"
   ]
  },
  {
   "cell_type": "code",
   "execution_count": 16,
   "metadata": {},
   "outputs": [
    {
     "name": "stdout",
     "output_type": "stream",
     "text": [
      "Epoch 1/30\n"
     ]
    },
    {
     "name": "stdout",
     "output_type": "stream",
     "text": [
      "1688/1688 [==============================] - 9s 5ms/step - loss: 0.4866 - accuracy: 0.8238\n",
      "Epoch 2/30\n",
      "1688/1688 [==============================] - 8s 5ms/step - loss: 0.3659 - accuracy: 0.8655\n",
      "Epoch 3/30\n",
      "1688/1688 [==============================] - 8s 5ms/step - loss: 0.3274 - accuracy: 0.8789\n",
      "Epoch 4/30\n",
      "1688/1688 [==============================] - 8s 5ms/step - loss: 0.3025 - accuracy: 0.8876\n",
      "Epoch 5/30\n",
      "1688/1688 [==============================] - 9s 6ms/step - loss: 0.2824 - accuracy: 0.8950\n",
      "Epoch 6/30\n",
      "1688/1688 [==============================] - 13s 8ms/step - loss: 0.2670 - accuracy: 0.8997\n",
      "Epoch 7/30\n",
      "1688/1688 [==============================] - 13s 8ms/step - loss: 0.2532 - accuracy: 0.9053\n",
      "Epoch 8/30\n",
      "1688/1688 [==============================] - 13s 7ms/step - loss: 0.2409 - accuracy: 0.9097\n",
      "Epoch 9/30\n",
      "1688/1688 [==============================] - 13s 8ms/step - loss: 0.2319 - accuracy: 0.9129\n",
      "Epoch 10/30\n",
      "1688/1688 [==============================] - 13s 8ms/step - loss: 0.2212 - accuracy: 0.9166\n",
      "Epoch 11/30\n",
      "1688/1688 [==============================] - 13s 8ms/step - loss: 0.2092 - accuracy: 0.9211\n",
      "Epoch 12/30\n",
      "1688/1688 [==============================] - 13s 7ms/step - loss: 0.2055 - accuracy: 0.9214\n",
      "Epoch 13/30\n",
      "1688/1688 [==============================] - 13s 8ms/step - loss: 0.1953 - accuracy: 0.9257\n",
      "Epoch 14/30\n",
      "1688/1688 [==============================] - 13s 8ms/step - loss: 0.1910 - accuracy: 0.9273\n",
      "Epoch 15/30\n",
      "1688/1688 [==============================] - 13s 8ms/step - loss: 0.1849 - accuracy: 0.9295\n",
      "Epoch 16/30\n",
      "1688/1688 [==============================] - 13s 8ms/step - loss: 0.1743 - accuracy: 0.9341\n",
      "Epoch 17/30\n",
      "1688/1688 [==============================] - 13s 8ms/step - loss: 0.1709 - accuracy: 0.9355\n",
      "Epoch 18/30\n",
      "1688/1688 [==============================] - 13s 8ms/step - loss: 0.1640 - accuracy: 0.9374\n",
      "Epoch 19/30\n",
      "1688/1688 [==============================] - 13s 8ms/step - loss: 0.1617 - accuracy: 0.9391\n",
      "Epoch 20/30\n",
      "1688/1688 [==============================] - 13s 8ms/step - loss: 0.1537 - accuracy: 0.9415\n",
      "Epoch 21/30\n",
      "1688/1688 [==============================] - 13s 8ms/step - loss: 0.1528 - accuracy: 0.9419\n",
      "Epoch 22/30\n",
      "1688/1688 [==============================] - 13s 8ms/step - loss: 0.1429 - accuracy: 0.9453\n",
      "Epoch 23/30\n",
      "1688/1688 [==============================] - 13s 8ms/step - loss: 0.1449 - accuracy: 0.9442\n",
      "Epoch 24/30\n",
      "1688/1688 [==============================] - 13s 8ms/step - loss: 0.1372 - accuracy: 0.9481\n",
      "Epoch 25/30\n",
      "1688/1688 [==============================] - 13s 8ms/step - loss: 0.1346 - accuracy: 0.9495\n",
      "Epoch 26/30\n",
      "1688/1688 [==============================] - 13s 8ms/step - loss: 0.1338 - accuracy: 0.9493\n",
      "Epoch 27/30\n",
      "1688/1688 [==============================] - 14s 8ms/step - loss: 0.1279 - accuracy: 0.9519\n",
      "Epoch 28/30\n",
      "1688/1688 [==============================] - 13s 8ms/step - loss: 0.1241 - accuracy: 0.9534\n",
      "Epoch 29/30\n",
      "1688/1688 [==============================] - 13s 8ms/step - loss: 0.1189 - accuracy: 0.9555\n",
      "Epoch 30/30\n",
      "1688/1688 [==============================] - 14s 8ms/step - loss: 0.1211 - accuracy: 0.9539\n"
     ]
    }
   ],
   "source": [
    "# kompilacja\n",
    "model_res.compile(\n",
    "    loss='sparse_categorical_crossentropy',\n",
    "    optimizer='adam',\n",
    "    metrics=['accuracy'],\n",
    ")\n",
    "\n",
    "#szkolenie na takich samych danych jak poprzednio\n",
    "train_stats = model_res.fit(train_ds, epochs=30, verbose=1)"
   ]
  },
  {
   "cell_type": "code",
   "execution_count": 17,
   "metadata": {},
   "outputs": [
    {
     "name": "stdout",
     "output_type": "stream",
     "text": [
      "188/188 [==============================] - 1s 6ms/step\n",
      "probs :  [9.1779623e-07 5.9606314e-10 5.0515139e-01 9.9084009e-06 4.5510453e-01\n",
      " 8.3512578e-15 3.9732505e-02 8.5453831e-24 5.9231729e-07 5.4826579e-15]\n",
      "klasa : 2\n",
      "rzeczywista klasa:  2\n"
     ]
    }
   ],
   "source": [
    "y_pred = model_res.predict(X_test)\n",
    "print(\"probs : \", y_pred[2])\n",
    "print(\"klasa :\", np.argmax(y_pred[2]))\n",
    "print(\"rzeczywista klasa: \", y_test[2])"
   ]
  },
  {
   "cell_type": "code",
   "execution_count": null,
   "metadata": {},
   "outputs": [
    {
     "name": "stdout",
     "output_type": "stream",
     "text": [
      "188/188 [==============================] - 1s 6ms/step - loss: 0.4794 - accuracy: 0.8878\n",
      "\n",
      "🔍 Test Accuracy: 0.8878\n",
      "📉 Test Loss: 0.4794\n"
     ]
    },
    {
     "ename": "",
     "evalue": "",
     "output_type": "error",
     "traceback": [
      "\u001b[1;31mThe Kernel crashed while executing code in the current cell or a previous cell. \n",
      "\u001b[1;31mPlease review the code in the cell(s) to identify a possible cause of the failure. \n",
      "\u001b[1;31mClick <a href='https://aka.ms/vscodeJupyterKernelCrash'>here</a> for more info. \n",
      "\u001b[1;31mView Jupyter <a href='command:jupyter.viewOutput'>log</a> for further details."
     ]
    }
   ],
   "source": [
    "test_loss, test_accuracy = model_res.evaluate(X_test, y_test, verbose=1)\n",
    "print(f\"\\n🔍 Test Accuracy: {test_accuracy:.4f}\")\n",
    "print(f\"📉 Test Loss: {test_loss:.4f}\")"
   ]
  }
 ],
 "metadata": {
  "kernelspec": {
   "display_name": "kodilla-edu",
   "language": "python",
   "name": "python3"
  },
  "language_info": {
   "codemirror_mode": {
    "name": "ipython",
    "version": 3
   },
   "file_extension": ".py",
   "mimetype": "text/x-python",
   "name": "python",
   "nbconvert_exporter": "python",
   "pygments_lexer": "ipython3",
   "version": "3.9.18"
  }
 },
 "nbformat": 4,
 "nbformat_minor": 2
}
