{
 "cells": [
  {
   "cell_type": "code",
   "execution_count": 1,
   "metadata": {},
   "outputs": [
    {
     "name": "stdout",
     "output_type": "stream",
     "text": [
      "Epoch 1/30\n"
     ]
    },
    {
     "name": "stderr",
     "output_type": "stream",
     "text": [
      "c:\\Users\\Urban\\.conda\\envs\\kodilla-edu\\lib\\site-packages\\keras\\src\\layers\\convolutional\\base_conv.py:107: UserWarning: Do not pass an `input_shape`/`input_dim` argument to a layer. When using Sequential models, prefer using an `Input(shape)` object as the first layer in the model instead.\n",
      "  super().__init__(activity_regularizer=activity_regularizer, **kwargs)\n",
      "c:\\Users\\Urban\\.conda\\envs\\kodilla-edu\\lib\\site-packages\\keras\\src\\trainers\\data_adapters\\py_dataset_adapter.py:121: UserWarning: Your `PyDataset` class should call `super().__init__(**kwargs)` in its constructor. `**kwargs` can include `workers`, `use_multiprocessing`, `max_queue_size`. Do not pass these arguments to `fit()`, as they will be ignored.\n",
      "  self._warn_if_super_not_called()\n"
     ]
    },
    {
     "name": "stdout",
     "output_type": "stream",
     "text": [
      "\u001b[1m937/937\u001b[0m \u001b[32m━━━━━━━━━━━━━━━━━━━━\u001b[0m\u001b[37m\u001b[0m \u001b[1m23s\u001b[0m 23ms/step - accuracy: 0.5895 - loss: 1.1214 - val_accuracy: 0.7792 - val_loss: 0.5573 - learning_rate: 0.0010\n",
      "Epoch 2/30\n",
      "\u001b[1m  1/937\u001b[0m \u001b[37m━━━━━━━━━━━━━━━━━━━━\u001b[0m \u001b[1m10s\u001b[0m 11ms/step - accuracy: 0.7344 - loss: 0.6709"
     ]
    },
    {
     "name": "stderr",
     "output_type": "stream",
     "text": [
      "c:\\Users\\Urban\\.conda\\envs\\kodilla-edu\\lib\\site-packages\\keras\\src\\trainers\\epoch_iterator.py:107: UserWarning: Your input ran out of data; interrupting training. Make sure that your dataset or generator can generate at least `steps_per_epoch * epochs` batches. You may need to use the `.repeat()` function when building your dataset.\n",
      "  self._interrupted_warning()\n"
     ]
    },
    {
     "name": "stdout",
     "output_type": "stream",
     "text": [
      "\u001b[1m937/937\u001b[0m \u001b[32m━━━━━━━━━━━━━━━━━━━━\u001b[0m\u001b[37m\u001b[0m \u001b[1m1s\u001b[0m 921us/step - accuracy: 0.7344 - loss: 0.6709 - val_accuracy: 0.7799 - val_loss: 0.5571 - learning_rate: 0.0010\n",
      "Epoch 3/30\n",
      "\u001b[1m937/937\u001b[0m \u001b[32m━━━━━━━━━━━━━━━━━━━━\u001b[0m\u001b[37m\u001b[0m \u001b[1m25s\u001b[0m 27ms/step - accuracy: 0.7496 - loss: 0.6695 - val_accuracy: 0.8260 - val_loss: 0.4694 - learning_rate: 0.0010\n",
      "Epoch 4/30\n",
      "\u001b[1m937/937\u001b[0m \u001b[32m━━━━━━━━━━━━━━━━━━━━\u001b[0m\u001b[37m\u001b[0m \u001b[1m1s\u001b[0m 931us/step - accuracy: 0.8125 - loss: 0.6107 - val_accuracy: 0.8288 - val_loss: 0.4644 - learning_rate: 0.0010\n",
      "Epoch 5/30\n",
      "\u001b[1m937/937\u001b[0m \u001b[32m━━━━━━━━━━━━━━━━━━━━\u001b[0m\u001b[37m\u001b[0m \u001b[1m25s\u001b[0m 27ms/step - accuracy: 0.7760 - loss: 0.6008 - val_accuracy: 0.8340 - val_loss: 0.4378 - learning_rate: 0.0010\n",
      "Epoch 6/30\n",
      "\u001b[1m937/937\u001b[0m \u001b[32m━━━━━━━━━━━━━━━━━━━━\u001b[0m\u001b[37m\u001b[0m \u001b[1m1s\u001b[0m 921us/step - accuracy: 0.9062 - loss: 0.4174 - val_accuracy: 0.8342 - val_loss: 0.4351 - learning_rate: 0.0010\n",
      "Epoch 7/30\n",
      "\u001b[1m937/937\u001b[0m \u001b[32m━━━━━━━━━━━━━━━━━━━━\u001b[0m\u001b[37m\u001b[0m \u001b[1m14s\u001b[0m 15ms/step - accuracy: 0.7975 - loss: 0.5482 - val_accuracy: 0.8493 - val_loss: 0.4021 - learning_rate: 0.0010\n",
      "Epoch 8/30\n",
      "\u001b[1m937/937\u001b[0m \u001b[32m━━━━━━━━━━━━━━━━━━━━\u001b[0m\u001b[37m\u001b[0m \u001b[1m0s\u001b[0m 518us/step - accuracy: 0.8281 - loss: 0.3767 - val_accuracy: 0.8483 - val_loss: 0.4043 - learning_rate: 0.0010\n",
      "Epoch 9/30\n",
      "\u001b[1m937/937\u001b[0m \u001b[32m━━━━━━━━━━━━━━━━━━━━\u001b[0m\u001b[37m\u001b[0m \u001b[1m11s\u001b[0m 12ms/step - accuracy: 0.8097 - loss: 0.5129 - val_accuracy: 0.8616 - val_loss: 0.3731 - learning_rate: 0.0010\n",
      "Epoch 10/30\n",
      "\u001b[1m937/937\u001b[0m \u001b[32m━━━━━━━━━━━━━━━━━━━━\u001b[0m\u001b[37m\u001b[0m \u001b[1m1s\u001b[0m 628us/step - accuracy: 0.8906 - loss: 0.3366 - val_accuracy: 0.8612 - val_loss: 0.3732 - learning_rate: 0.0010\n",
      "Epoch 11/30\n",
      "\u001b[1m937/937\u001b[0m \u001b[32m━━━━━━━━━━━━━━━━━━━━\u001b[0m\u001b[37m\u001b[0m \u001b[1m11s\u001b[0m 12ms/step - accuracy: 0.8177 - loss: 0.4962 - val_accuracy: 0.8688 - val_loss: 0.3579 - learning_rate: 0.0010\n",
      "Epoch 12/30\n",
      "\u001b[1m937/937\u001b[0m \u001b[32m━━━━━━━━━━━━━━━━━━━━\u001b[0m\u001b[37m\u001b[0m \u001b[1m1s\u001b[0m 652us/step - accuracy: 0.7969 - loss: 0.3619 - val_accuracy: 0.8694 - val_loss: 0.3592 - learning_rate: 0.0010\n",
      "Epoch 13/30\n",
      "\u001b[1m937/937\u001b[0m \u001b[32m━━━━━━━━━━━━━━━━━━━━\u001b[0m\u001b[37m\u001b[0m \u001b[1m11s\u001b[0m 12ms/step - accuracy: 0.8262 - loss: 0.4716 - val_accuracy: 0.8651 - val_loss: 0.3653 - learning_rate: 0.0010\n",
      "Epoch 14/30\n",
      "\u001b[1m  1/937\u001b[0m \u001b[37m━━━━━━━━━━━━━━━━━━━━\u001b[0m \u001b[1m5s\u001b[0m 6ms/step - accuracy: 0.8125 - loss: 0.5542\n",
      "Epoch 14: ReduceLROnPlateau reducing learning rate to 0.0005000000237487257.\n",
      "\u001b[1m937/937\u001b[0m \u001b[32m━━━━━━━━━━━━━━━━━━━━\u001b[0m\u001b[37m\u001b[0m \u001b[1m1s\u001b[0m 712us/step - accuracy: 0.8125 - loss: 0.5542 - val_accuracy: 0.8652 - val_loss: 0.3681 - learning_rate: 0.0010\n",
      "Epoch 15/30\n",
      "\u001b[1m937/937\u001b[0m \u001b[32m━━━━━━━━━━━━━━━━━━━━\u001b[0m\u001b[37m\u001b[0m \u001b[1m11s\u001b[0m 12ms/step - accuracy: 0.8366 - loss: 0.4447 - val_accuracy: 0.8757 - val_loss: 0.3345 - learning_rate: 5.0000e-04\n",
      "Epoch 16/30\n",
      "\u001b[1m937/937\u001b[0m \u001b[32m━━━━━━━━━━━━━━━━━━━━\u001b[0m\u001b[37m\u001b[0m \u001b[1m1s\u001b[0m 653us/step - accuracy: 0.8594 - loss: 0.3721 - val_accuracy: 0.8753 - val_loss: 0.3326 - learning_rate: 5.0000e-04\n",
      "Epoch 17/30\n",
      "\u001b[1m937/937\u001b[0m \u001b[32m━━━━━━━━━━━━━━━━━━━━\u001b[0m\u001b[37m\u001b[0m \u001b[1m11s\u001b[0m 12ms/step - accuracy: 0.8445 - loss: 0.4221 - val_accuracy: 0.8800 - val_loss: 0.3278 - learning_rate: 5.0000e-04\n",
      "Epoch 18/30\n",
      "\u001b[1m937/937\u001b[0m \u001b[32m━━━━━━━━━━━━━━━━━━━━\u001b[0m\u001b[37m\u001b[0m \u001b[1m1s\u001b[0m 648us/step - accuracy: 0.9219 - loss: 0.3064 - val_accuracy: 0.8778 - val_loss: 0.3306 - learning_rate: 5.0000e-04\n",
      "Epoch 19/30\n",
      "\u001b[1m937/937\u001b[0m \u001b[32m━━━━━━━━━━━━━━━━━━━━\u001b[0m\u001b[37m\u001b[0m \u001b[1m11s\u001b[0m 11ms/step - accuracy: 0.8437 - loss: 0.4297 - val_accuracy: 0.8785 - val_loss: 0.3303 - learning_rate: 5.0000e-04\n",
      "Epoch 20/30\n",
      "\u001b[1m  1/937\u001b[0m \u001b[37m━━━━━━━━━━━━━━━━━━━━\u001b[0m \u001b[1m4s\u001b[0m 5ms/step - accuracy: 0.8594 - loss: 0.4238\n",
      "Epoch 20: ReduceLROnPlateau reducing learning rate to 0.0002500000118743628.\n",
      "\u001b[1m937/937\u001b[0m \u001b[32m━━━━━━━━━━━━━━━━━━━━\u001b[0m\u001b[37m\u001b[0m \u001b[1m0s\u001b[0m 518us/step - accuracy: 0.8594 - loss: 0.4238 - val_accuracy: 0.8765 - val_loss: 0.3303 - learning_rate: 5.0000e-04\n",
      "Epoch 21/30\n",
      "\u001b[1m937/937\u001b[0m \u001b[32m━━━━━━━━━━━━━━━━━━━━\u001b[0m\u001b[37m\u001b[0m \u001b[1m11s\u001b[0m 11ms/step - accuracy: 0.8531 - loss: 0.4045 - val_accuracy: 0.8804 - val_loss: 0.3202 - learning_rate: 2.5000e-04\n",
      "Epoch 22/30\n",
      "\u001b[1m937/937\u001b[0m \u001b[32m━━━━━━━━━━━━━━━━━━━━\u001b[0m\u001b[37m\u001b[0m \u001b[1m1s\u001b[0m 550us/step - accuracy: 0.7812 - loss: 0.5809 - val_accuracy: 0.8804 - val_loss: 0.3211 - learning_rate: 2.5000e-04\n",
      "Epoch 23/30\n",
      "\u001b[1m937/937\u001b[0m \u001b[32m━━━━━━━━━━━━━━━━━━━━\u001b[0m\u001b[37m\u001b[0m \u001b[1m11s\u001b[0m 11ms/step - accuracy: 0.8501 - loss: 0.4119 - val_accuracy: 0.8786 - val_loss: 0.3318 - learning_rate: 2.5000e-04\n",
      "Epoch 24/30\n",
      "\u001b[1m  1/937\u001b[0m \u001b[37m━━━━━━━━━━━━━━━━━━━━\u001b[0m \u001b[1m3s\u001b[0m 4ms/step - accuracy: 0.8594 - loss: 0.2646\n",
      "Epoch 24: ReduceLROnPlateau reducing learning rate to 0.0001250000059371814.\n",
      "\u001b[1m937/937\u001b[0m \u001b[32m━━━━━━━━━━━━━━━━━━━━\u001b[0m\u001b[37m\u001b[0m \u001b[1m1s\u001b[0m 613us/step - accuracy: 0.8594 - loss: 0.2646 - val_accuracy: 0.8790 - val_loss: 0.3309 - learning_rate: 2.5000e-04\n",
      "Epoch 25/30\n",
      "\u001b[1m937/937\u001b[0m \u001b[32m━━━━━━━━━━━━━━━━━━━━\u001b[0m\u001b[37m\u001b[0m \u001b[1m11s\u001b[0m 11ms/step - accuracy: 0.8577 - loss: 0.3945 - val_accuracy: 0.8826 - val_loss: 0.3175 - learning_rate: 1.2500e-04\n",
      "Epoch 26/30\n",
      "\u001b[1m937/937\u001b[0m \u001b[32m━━━━━━━━━━━━━━━━━━━━\u001b[0m\u001b[37m\u001b[0m \u001b[1m0s\u001b[0m 511us/step - accuracy: 0.8125 - loss: 0.5401 - val_accuracy: 0.8830 - val_loss: 0.3177 - learning_rate: 1.2500e-04\n",
      "Epoch 27/30\n",
      "\u001b[1m937/937\u001b[0m \u001b[32m━━━━━━━━━━━━━━━━━━━━\u001b[0m\u001b[37m\u001b[0m \u001b[1m11s\u001b[0m 12ms/step - accuracy: 0.8590 - loss: 0.3897 - val_accuracy: 0.8810 - val_loss: 0.3176 - learning_rate: 1.2500e-04\n",
      "Epoch 28/30\n",
      "\u001b[1m937/937\u001b[0m \u001b[32m━━━━━━━━━━━━━━━━━━━━\u001b[0m\u001b[37m\u001b[0m \u001b[1m1s\u001b[0m 627us/step - accuracy: 0.7969 - loss: 0.6679 - val_accuracy: 0.8817 - val_loss: 0.3172 - learning_rate: 1.2500e-04\n",
      "Epoch 29/30\n",
      "\u001b[1m937/937\u001b[0m \u001b[32m━━━━━━━━━━━━━━━━━━━━\u001b[0m\u001b[37m\u001b[0m \u001b[1m11s\u001b[0m 11ms/step - accuracy: 0.8613 - loss: 0.3806 - val_accuracy: 0.8866 - val_loss: 0.3087 - learning_rate: 1.2500e-04\n",
      "Epoch 30/30\n",
      "\u001b[1m937/937\u001b[0m \u001b[32m━━━━━━━━━━━━━━━━━━━━\u001b[0m\u001b[37m\u001b[0m \u001b[1m1s\u001b[0m 569us/step - accuracy: 0.8594 - loss: 0.5206 - val_accuracy: 0.8855 - val_loss: 0.3093 - learning_rate: 1.2500e-04\n",
      "Restoring model weights from the end of the best epoch: 29.\n",
      "Test accuracy: 0.8866\n"
     ]
    }
   ],
   "source": [
    "import tensorflow as tf\n",
    "from tensorflow.keras.models import Sequential\n",
    "from tensorflow.keras.layers import Conv2D, MaxPooling2D, Flatten, Dense, Dropout\n",
    "from tensorflow.keras.preprocessing.image import ImageDataGenerator\n",
    "from tensorflow.keras.callbacks import ReduceLROnPlateau, EarlyStopping\n",
    "\n",
    "# 1. Load dataset\n",
    "(X_train, y_train), (X_test, y_test) = tf.keras.datasets.fashion_mnist.load_data()\n",
    "\n",
    "# 2. Preprocess data: reshape to include channel and normalize to [0,1]\n",
    "X_train = X_train.reshape(-1, 28, 28, 1).astype('float32') / 255.0\n",
    "X_test  = X_test.reshape(-1, 28, 28, 1).astype('float32') / 255.0\n",
    "\n",
    "# 3. Set up data augmentation\n",
    "datagen = ImageDataGenerator(\n",
    "    rotation_range=15,      # small rotations up to 15 degrees\n",
    "    width_shift_range=0.1,  # translate horizontally by ±10% of width\n",
    "    height_shift_range=0.1, # translate vertically by ±10% of height\n",
    "    zoom_range=0.1,         # zoom in/out by ±10%\n",
    "    horizontal_flip=True    # random horizontal flip\n",
    "    # Note: vertical_flip is avoided to keep orientation realistic\n",
    ")\n",
    "datagen.fit(X_train)  # fit generator (not always necessary here, but required if using featurewise stats)\n",
    "\n",
    "# 4. Build the CNN model (example architecture)\n",
    "model = Sequential([\n",
    "    Conv2D(32, kernel_size=(3,3), activation='relu', input_shape=(28,28,1)),\n",
    "    MaxPooling2D(pool_size=(2,2)),\n",
    "    Conv2D(64, kernel_size=(3,3), activation='relu'),\n",
    "    MaxPooling2D(pool_size=(2,2)),\n",
    "    Flatten(),\n",
    "    Dense(128, activation='relu'),\n",
    "    Dropout(0.5),  # dropout for regularization\n",
    "    Dense(10, activation='softmax')\n",
    "])\n",
    "\n",
    "# 5. Compile the model with an improved optimizer and appropriate loss\n",
    "optimizer = tf.keras.optimizers.Adam(learning_rate=0.001)\n",
    "# (Alternatively, use Nadam for even potentially higher accuracy: tf.keras.optimizers.Nadam(lr=0.001))\n",
    "model.compile(optimizer=optimizer, loss='sparse_categorical_crossentropy', metrics=['accuracy'])\n",
    "\n",
    "# 6. Define learning rate scheduler and early stopping callbacks\n",
    "lr_scheduler = ReduceLROnPlateau(monitor='val_loss', factor=0.5, patience=3, verbose=1)\n",
    "early_stop   = EarlyStopping(monitor='val_loss', patience=5, restore_best_weights=True, verbose=1)\n",
    "\n",
    "# 7. Train the model with data augmentation\n",
    "history = model.fit(\n",
    "    datagen.flow(X_train, y_train, batch_size=64),\n",
    "    steps_per_epoch = len(X_train) // 64,              # number of batches per epoch\n",
    "    validation_data = (X_test, y_test),\n",
    "    epochs=30,                                         # set upper bound; training may stop earlier due to early stopping\n",
    "    callbacks=[lr_scheduler, early_stop]\n",
    ")\n",
    "\n",
    "# After training, evaluate on test set\n",
    "test_loss, test_acc = model.evaluate(X_test, y_test, verbose=0)\n",
    "print(f\"Test accuracy: {test_acc:.4f}\")"
   ]
  }
 ],
 "metadata": {
  "kernelspec": {
   "display_name": "kodilla-edu",
   "language": "python",
   "name": "python3"
  },
  "language_info": {
   "codemirror_mode": {
    "name": "ipython",
    "version": 3
   },
   "file_extension": ".py",
   "mimetype": "text/x-python",
   "name": "python",
   "nbconvert_exporter": "python",
   "pygments_lexer": "ipython3",
   "version": "3.9.18"
  }
 },
 "nbformat": 4,
 "nbformat_minor": 2
}
