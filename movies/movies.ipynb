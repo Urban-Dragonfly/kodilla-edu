{
 "cells": [
  {
   "cell_type": "markdown",
   "metadata": {},
   "source": [
    "# Baza filmów"
   ]
  },
  {
   "cell_type": "markdown",
   "metadata": {},
   "source": [
    "#### Zaimportowanie bibliotek"
   ]
  },
  {
   "cell_type": "code",
   "execution_count": 1,
   "metadata": {},
   "outputs": [],
   "source": [
    "import pandas as pd\n",
    "import numpy as np\n",
    "import matplotlib.pyplot as plt\n",
    "import datetime as dt"
   ]
  },
  {
   "cell_type": "markdown",
   "metadata": {},
   "source": [
    "#### Załadowanie danych"
   ]
  },
  {
   "cell_type": "code",
   "execution_count": 2,
   "metadata": {},
   "outputs": [],
   "source": [
    "genres = 'tmdb_genres.csv'\n",
    "movies = 'tmdb_movies.csv'\n",
    "genres_df = pd.read_csv(genres)\n",
    "movies_df = pd.read_csv(movies)"
   ]
  },
  {
   "cell_type": "markdown",
   "metadata": {},
   "source": [
    "#### Przygotowanie danych"
   ]
  },
  {
   "cell_type": "code",
   "execution_count": 3,
   "metadata": {},
   "outputs": [
    {
     "data": {
      "text/html": [
       "<div>\n",
       "<style scoped>\n",
       "    .dataframe tbody tr th:only-of-type {\n",
       "        vertical-align: middle;\n",
       "    }\n",
       "\n",
       "    .dataframe tbody tr th {\n",
       "        vertical-align: top;\n",
       "    }\n",
       "\n",
       "    .dataframe thead th {\n",
       "        text-align: right;\n",
       "    }\n",
       "</style>\n",
       "<table border=\"1\" class=\"dataframe\">\n",
       "  <thead>\n",
       "    <tr style=\"text-align: right;\">\n",
       "      <th></th>\n",
       "      <th>budget</th>\n",
       "      <th>release_date</th>\n",
       "      <th>revenue</th>\n",
       "      <th>runtime</th>\n",
       "      <th>title</th>\n",
       "      <th>vote_average</th>\n",
       "      <th>vote_count</th>\n",
       "      <th>genres</th>\n",
       "    </tr>\n",
       "  </thead>\n",
       "  <tbody>\n",
       "    <tr>\n",
       "      <th>0</th>\n",
       "      <td>237000000</td>\n",
       "      <td>2009-12-10</td>\n",
       "      <td>2787965087</td>\n",
       "      <td>162.0</td>\n",
       "      <td>Avatar</td>\n",
       "      <td>7.2</td>\n",
       "      <td>11800</td>\n",
       "      <td>Action</td>\n",
       "    </tr>\n",
       "    <tr>\n",
       "      <th>1</th>\n",
       "      <td>300000000</td>\n",
       "      <td>2007-05-19</td>\n",
       "      <td>961000000</td>\n",
       "      <td>169.0</td>\n",
       "      <td>Pirates of the Caribbean: At World's End</td>\n",
       "      <td>6.9</td>\n",
       "      <td>4500</td>\n",
       "      <td>Adventure</td>\n",
       "    </tr>\n",
       "    <tr>\n",
       "      <th>2</th>\n",
       "      <td>245000000</td>\n",
       "      <td>2015-10-26</td>\n",
       "      <td>880674609</td>\n",
       "      <td>148.0</td>\n",
       "      <td>Spectre</td>\n",
       "      <td>6.3</td>\n",
       "      <td>4466</td>\n",
       "      <td>Action</td>\n",
       "    </tr>\n",
       "    <tr>\n",
       "      <th>3</th>\n",
       "      <td>250000000</td>\n",
       "      <td>2012-07-16</td>\n",
       "      <td>1084939099</td>\n",
       "      <td>165.0</td>\n",
       "      <td>The Dark Knight Rises</td>\n",
       "      <td>7.6</td>\n",
       "      <td>9106</td>\n",
       "      <td>Action</td>\n",
       "    </tr>\n",
       "    <tr>\n",
       "      <th>4</th>\n",
       "      <td>260000000</td>\n",
       "      <td>2012-03-07</td>\n",
       "      <td>284139100</td>\n",
       "      <td>132.0</td>\n",
       "      <td>John Carter</td>\n",
       "      <td>6.1</td>\n",
       "      <td>2124</td>\n",
       "      <td>Action</td>\n",
       "    </tr>\n",
       "    <tr>\n",
       "      <th>...</th>\n",
       "      <td>...</td>\n",
       "      <td>...</td>\n",
       "      <td>...</td>\n",
       "      <td>...</td>\n",
       "      <td>...</td>\n",
       "      <td>...</td>\n",
       "      <td>...</td>\n",
       "      <td>...</td>\n",
       "    </tr>\n",
       "    <tr>\n",
       "      <th>4798</th>\n",
       "      <td>220000</td>\n",
       "      <td>1992-09-04</td>\n",
       "      <td>2040920</td>\n",
       "      <td>81.0</td>\n",
       "      <td>El Mariachi</td>\n",
       "      <td>6.6</td>\n",
       "      <td>238</td>\n",
       "      <td>Action</td>\n",
       "    </tr>\n",
       "    <tr>\n",
       "      <th>4799</th>\n",
       "      <td>9000</td>\n",
       "      <td>2011-12-26</td>\n",
       "      <td>0</td>\n",
       "      <td>85.0</td>\n",
       "      <td>Newlyweds</td>\n",
       "      <td>5.9</td>\n",
       "      <td>5</td>\n",
       "      <td>Comedy</td>\n",
       "    </tr>\n",
       "    <tr>\n",
       "      <th>4800</th>\n",
       "      <td>0</td>\n",
       "      <td>2013-10-13</td>\n",
       "      <td>0</td>\n",
       "      <td>120.0</td>\n",
       "      <td>Signed, Sealed, Delivered</td>\n",
       "      <td>7.0</td>\n",
       "      <td>6</td>\n",
       "      <td>Comedy</td>\n",
       "    </tr>\n",
       "    <tr>\n",
       "      <th>4801</th>\n",
       "      <td>0</td>\n",
       "      <td>2012-05-03</td>\n",
       "      <td>0</td>\n",
       "      <td>98.0</td>\n",
       "      <td>Shanghai Calling</td>\n",
       "      <td>5.7</td>\n",
       "      <td>7</td>\n",
       "      <td>NaN</td>\n",
       "    </tr>\n",
       "    <tr>\n",
       "      <th>4802</th>\n",
       "      <td>0</td>\n",
       "      <td>2005-08-05</td>\n",
       "      <td>0</td>\n",
       "      <td>90.0</td>\n",
       "      <td>My Date with Drew</td>\n",
       "      <td>6.3</td>\n",
       "      <td>16</td>\n",
       "      <td>Documentary</td>\n",
       "    </tr>\n",
       "  </tbody>\n",
       "</table>\n",
       "<p>4803 rows × 8 columns</p>\n",
       "</div>"
      ],
      "text/plain": [
       "         budget release_date     revenue  runtime  \\\n",
       "0     237000000   2009-12-10  2787965087    162.0   \n",
       "1     300000000   2007-05-19   961000000    169.0   \n",
       "2     245000000   2015-10-26   880674609    148.0   \n",
       "3     250000000   2012-07-16  1084939099    165.0   \n",
       "4     260000000   2012-03-07   284139100    132.0   \n",
       "...         ...          ...         ...      ...   \n",
       "4798     220000   1992-09-04     2040920     81.0   \n",
       "4799       9000   2011-12-26           0     85.0   \n",
       "4800          0   2013-10-13           0    120.0   \n",
       "4801          0   2012-05-03           0     98.0   \n",
       "4802          0   2005-08-05           0     90.0   \n",
       "\n",
       "                                         title  vote_average  vote_count  \\\n",
       "0                                       Avatar           7.2       11800   \n",
       "1     Pirates of the Caribbean: At World's End           6.9        4500   \n",
       "2                                      Spectre           6.3        4466   \n",
       "3                        The Dark Knight Rises           7.6        9106   \n",
       "4                                  John Carter           6.1        2124   \n",
       "...                                        ...           ...         ...   \n",
       "4798                               El Mariachi           6.6         238   \n",
       "4799                                 Newlyweds           5.9           5   \n",
       "4800                 Signed, Sealed, Delivered           7.0           6   \n",
       "4801                          Shanghai Calling           5.7           7   \n",
       "4802                         My Date with Drew           6.3          16   \n",
       "\n",
       "           genres  \n",
       "0          Action  \n",
       "1       Adventure  \n",
       "2          Action  \n",
       "3          Action  \n",
       "4          Action  \n",
       "...           ...  \n",
       "4798       Action  \n",
       "4799       Comedy  \n",
       "4800       Comedy  \n",
       "4801          NaN  \n",
       "4802  Documentary  \n",
       "\n",
       "[4803 rows x 8 columns]"
      ]
     },
     "execution_count": 3,
     "metadata": {},
     "output_type": "execute_result"
    }
   ],
   "source": [
    "movies_df = movies_df.drop(columns=['Unnamed: 0', 'homepage', 'id', 'original_language', 'overview', 'popularity', 'status', 'tagline', 'original_title'])\n",
    "genres_df = genres_df.rename(columns={'Unnamed: 0': 'genre_id'})\n",
    "movies_df = movies_df.merge(genres_df, on='genre_id')\n",
    "movies_df.drop(columns=['genre_id'], inplace=True)\n",
    "movies_df"
   ]
  },
  {
   "cell_type": "markdown",
   "metadata": {},
   "source": [
    "#### Ćwiczenia:"
   ]
  },
  {
   "cell_type": "markdown",
   "metadata": {},
   "source": [
    "Zwróć listę 10 najwyżej ocenianych filmów (vote_average), których liczba głosów (vote_count) jest większa od 3. kwartyla rozkładu liczby głosów."
   ]
  },
  {
   "cell_type": "code",
   "execution_count": 4,
   "metadata": {},
   "outputs": [
    {
     "data": {
      "text/plain": [
       "['The Shawshank Redemption',\n",
       " 'The Godfather',\n",
       " 'Spirited Away',\n",
       " 'Whiplash',\n",
       " 'The Godfather: Part II',\n",
       " 'Pulp Fiction',\n",
       " \"Schindler's List\",\n",
       " 'Fight Club',\n",
       " 'Psycho',\n",
       " 'GoodFellas']"
      ]
     },
     "execution_count": 4,
     "metadata": {},
     "output_type": "execute_result"
    }
   ],
   "source": [
    "third_quartile = movies_df['vote_count'].quantile(0.75)\n",
    "\n",
    "popular_movies = movies_df[movies_df['vote_count'] > third_quartile]\n",
    "\n",
    "top_10_movies = popular_movies.sort_values(by='vote_average', ascending=False).head(10)\n",
    "\n",
    "top_10_movies['title'].tolist()\n"
   ]
  },
  {
   "cell_type": "markdown",
   "metadata": {},
   "source": [
    "Pogrupuj tabelę w taki sposób, aby otrzymać średni przychód (revenue) oraz średni budżet (budget) w danym roku dla filmów opublikowanych od 2010 (włącznie) do 2016 roku (włącznie). Następnie na tej podstawie stwórz wykres, w którym średnie przychody są wykresem kolumnowym, a średni budżet wykresem liniowym na tych samych osiach. Sformatuj odpowiednio oś X oraz oś Y. Dodaj tytuł wykresu, oraz legendę, która znajduje się w prawym górnym rogu płótna, lecz poza obszarem osi. Przykład wykresu widoczny poniżej:"
   ]
  },
  {
   "cell_type": "code",
   "execution_count": 5,
   "metadata": {
    "vscode": {
     "languageId": "ruby"
    }
   },
   "outputs": [
    {
     "data": {
      "image/png": "[encoded data removed]",
      "text/plain": [
       "<Figure size 640x480 with 2 Axes>"
      ]
     },
     "metadata": {},
     "output_type": "display_data"
    }
   ],
   "source": [
    "# Zmiana liczb na USD\n",
    "def usd(x, pos):\n",
    "    return '${:,.0f}'.format(x)\n",
    "\n",
    "# Dodanie kolumny 'release_year' na podstawie kolumny 'release_date'\n",
    "movies_df['release_year'] = pd.to_datetime(movies_df['release_date']).dt.year\n",
    "\n",
    "# Wybór danych z lat 2010-2016\n",
    "filtered_movies_df = movies_df[(movies_df['release_year'] >= 2010) & (movies_df['release_year'] <= 2016)]\n",
    "\n",
    "# Wyliczenie średnich budżetu i przychodu\n",
    "mean_budget_revenue_per_year = filtered_movies_df.groupby('release_year')[['budget', 'revenue']].mean()\n",
    "\n",
    "# Stworzenie wykresu i osi\n",
    "fig, ax1 = plt.subplots()\n",
    "\n",
    "# Stworzenie drugiej osi\n",
    "ax2 = ax1.twinx()\n",
    "\n",
    "# Dodanie wykresu słupkowego dla średniego przychodu\n",
    "ax1.bar(mean_budget_revenue_per_year.index, mean_budget_revenue_per_year['revenue'], color='b', label='Przychód')\n",
    "\n",
    "# Dodanie wykresu liniowego dla średniego budżetu\n",
    "ax2.plot(mean_budget_revenue_per_year.index, mean_budget_revenue_per_year['budget'], color='r', marker='o', label='Budżet')\n",
    "\n",
    "# Dodanie etykiety dla osi y wykresu słupkowego\n",
    "ax1.yaxis.set_major_formatter(plt.FuncFormatter(usd))\n",
    "\n",
    "# Schowanie osi y dla drugiego wykresu\n",
    "ax2.yaxis.set_visible(False)\n",
    "\n",
    "# Dodanie etykiet dla osi x\n",
    "ax1.set_xlabel('Rok')\n",
    "\n",
    "# Określenie zakresu wartości na osi y\n",
    "max_value = max(mean_budget_revenue_per_year['budget'].max(), mean_budget_revenue_per_year['revenue'].max())\n",
    "ax1.set_ylim(0, max_value * 1.1)\n",
    "ax2.set_ylim(0, max_value * 1.1)\n",
    "\n",
    "# Dodanie tytułu\n",
    "fig.suptitle('Średni budżet i przychód filmów w latach 2010-2016')\n",
    "\n",
    "# Dodanie legendy\n",
    "fig.legend(loc='upper right', bbox_to_anchor=(1.1, 0.9))\n",
    "\n",
    "# Pokazanie wykresu\n",
    "plt.show()\n",
    "\n"
   ]
  },
  {
   "cell_type": "markdown",
   "metadata": {},
   "source": [
    "Jaki gatunek filmu z bazy pojawia się w niej najczęściej? Ile filmów tego gatunku znajduje się w bazie?"
   ]
  },
  {
   "cell_type": "code",
   "execution_count": 6,
   "metadata": {},
   "outputs": [
    {
     "data": {
      "text/plain": [
       "('Drama', 1207)"
      ]
     },
     "execution_count": 6,
     "metadata": {},
     "output_type": "execute_result"
    }
   ],
   "source": [
    "most_frequent_genre = movies_df['genres'].mode()[0]\n",
    "\n",
    "genre_count = movies_df[movies_df['genres'] == most_frequent_genre].shape[0]\n",
    "\n",
    "most_frequent_genre, genre_count"
   ]
  },
  {
   "cell_type": "markdown",
   "metadata": {},
   "source": [
    "Filmy, którego gatunku trwają średnio najdłużej (runtime)?"
   ]
  },
  {
   "cell_type": "code",
   "execution_count": 7,
   "metadata": {},
   "outputs": [
    {
     "name": "stdout",
     "output_type": "stream",
     "text": [
      "History 133.96\n"
     ]
    }
   ],
   "source": [
    "mean_runtime_per_genre = movies_df.groupby('genres')['runtime'].mean()\n",
    "\n",
    "longest_runtime_genre = mean_runtime_per_genre.idxmax()\n",
    "longest_runtime = mean_runtime_per_genre.max()\n",
    "\n",
    "print(longest_runtime_genre, longest_runtime)"
   ]
  },
  {
   "cell_type": "markdown",
   "metadata": {},
   "source": [
    "Stwórz histogram czasu trwania filmów z gatunku, który cechuje się największym średnim czasem trwania."
   ]
  },
  {
   "cell_type": "code",
   "execution_count": 8,
   "metadata": {},
   "outputs": [
    {
     "data": {
      "image/png": "[encoded data removed]",
      "text/plain": [
       "<Figure size 640x480 with 1 Axes>"
      ]
     },
     "metadata": {},
     "output_type": "display_data"
    }
   ],
   "source": [
    "longest_films = movies_df[movies_df['genres'] == longest_runtime_genre]\n",
    "\n",
    "plt.hist(longest_films['runtime'], bins=10, edgecolor='black')\n",
    "\n",
    "plt.xlabel('Długośc filmu')\n",
    "plt.ylabel('Ilość filmów')\n",
    "plt.gca().yaxis.set_major_locator(plt.MaxNLocator(integer=True))\n",
    "plt.title(f'Histogram filmów z gatunku {longest_runtime_genre}')\n",
    "\n",
    "plt.show()"
   ]
  }
 ],
 "metadata": {
  "kernelspec": {
   "display_name": "kodilla-edu",
   "language": "python",
   "name": "python3"
  },
  "language_info": {
   "codemirror_mode": {
    "name": "ipython",
    "version": 3
   },
   "file_extension": ".py",
   "mimetype": "text/x-python",
   "name": "python",
   "nbconvert_exporter": "python",
   "pygments_lexer": "ipython3",
   "version": "3.9.20"
  }
 },
 "nbformat": 4,
 "nbformat_minor": 2
}
